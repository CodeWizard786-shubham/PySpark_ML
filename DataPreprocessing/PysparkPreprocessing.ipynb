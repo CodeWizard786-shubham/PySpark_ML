{
 "cells": [
  {
   "cell_type": "markdown",
   "metadata": {},
   "source": [
    "# Pyspark Preprocessing for linear Regression"
   ]
  },
  {
   "cell_type": "markdown",
   "metadata": {},
   "source": [
    "Define libraries"
   ]
  },
  {
   "cell_type": "code",
   "execution_count": 93,
   "metadata": {},
   "outputs": [],
   "source": [
    "# import libraries\n",
    "\n",
    "from pyspark.sql import SparkSession\n",
    "from pyspark.sql.functions import col,isnan,count,when ,mean\n",
    "\n",
    "from pyspark.ml.feature import StringIndexer , OneHotEncoder\n"
   ]
  },
  {
   "cell_type": "markdown",
   "metadata": {},
   "source": [
    "Read input csv file"
   ]
  },
  {
   "cell_type": "code",
   "execution_count": 94,
   "metadata": {},
   "outputs": [
    {
     "name": "stdout",
     "output_type": "stream",
     "text": [
      "+-------+----+------+---------+\n",
      "|Country| Age|Salary|Purchased|\n",
      "+-------+----+------+---------+\n",
      "| France|  44| 72000|       No|\n",
      "|  Spain|  27| 48000|      Yes|\n",
      "|Germany|  30| 54000|       No|\n",
      "|  Spain|  38| 61000|       No|\n",
      "|Germany|  40|  null|      Yes|\n",
      "| France|  35| 58000|      Yes|\n",
      "|  Spain|null| 52000|       No|\n",
      "| France|  48| 79000|      Yes|\n",
      "|Germany|  50| 83000|       No|\n",
      "| France|  37| 67000|      Yes|\n",
      "+-------+----+------+---------+\n",
      "\n"
     ]
    }
   ],
   "source": [
    "# Read csv file\n",
    "spark = SparkSession.builder.appName(\"PysparkProcessing\").config(\"spark.driver.bindAddress\", \"10.0.2.15\").getOrCreate()\n",
    "\n",
    "pyspark_df = spark.read.csv(\"data_preprocessing.csv\",header=True,inferSchema=True)\n",
    "\n",
    "pyspark_df.show()"
   ]
  },
  {
   "cell_type": "code",
   "execution_count": 95,
   "metadata": {},
   "outputs": [
    {
     "name": "stdout",
     "output_type": "stream",
     "text": [
      "DataFrame Shape: (10, 4)\n"
     ]
    }
   ],
   "source": [
    "# Display row and column count\n",
    "row_count = pyspark_df.count()\n",
    "column_count = len(pyspark_df.columns)\n",
    "print(f\"DataFrame Shape: ({row_count}, {column_count})\")"
   ]
  },
  {
   "cell_type": "code",
   "execution_count": 96,
   "metadata": {},
   "outputs": [
    {
     "name": "stdout",
     "output_type": "stream",
     "text": [
      "+-------+-------+-----------------+------------------+---------+\n",
      "|summary|Country|              Age|            Salary|Purchased|\n",
      "+-------+-------+-----------------+------------------+---------+\n",
      "|  count|     10|                9|                 9|       10|\n",
      "|   mean|   null|38.77777777777778| 63777.77777777778|     null|\n",
      "| stddev|   null|7.693792591722529|12265.579661982732|     null|\n",
      "|    min| France|               27|             48000|       No|\n",
      "|    max|  Spain|               50|             83000|      Yes|\n",
      "+-------+-------+-----------------+------------------+---------+\n",
      "\n"
     ]
    }
   ],
   "source": [
    "# Describe dataframe\n",
    "pyspark_df.describe().show()"
   ]
  },
  {
   "cell_type": "markdown",
   "metadata": {},
   "source": [
    "Checking Null values in dataset"
   ]
  },
  {
   "cell_type": "code",
   "execution_count": 97,
   "metadata": {},
   "outputs": [
    {
     "name": "stdout",
     "output_type": "stream",
     "text": [
      "Age null count:1\n"
     ]
    }
   ],
   "source": [
    "# null count in age column\n",
    "age_null_count = pyspark_df.filter(col(\"Age\").isNull()).count()\n",
    "\n",
    "print(f\"Age null count:{age_null_count}\")"
   ]
  },
  {
   "cell_type": "code",
   "execution_count": 98,
   "metadata": {},
   "outputs": [
    {
     "name": "stdout",
     "output_type": "stream",
     "text": [
      "Salary null count:1\n"
     ]
    }
   ],
   "source": [
    "# null count in age column\n",
    "salary_null_count = pyspark_df.filter(col(\"Salary\").isNull()).count()\n",
    "\n",
    "print(f\"Salary null count:{salary_null_count}\")"
   ]
  },
  {
   "cell_type": "code",
   "execution_count": 99,
   "metadata": {},
   "outputs": [
    {
     "name": "stdout",
     "output_type": "stream",
     "text": [
      "+-------+---+------+---------+\n",
      "|Country|Age|Salary|Purchased|\n",
      "+-------+---+------+---------+\n",
      "|      0|  1|     1|        0|\n",
      "+-------+---+------+---------+\n",
      "\n"
     ]
    }
   ],
   "source": [
    "# finding null values in all the columns of dataframe\n",
    "pyspark_df.select([count(when(isnan(c) | col(c).isNull(), c)).alias(c) for c in pyspark_df.columns]).show()\n"
   ]
  },
  {
   "cell_type": "code",
   "execution_count": 100,
   "metadata": {},
   "outputs": [
    {
     "name": "stdout",
     "output_type": "stream",
     "text": [
      "+-------+----+------+---------+\n",
      "|Country| Age|Salary|Purchased|\n",
      "+-------+----+------+---------+\n",
      "| France|  44| 72000|        0|\n",
      "|  Spain|  27| 48000|        1|\n",
      "|Germany|  30| 54000|        0|\n",
      "|  Spain|  38| 61000|        0|\n",
      "|Germany|  40|  null|        1|\n",
      "| France|  35| 58000|        1|\n",
      "|  Spain|null| 52000|        0|\n",
      "| France|  48| 79000|        1|\n",
      "|Germany|  50| 83000|        0|\n",
      "| France|  37| 67000|        1|\n",
      "+-------+----+------+---------+\n",
      "\n"
     ]
    }
   ],
   "source": [
    "# Replacing purchased column values with binary values\n",
    "pyspark_df = pyspark_df.withColumn('Purchased',when(col('Purchased') == 'Yes',1).otherwise(0))\n",
    "\n",
    "pyspark_df.show()"
   ]
  },
  {
   "cell_type": "markdown",
   "metadata": {},
   "source": [
    "Creating a cop"
   ]
  },
  {
   "cell_type": "code",
   "execution_count": 101,
   "metadata": {},
   "outputs": [],
   "source": [
    "gaussian_spark = pyspark_df.toPandas()"
   ]
  },
  {
   "cell_type": "code",
   "execution_count": 102,
   "metadata": {},
   "outputs": [],
   "source": [
    "import matplotlib.pyplot as plt\n",
    "import seaborn as sns"
   ]
  },
  {
   "cell_type": "markdown",
   "metadata": {},
   "source": [
    "Generate gaussian distribution on Age and Salary Independent Varaibles in dataset"
   ]
  },
  {
   "cell_type": "markdown",
   "metadata": {},
   "source": [
    "Age column"
   ]
  },
  {
   "cell_type": "code",
   "execution_count": 103,
   "metadata": {},
   "outputs": [
    {
     "data": {
      "image/png": "[encoded data removed]",
      "text/plain": [
       "<Figure size 800x600 with 1 Axes>"
      ]
     },
     "metadata": {},
     "output_type": "display_data"
    }
   ],
   "source": [
    "plt.figure(figsize=(8,6))\n",
    "sns.kdeplot(x=gaussian_spark[\"Age\"])\n",
    "plt.xlabel(\"Age\")\n",
    "plt.ylabel(\"Density\")\n",
    "plt.show()"
   ]
  },
  {
   "cell_type": "markdown",
   "metadata": {},
   "source": [
    "Salary Column"
   ]
  },
  {
   "cell_type": "code",
   "execution_count": 104,
   "metadata": {},
   "outputs": [
    {
     "data": {
      "image/png": "[encoded data removed]",
      "text/plain": [
       "<Figure size 800x600 with 1 Axes>"
      ]
     },
     "metadata": {},
     "output_type": "display_data"
    }
   ],
   "source": [
    "plt.figure(figsize=(8,6))\n",
    "sns.kdeplot(x=gaussian_spark[\"Salary\"])\n",
    "plt.xlabel(\"Salary\")\n",
    "plt.ylabel(\"Density\")\n",
    "plt.show()"
   ]
  },
  {
   "cell_type": "markdown",
   "metadata": {},
   "source": [
    "Calculate mean value of columns and replace null value with mean "
   ]
  },
  {
   "cell_type": "code",
   "execution_count": 105,
   "metadata": {},
   "outputs": [
    {
     "name": "stdout",
     "output_type": "stream",
     "text": [
      "38.77777777777778\n",
      "+-------+---+------+---------+\n",
      "|Country|Age|Salary|Purchased|\n",
      "+-------+---+------+---------+\n",
      "| France| 44| 72000|        0|\n",
      "|  Spain| 27| 48000|        1|\n",
      "|Germany| 30| 54000|        0|\n",
      "|  Spain| 38| 61000|        0|\n",
      "|Germany| 40|  null|        1|\n",
      "| France| 35| 58000|        1|\n",
      "|  Spain| 38| 52000|        0|\n",
      "| France| 48| 79000|        1|\n",
      "|Germany| 50| 83000|        0|\n",
      "| France| 37| 67000|        1|\n",
      "+-------+---+------+---------+\n",
      "\n"
     ]
    }
   ],
   "source": [
    "age_mean_value = pyspark_df.select(mean(col(\"Age\"))).collect()[0][0]\n",
    "print(age_mean_value)\n",
    "pyspark_df = pyspark_df.na.fill(value=age_mean_value,subset=\"Age\")\n",
    "\n",
    "pyspark_df.show()"
   ]
  },
  {
   "cell_type": "code",
   "execution_count": 106,
   "metadata": {},
   "outputs": [
    {
     "name": "stdout",
     "output_type": "stream",
     "text": [
      "63777.77777777778\n",
      "+-------+---+------+---------+\n",
      "|Country|Age|Salary|Purchased|\n",
      "+-------+---+------+---------+\n",
      "| France| 44| 72000|        0|\n",
      "|  Spain| 27| 48000|        1|\n",
      "|Germany| 30| 54000|        0|\n",
      "|  Spain| 38| 61000|        0|\n",
      "|Germany| 40| 63777|        1|\n",
      "| France| 35| 58000|        1|\n",
      "|  Spain| 38| 52000|        0|\n",
      "| France| 48| 79000|        1|\n",
      "|Germany| 50| 83000|        0|\n",
      "| France| 37| 67000|        1|\n",
      "+-------+---+------+---------+\n",
      "\n"
     ]
    }
   ],
   "source": [
    "salary_mean_value = pyspark_df.select(mean(col(\"Salary\"))).collect()[0][0]\n",
    "print(salary_mean_value)\n",
    "pyspark_df = pyspark_df.na.fill(value=salary_mean_value,subset=\"Salary\")\n",
    "pyspark_df.show()"
   ]
  },
  {
   "cell_type": "markdown",
   "metadata": {},
   "source": [
    "Validate dataset set if any columns with null values are left"
   ]
  },
  {
   "cell_type": "code",
   "execution_count": 107,
   "metadata": {},
   "outputs": [
    {
     "name": "stdout",
     "output_type": "stream",
     "text": [
      "+-------+---+------+---------+\n",
      "|Country|Age|Salary|Purchased|\n",
      "+-------+---+------+---------+\n",
      "|      0|  0|     0|        0|\n",
      "+-------+---+------+---------+\n",
      "\n"
     ]
    }
   ],
   "source": [
    "# checking again for null values\n",
    "# finding null values in all the columns of dataframe\n",
    "pyspark_df.select([count(when(isnan(c) | col(c).isNull(), c)).alias(c) for c in pyspark_df.columns]).show()\n"
   ]
  },
  {
   "cell_type": "markdown",
   "metadata": {},
   "source": [
    "# Encoding - One hot encoder"
   ]
  },
  {
   "cell_type": "markdown",
   "metadata": {},
   "source": [
    "label encoding for category indexing"
   ]
  },
  {
   "cell_type": "code",
   "execution_count": 108,
   "metadata": {},
   "outputs": [
    {
     "name": "stdout",
     "output_type": "stream",
     "text": [
      "+-------+---+------+---------+-------------+\n",
      "|Country|Age|Salary|Purchased|Country_index|\n",
      "+-------+---+------+---------+-------------+\n",
      "| France| 44| 72000|        0|          0.0|\n",
      "|  Spain| 27| 48000|        1|          2.0|\n",
      "|Germany| 30| 54000|        0|          1.0|\n",
      "|  Spain| 38| 61000|        0|          2.0|\n",
      "|Germany| 40| 63777|        1|          1.0|\n",
      "| France| 35| 58000|        1|          0.0|\n",
      "|  Spain| 38| 52000|        0|          2.0|\n",
      "| France| 48| 79000|        1|          0.0|\n",
      "|Germany| 50| 83000|        0|          1.0|\n",
      "| France| 37| 67000|        1|          0.0|\n",
      "+-------+---+------+---------+-------------+\n",
      "\n"
     ]
    }
   ],
   "source": [
    "indexer = StringIndexer(inputCol=\"Country\", outputCol=\"Country_index\")\n",
    "indexed_fitted = indexer.fit(pyspark_df)\n",
    "indexed_df = indexed_fitted.transform(pyspark_df)\n",
    "indexed_df.show()"
   ]
  },
  {
   "cell_type": "code",
   "execution_count": 109,
   "metadata": {},
   "outputs": [
    {
     "name": "stdout",
     "output_type": "stream",
     "text": [
      "+-------+---+------+---------+-------------+--------------+\n",
      "|Country|Age|Salary|Purchased|Country_index|Country_vector|\n",
      "+-------+---+------+---------+-------------+--------------+\n",
      "| France| 44| 72000|        0|          0.0| (3,[0],[1.0])|\n",
      "|  Spain| 27| 48000|        1|          2.0| (3,[2],[1.0])|\n",
      "|Germany| 30| 54000|        0|          1.0| (3,[1],[1.0])|\n",
      "|  Spain| 38| 61000|        0|          2.0| (3,[2],[1.0])|\n",
      "|Germany| 40| 63777|        1|          1.0| (3,[1],[1.0])|\n",
      "| France| 35| 58000|        1|          0.0| (3,[0],[1.0])|\n",
      "|  Spain| 38| 52000|        0|          2.0| (3,[2],[1.0])|\n",
      "| France| 48| 79000|        1|          0.0| (3,[0],[1.0])|\n",
      "|Germany| 50| 83000|        0|          1.0| (3,[1],[1.0])|\n",
      "| France| 37| 67000|        1|          0.0| (3,[0],[1.0])|\n",
      "+-------+---+------+---------+-------------+--------------+\n",
      "\n"
     ]
    }
   ],
   "source": [
    "# one hot encoding\n",
    "encoder = OneHotEncoder(inputCol=\"Country_index\", outputCol=\"Country_vector\",dropLast=False)\n",
    "encoded_df = encoder.fit(indexed_df).transform(indexed_df)\n",
    "encoded_df.show()"
   ]
  },
  {
   "cell_type": "markdown",
   "metadata": {},
   "source": [
    "Convert Vector values in columns to array"
   ]
  },
  {
   "cell_type": "code",
   "execution_count": 110,
   "metadata": {},
   "outputs": [
    {
     "name": "stdout",
     "output_type": "stream",
     "text": [
      "+-------+---+------+---------+-------------+--------------+---------------+\n",
      "|Country|Age|Salary|Purchased|Country_index|Country_vector|     col_onehot|\n",
      "+-------+---+------+---------+-------------+--------------+---------------+\n",
      "| France| 44| 72000|        0|          0.0| (3,[0],[1.0])|[1.0, 0.0, 0.0]|\n",
      "|  Spain| 27| 48000|        1|          2.0| (3,[2],[1.0])|[0.0, 0.0, 1.0]|\n",
      "|Germany| 30| 54000|        0|          1.0| (3,[1],[1.0])|[0.0, 1.0, 0.0]|\n",
      "|  Spain| 38| 61000|        0|          2.0| (3,[2],[1.0])|[0.0, 0.0, 1.0]|\n",
      "|Germany| 40| 63777|        1|          1.0| (3,[1],[1.0])|[0.0, 1.0, 0.0]|\n",
      "| France| 35| 58000|        1|          0.0| (3,[0],[1.0])|[1.0, 0.0, 0.0]|\n",
      "|  Spain| 38| 52000|        0|          2.0| (3,[2],[1.0])|[0.0, 0.0, 1.0]|\n",
      "| France| 48| 79000|        1|          0.0| (3,[0],[1.0])|[1.0, 0.0, 0.0]|\n",
      "|Germany| 50| 83000|        0|          1.0| (3,[1],[1.0])|[0.0, 1.0, 0.0]|\n",
      "| France| 37| 67000|        1|          0.0| (3,[0],[1.0])|[1.0, 0.0, 0.0]|\n",
      "+-------+---+------+---------+-------------+--------------+---------------+\n",
      "\n"
     ]
    }
   ],
   "source": [
    "from pyspark.ml.functions import vector_to_array\n",
    "df_col_onehot = encoded_df.select('*', vector_to_array('Country_vector').alias('col_onehot'))\n",
    "df_col_onehot.show()"
   ]
  },
  {
   "cell_type": "code",
   "execution_count": 111,
   "metadata": {},
   "outputs": [],
   "source": [
    "import pyspark.sql.functions as F"
   ]
  },
  {
   "cell_type": "code",
   "execution_count": 112,
   "metadata": {},
   "outputs": [
    {
     "name": "stdout",
     "output_type": "stream",
     "text": [
      "+---+------+------+-------+-----+---------+\n",
      "|Age|Salary|France|Germany|Spain|Purchased|\n",
      "+---+------+------+-------+-----+---------+\n",
      "| 44| 72000|   1.0|    0.0|  0.0|        0|\n",
      "| 27| 48000|   0.0|    0.0|  1.0|        1|\n",
      "| 30| 54000|   0.0|    1.0|  0.0|        0|\n",
      "| 38| 61000|   0.0|    0.0|  1.0|        0|\n",
      "| 40| 63777|   0.0|    1.0|  0.0|        1|\n",
      "| 35| 58000|   1.0|    0.0|  0.0|        1|\n",
      "| 38| 52000|   0.0|    0.0|  1.0|        0|\n",
      "| 48| 79000|   1.0|    0.0|  0.0|        1|\n",
      "| 50| 83000|   0.0|    1.0|  0.0|        0|\n",
      "| 37| 67000|   1.0|    0.0|  0.0|        1|\n",
      "+---+------+------+-------+-----+---------+\n",
      "\n"
     ]
    }
   ],
   "source": [
    "# expanding array to seperate category columns\n",
    "num_categories = len(df_col_onehot.first()['col_onehot'])   \n",
    "cols_expanded = [(F.col('col_onehot')[i].alias(f'{indexed_fitted.labels[i]}')) for i in range(num_categories)]\n",
    "df_cols_onehot = df_col_onehot.select('Age', 'Salary',*cols_expanded,'Purchased')\n",
    "df_cols_onehot.show()"
   ]
  },
  {
   "cell_type": "markdown",
   "metadata": {},
   "source": [
    "# Scaling Independent variables"
   ]
  },
  {
   "cell_type": "code",
   "execution_count": 113,
   "metadata": {},
   "outputs": [],
   "source": [
    "# getting dataframe for manual Scaling \n",
    "df_cols_onehot_manual = df_cols_onehot"
   ]
  },
  {
   "cell_type": "markdown",
   "metadata": {},
   "source": [
    "Manual scaling using user defined formula"
   ]
  },
  {
   "cell_type": "code",
   "execution_count": 114,
   "metadata": {},
   "outputs": [],
   "source": [
    "# min and max values of feature column\n",
    "age_min_value = df_cols_onehot_manual.select(F.min(\"Age\")).collect()[0][0]\n",
    "age_max_value = df_cols_onehot_manual.select(F.max(\"Age\")).collect()[0][0]\n",
    "\n",
    "salary_min_value = df_cols_onehot_manual.select(F.min(\"Salary\")).collect()[0][0]\n",
    "salary_max_value = df_cols_onehot_manual.select(F.max(\"Salary\")).collect()[0][0]"
   ]
  },
  {
   "cell_type": "code",
   "execution_count": 115,
   "metadata": {},
   "outputs": [],
   "source": [
    "# Defining a function to implement min max scaler formula\n",
    "def min_max_scaling(value, min_value, max_value):\n",
    "    return (value - min_value) / (max_value - min_value)\n"
   ]
  },
  {
   "cell_type": "code",
   "execution_count": 116,
   "metadata": {},
   "outputs": [],
   "source": [
    "df_cols_onehot_manual = df_cols_onehot_manual.withColumn(\"Age\", F.udf(min_max_scaling)(F.col(\"Age\"), F.lit(age_min_value), F.lit(age_max_value)))\n",
    "df_cols_onehot_manual = df_cols_onehot_manual.withColumn(\"Salary\", F.udf(min_max_scaling)(F.col(\"Salary\"), F.lit(salary_min_value), F.lit(salary_max_value)))"
   ]
  },
  {
   "cell_type": "code",
   "execution_count": 117,
   "metadata": {},
   "outputs": [
    {
     "name": "stdout",
     "output_type": "stream",
     "text": [
      "+-------------------+-------------------+------+-------+-----+---------+\n",
      "|                Age|             Salary|France|Germany|Spain|Purchased|\n",
      "+-------------------+-------------------+------+-------+-----+---------+\n",
      "| 0.7391304347826086| 0.6857142857142857|   1.0|    0.0|  0.0|        0|\n",
      "|                0.0|                0.0|   0.0|    0.0|  1.0|        1|\n",
      "|0.13043478260869565|0.17142857142857143|   0.0|    1.0|  0.0|        0|\n",
      "| 0.4782608695652174|0.37142857142857144|   0.0|    0.0|  1.0|        0|\n",
      "| 0.5652173913043478|0.45077142857142855|   0.0|    1.0|  0.0|        1|\n",
      "|0.34782608695652173| 0.2857142857142857|   1.0|    0.0|  0.0|        1|\n",
      "| 0.4782608695652174|0.11428571428571428|   0.0|    0.0|  1.0|        0|\n",
      "| 0.9130434782608695| 0.8857142857142857|   1.0|    0.0|  0.0|        1|\n",
      "|                1.0|                1.0|   0.0|    1.0|  0.0|        0|\n",
      "|0.43478260869565216| 0.5428571428571428|   1.0|    0.0|  0.0|        1|\n",
      "+-------------------+-------------------+------+-------+-----+---------+\n",
      "\n"
     ]
    }
   ],
   "source": [
    "df_cols_onehot_manual.show()"
   ]
  },
  {
   "cell_type": "markdown",
   "metadata": {},
   "source": [
    "Min Max Scaling using  Min max scaler library"
   ]
  },
  {
   "cell_type": "code",
   "execution_count": 118,
   "metadata": {},
   "outputs": [
    {
     "name": "stdout",
     "output_type": "stream",
     "text": [
      "+---+------+------+-------+-----+---------+-------+----------+--------------------+--------------------+\n",
      "|Age|Salary|France|Germany|Spain|Purchased|Age_vec|Salary_vec|          Age_scaled|       Salary_scaled|\n",
      "+---+------+------+-------+-----+---------+-------+----------+--------------------+--------------------+\n",
      "| 44| 72000|   1.0|    0.0|  0.0|        0| [44.0]| [72000.0]|[0.7391304347826086]|[0.6857142857142857]|\n",
      "| 27| 48000|   0.0|    0.0|  1.0|        1| [27.0]| [48000.0]|               [0.0]|               [0.0]|\n",
      "| 30| 54000|   0.0|    1.0|  0.0|        0| [30.0]| [54000.0]|[0.13043478260869...|[0.17142857142857...|\n",
      "| 38| 61000|   0.0|    0.0|  1.0|        0| [38.0]| [61000.0]|[0.4782608695652174]|[0.37142857142857...|\n",
      "| 40| 63777|   0.0|    1.0|  0.0|        1| [40.0]| [63777.0]|[0.5652173913043478]|[0.45077142857142...|\n",
      "| 35| 58000|   1.0|    0.0|  0.0|        1| [35.0]| [58000.0]|[0.34782608695652...|[0.2857142857142857]|\n",
      "| 38| 52000|   0.0|    0.0|  1.0|        0| [38.0]| [52000.0]|[0.4782608695652174]|[0.11428571428571...|\n",
      "| 48| 79000|   1.0|    0.0|  0.0|        1| [48.0]| [79000.0]|[0.9130434782608695]|[0.8857142857142857]|\n",
      "| 50| 83000|   0.0|    1.0|  0.0|        0| [50.0]| [83000.0]|               [1.0]|               [1.0]|\n",
      "| 37| 67000|   1.0|    0.0|  0.0|        1| [37.0]| [67000.0]|[0.43478260869565...|[0.5428571428571428]|\n",
      "+---+------+------+-------+-----+---------+-------+----------+--------------------+--------------------+\n",
      "\n"
     ]
    }
   ],
   "source": [
    "# min max scaler \n",
    "from pyspark.ml import Pipeline\n",
    "from pyspark.ml.feature import MinMaxScaler , VectorAssembler\n",
    "columns_to_scale = [\"Age\", \"Salary\"]\n",
    "\n",
    "assemblers = [VectorAssembler(inputCols=[col], outputCol=col + \"_vec\") for col in columns_to_scale]\n",
    "scalers = [MinMaxScaler(inputCol=col + \"_vec\", outputCol=col + \"_scaled\") for col in columns_to_scale]\n",
    "pipeline = Pipeline(stages=assemblers + scalers)\n",
    "scalerModel = pipeline.fit(df_cols_onehot)\n",
    "scaledData = scalerModel.transform(df_cols_onehot)\n",
    "\n",
    "scaledData.show()"
   ]
  },
  {
   "cell_type": "code",
   "execution_count": 119,
   "metadata": {},
   "outputs": [],
   "source": [
    "from pyspark.sql.functions import round"
   ]
  },
  {
   "cell_type": "markdown",
   "metadata": {},
   "source": [
    "Replacing age and salry column with age_scaled and salary_scaled data"
   ]
  },
  {
   "cell_type": "code",
   "execution_count": 120,
   "metadata": {},
   "outputs": [
    {
     "name": "stdout",
     "output_type": "stream",
     "text": [
      "+--------------------+--------------------+------+-------+-----+---------+\n",
      "|                 Age|              Salary|France|Germany|Spain|Purchased|\n",
      "+--------------------+--------------------+------+-------+-----+---------+\n",
      "|[0.7391304347826086]|[0.6857142857142857]|   1.0|    0.0|  0.0|        0|\n",
      "|               [0.0]|               [0.0]|   0.0|    0.0|  1.0|        1|\n",
      "|[0.13043478260869...|[0.17142857142857...|   0.0|    1.0|  0.0|        0|\n",
      "|[0.4782608695652174]|[0.37142857142857...|   0.0|    0.0|  1.0|        0|\n",
      "|[0.5652173913043478]|[0.45077142857142...|   0.0|    1.0|  0.0|        1|\n",
      "|[0.34782608695652...|[0.2857142857142857]|   1.0|    0.0|  0.0|        1|\n",
      "|[0.4782608695652174]|[0.11428571428571...|   0.0|    0.0|  1.0|        0|\n",
      "|[0.9130434782608695]|[0.8857142857142857]|   1.0|    0.0|  0.0|        1|\n",
      "|               [1.0]|               [1.0]|   0.0|    1.0|  0.0|        0|\n",
      "|[0.43478260869565...|[0.5428571428571428]|   1.0|    0.0|  0.0|        1|\n",
      "+--------------------+--------------------+------+-------+-----+---------+\n",
      "\n"
     ]
    }
   ],
   "source": [
    "scaledData = scaledData.withColumn(\"Age\", F.col(\"Age_scaled\"))\n",
    "scaledData = scaledData.withColumn(\"Salary\", F.col(\"Salary_scaled\"))\n",
    "\n",
    "# Drop the intermediate columns if needed\n",
    "scaledData = scaledData.drop(\"Age_scaled\", \"Salary_scaled\",'Age_vec','Salary_vec')\n",
    "scaledData.show()\n"
   ]
  },
  {
   "cell_type": "markdown",
   "metadata": {},
   "source": [
    "# Training model\n"
   ]
  },
  {
   "cell_type": "markdown",
   "metadata": {},
   "source": [
    "splitting data into train and test data"
   ]
  },
  {
   "cell_type": "code",
   "execution_count": null,
   "metadata": {},
   "outputs": [
    {
     "name": "stdout",
     "output_type": "stream",
     "text": [
      "+--------------------+--------------------+------+-------+-----+---------+\n",
      "|                 Age|              Salary|France|Germany|Spain|Purchased|\n",
      "+--------------------+--------------------+------+-------+-----+---------+\n",
      "|               [0.0]|               [0.0]|   0.0|    0.0|  1.0|        1|\n",
      "|[0.13043478260869...|[0.17142857142857...|   0.0|    1.0|  0.0|        0|\n",
      "|[0.4782608695652174]|[0.37142857142857...|   0.0|    0.0|  1.0|        0|\n",
      "|[0.5652173913043478]|[0.45077142857142...|   0.0|    1.0|  0.0|        1|\n",
      "|[0.7391304347826086]|[0.6857142857142857]|   1.0|    0.0|  0.0|        0|\n",
      "|[0.9130434782608695]|[0.8857142857142857]|   1.0|    0.0|  0.0|        1|\n",
      "|               [1.0]|               [1.0]|   0.0|    1.0|  0.0|        0|\n",
      "+--------------------+--------------------+------+-------+-----+---------+\n",
      "\n"
     ]
    }
   ],
   "source": [
    "train_ratio = 0.7\n",
    "test_ratio = 1 - train_ratio\n",
    "\n",
    "# Split the data into train and test DataFrames\n",
    "train_data, test_data = scaledData.randomSplit([train_ratio, test_ratio])\n",
    "\n",
    "train_data.show()"
   ]
  },
  {
   "cell_type": "markdown",
   "metadata": {},
   "source": [
    "Splitting train and test data into x=independent varaibles and y=target variables "
   ]
  },
  {
   "cell_type": "code",
   "execution_count": null,
   "metadata": {},
   "outputs": [],
   "source": [
    "features = scaledData.columns\n",
    "target = 'Purchased'\n",
    "features.remove(\"Purchased\")\n",
    "x_train = train_data.select(features)\n",
    "y_train = train_data.select(target)\n",
    "\n",
    "x_test = test_data.select(features)\n",
    "y_test = test_data.select(target)"
   ]
  },
  {
   "cell_type": "code",
   "execution_count": null,
   "metadata": {},
   "outputs": [
    {
     "name": "stdout",
     "output_type": "stream",
     "text": [
      "+--------------------+--------------------+------+-------+-----+\n",
      "|                 Age|              Salary|France|Germany|Spain|\n",
      "+--------------------+--------------------+------+-------+-----+\n",
      "|               [0.0]|               [0.0]|   0.0|    0.0|  1.0|\n",
      "|[0.13043478260869...|[0.17142857142857...|   0.0|    1.0|  0.0|\n",
      "|[0.4782608695652174]|[0.37142857142857...|   0.0|    0.0|  1.0|\n",
      "|[0.5652173913043478]|[0.45077142857142...|   0.0|    1.0|  0.0|\n",
      "|[0.7391304347826086]|[0.6857142857142857]|   1.0|    0.0|  0.0|\n",
      "|[0.9130434782608695]|[0.8857142857142857]|   1.0|    0.0|  0.0|\n",
      "|               [1.0]|               [1.0]|   0.0|    1.0|  0.0|\n",
      "+--------------------+--------------------+------+-------+-----+\n",
      "\n"
     ]
    }
   ],
   "source": [
    "x_train.show()\n"
   ]
  },
  {
   "cell_type": "code",
   "execution_count": null,
   "metadata": {},
   "outputs": [
    {
     "name": "stdout",
     "output_type": "stream",
     "text": [
      "+---------+\n",
      "|Purchased|\n",
      "+---------+\n",
      "|        1|\n",
      "|        0|\n",
      "|        0|\n",
      "|        1|\n",
      "|        0|\n",
      "|        1|\n",
      "|        0|\n",
      "+---------+\n",
      "\n"
     ]
    }
   ],
   "source": [
    "y_train.show()"
   ]
  },
  {
   "cell_type": "markdown",
   "metadata": {},
   "source": [
    "Stop the spark session "
   ]
  },
  {
   "cell_type": "code",
   "execution_count": null,
   "metadata": {},
   "outputs": [],
   "source": [
    "spark.stop()"
   ]
  }
 ],
 "metadata": {
  "kernelspec": {
   "display_name": "Python 3",
   "language": "python",
   "name": "python3"
  },
  "language_info": {
   "codemirror_mode": {
    "name": "ipython",
    "version": 3
   },
   "file_extension": ".py",
   "mimetype": "text/x-python",
   "name": "python",
   "nbconvert_exporter": "python",
   "pygments_lexer": "ipython3",
   "version": "3.8.10"
  },
  "orig_nbformat": 4
 },
 "nbformat": 4,
 "nbformat_minor": 2
}
