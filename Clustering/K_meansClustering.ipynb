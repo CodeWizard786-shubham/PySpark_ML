{
 "cells": [
  {
   "cell_type": "markdown",
   "metadata": {},
   "source": [
    "# Clustering"
   ]
  },
  {
   "cell_type": "markdown",
   "metadata": {},
   "source": [
    "Aim : create group of mall customers based on their annual income and spending score for a given\n",
    "dataset"
   ]
  },
  {
   "cell_type": "code",
   "execution_count": 101,
   "metadata": {},
   "outputs": [],
   "source": [
    "# Define libraries\n",
    "from pyspark.sql import SparkSession\n",
    "from pyspark.ml.clustering import KMeans"
   ]
  },
  {
   "cell_type": "markdown",
   "metadata": {},
   "source": [
    "Create spark Session"
   ]
  },
  {
   "cell_type": "code",
   "execution_count": 102,
   "metadata": {},
   "outputs": [],
   "source": [
    "spark = SparkSession.builder.appName(\"Clustering\").getOrCreate()"
   ]
  },
  {
   "cell_type": "markdown",
   "metadata": {},
   "source": [
    "Read Input csv file"
   ]
  },
  {
   "cell_type": "code",
   "execution_count": 103,
   "metadata": {},
   "outputs": [
    {
     "name": "stdout",
     "output_type": "stream",
     "text": [
      "+----------+------+---+------------------+----------------------+\n",
      "|CustomerID| Genre|Age|Annual Income (k$)|Spending Score (1-100)|\n",
      "+----------+------+---+------------------+----------------------+\n",
      "|         1|  Male| 19|                15|                    39|\n",
      "|         2|  Male| 21|                15|                    81|\n",
      "|         3|Female| 20|                16|                     6|\n",
      "|         4|Female| 23|                16|                    77|\n",
      "|         5|Female| 31|                17|                    40|\n",
      "|         6|Female| 22|                17|                    76|\n",
      "|         7|Female| 35|                18|                     6|\n",
      "|         8|Female| 23|                18|                    94|\n",
      "|         9|  Male| 64|                19|                     3|\n",
      "|        10|Female| 30|                19|                    72|\n",
      "|        11|  Male| 67|                19|                    14|\n",
      "|        12|Female| 35|                19|                    99|\n",
      "|        13|Female| 58|                20|                    15|\n",
      "|        14|Female| 24|                20|                    77|\n",
      "|        15|  Male| 37|                20|                    13|\n",
      "|        16|  Male| 22|                20|                    79|\n",
      "|        17|Female| 35|                21|                    35|\n",
      "|        18|  Male| 20|                21|                    66|\n",
      "|        19|  Male| 52|                23|                    29|\n",
      "|        20|Female| 35|                23|                    98|\n",
      "+----------+------+---+------------------+----------------------+\n",
      "only showing top 20 rows\n",
      "\n"
     ]
    }
   ],
   "source": [
    "df = spark.read.csv(\"Mall_Customers.csv\",header=True,inferSchema=True)\n",
    "\n",
    "df.show()"
   ]
  },
  {
   "cell_type": "markdown",
   "metadata": {},
   "source": [
    "Shape of Dataset"
   ]
  },
  {
   "cell_type": "code",
   "execution_count": 104,
   "metadata": {},
   "outputs": [
    {
     "name": "stdout",
     "output_type": "stream",
     "text": [
      "(200,5)\n"
     ]
    }
   ],
   "source": [
    "rows = df.count()\n",
    "columns = len(df.columns)\n",
    "print(f\"({rows},{columns})\")"
   ]
  },
  {
   "cell_type": "markdown",
   "metadata": {},
   "source": [
    "Describe Dataset"
   ]
  },
  {
   "cell_type": "code",
   "execution_count": 105,
   "metadata": {},
   "outputs": [
    {
     "name": "stdout",
     "output_type": "stream",
     "text": [
      "+-------+------------------+------+-----------------+------------------+----------------------+\n",
      "|summary|        CustomerID| Genre|              Age|Annual Income (k$)|Spending Score (1-100)|\n",
      "+-------+------------------+------+-----------------+------------------+----------------------+\n",
      "|  count|               200|   200|              200|               200|                   200|\n",
      "|   mean|             100.5|  null|            38.85|             60.56|                  50.2|\n",
      "| stddev|57.879184513951124|  null|13.96900733155888| 26.26472116527124|    25.823521668370173|\n",
      "|    min|                 1|Female|               18|                15|                     1|\n",
      "|    max|               200|  Male|               70|               137|                    99|\n",
      "+-------+------------------+------+-----------------+------------------+----------------------+\n",
      "\n"
     ]
    }
   ],
   "source": [
    "df.describe().show()"
   ]
  },
  {
   "cell_type": "markdown",
   "metadata": {},
   "source": [
    "Rename column names"
   ]
  },
  {
   "cell_type": "code",
   "execution_count": 106,
   "metadata": {},
   "outputs": [],
   "source": [
    "df = df.withColumnRenamed(existing=\"Annual Income (k$)\",new=\"Annual_Income(k$)\")\n",
    "df = df.withColumnRenamed(existing=\"Spending Score (1-100)\",new=\"Spending_Score(1-100)\")"
   ]
  },
  {
   "cell_type": "markdown",
   "metadata": {},
   "source": [
    "Ploting Initial Dataset"
   ]
  },
  {
   "cell_type": "code",
   "execution_count": 107,
   "metadata": {},
   "outputs": [],
   "source": [
    "import matplotlib.pyplot as plt"
   ]
  },
  {
   "cell_type": "markdown",
   "metadata": {},
   "source": [
    "Converting spark dataset to pandas for plotting"
   ]
  },
  {
   "cell_type": "code",
   "execution_count": 108,
   "metadata": {},
   "outputs": [
    {
     "data": {
      "text/html": [
       "<div>\n",
       "<style scoped>\n",
       "    .dataframe tbody tr th:only-of-type {\n",
       "        vertical-align: middle;\n",
       "    }\n",
       "\n",
       "    .dataframe tbody tr th {\n",
       "        vertical-align: top;\n",
       "    }\n",
       "\n",
       "    .dataframe thead th {\n",
       "        text-align: right;\n",
       "    }\n",
       "</style>\n",
       "<table border=\"1\" class=\"dataframe\">\n",
       "  <thead>\n",
       "    <tr style=\"text-align: right;\">\n",
       "      <th></th>\n",
       "      <th>CustomerID</th>\n",
       "      <th>Genre</th>\n",
       "      <th>Age</th>\n",
       "      <th>Annual_Income(k$)</th>\n",
       "      <th>Spending_Score(1-100)</th>\n",
       "    </tr>\n",
       "  </thead>\n",
       "  <tbody>\n",
       "    <tr>\n",
       "      <th>0</th>\n",
       "      <td>1</td>\n",
       "      <td>Male</td>\n",
       "      <td>19</td>\n",
       "      <td>15</td>\n",
       "      <td>39</td>\n",
       "    </tr>\n",
       "    <tr>\n",
       "      <th>1</th>\n",
       "      <td>2</td>\n",
       "      <td>Male</td>\n",
       "      <td>21</td>\n",
       "      <td>15</td>\n",
       "      <td>81</td>\n",
       "    </tr>\n",
       "    <tr>\n",
       "      <th>2</th>\n",
       "      <td>3</td>\n",
       "      <td>Female</td>\n",
       "      <td>20</td>\n",
       "      <td>16</td>\n",
       "      <td>6</td>\n",
       "    </tr>\n",
       "    <tr>\n",
       "      <th>3</th>\n",
       "      <td>4</td>\n",
       "      <td>Female</td>\n",
       "      <td>23</td>\n",
       "      <td>16</td>\n",
       "      <td>77</td>\n",
       "    </tr>\n",
       "    <tr>\n",
       "      <th>4</th>\n",
       "      <td>5</td>\n",
       "      <td>Female</td>\n",
       "      <td>31</td>\n",
       "      <td>17</td>\n",
       "      <td>40</td>\n",
       "    </tr>\n",
       "    <tr>\n",
       "      <th>...</th>\n",
       "      <td>...</td>\n",
       "      <td>...</td>\n",
       "      <td>...</td>\n",
       "      <td>...</td>\n",
       "      <td>...</td>\n",
       "    </tr>\n",
       "    <tr>\n",
       "      <th>195</th>\n",
       "      <td>196</td>\n",
       "      <td>Female</td>\n",
       "      <td>35</td>\n",
       "      <td>120</td>\n",
       "      <td>79</td>\n",
       "    </tr>\n",
       "    <tr>\n",
       "      <th>196</th>\n",
       "      <td>197</td>\n",
       "      <td>Female</td>\n",
       "      <td>45</td>\n",
       "      <td>126</td>\n",
       "      <td>28</td>\n",
       "    </tr>\n",
       "    <tr>\n",
       "      <th>197</th>\n",
       "      <td>198</td>\n",
       "      <td>Male</td>\n",
       "      <td>32</td>\n",
       "      <td>126</td>\n",
       "      <td>74</td>\n",
       "    </tr>\n",
       "    <tr>\n",
       "      <th>198</th>\n",
       "      <td>199</td>\n",
       "      <td>Male</td>\n",
       "      <td>32</td>\n",
       "      <td>137</td>\n",
       "      <td>18</td>\n",
       "    </tr>\n",
       "    <tr>\n",
       "      <th>199</th>\n",
       "      <td>200</td>\n",
       "      <td>Male</td>\n",
       "      <td>30</td>\n",
       "      <td>137</td>\n",
       "      <td>83</td>\n",
       "    </tr>\n",
       "  </tbody>\n",
       "</table>\n",
       "<p>200 rows × 5 columns</p>\n",
       "</div>"
      ],
      "text/plain": [
       "     CustomerID   Genre  Age  Annual_Income(k$)  Spending_Score(1-100)\n",
       "0             1    Male   19                 15                     39\n",
       "1             2    Male   21                 15                     81\n",
       "2             3  Female   20                 16                      6\n",
       "3             4  Female   23                 16                     77\n",
       "4             5  Female   31                 17                     40\n",
       "..          ...     ...  ...                ...                    ...\n",
       "195         196  Female   35                120                     79\n",
       "196         197  Female   45                126                     28\n",
       "197         198    Male   32                126                     74\n",
       "198         199    Male   32                137                     18\n",
       "199         200    Male   30                137                     83\n",
       "\n",
       "[200 rows x 5 columns]"
      ]
     },
     "execution_count": 108,
     "metadata": {},
     "output_type": "execute_result"
    }
   ],
   "source": [
    "df_pandas = df.toPandas()\n",
    "\n",
    "df_pandas\n"
   ]
  },
  {
   "cell_type": "markdown",
   "metadata": {},
   "source": [
    "Plotting scatterplot"
   ]
  },
  {
   "cell_type": "code",
   "execution_count": 109,
   "metadata": {},
   "outputs": [
    {
     "data": {
      "text/plain": [
       "<function matplotlib.pyplot.show(close=None, block=None)>"
      ]
     },
     "execution_count": 109,
     "metadata": {},
     "output_type": "execute_result"
    },
    {
     "data": {
      "image/png": "[encoded data removed]",
      "text/plain": [
       "<Figure size 500x500 with 1 Axes>"
      ]
     },
     "metadata": {},
     "output_type": "display_data"
    }
   ],
   "source": [
    "plt.figure(figsize=(5,5))\n",
    "plt.scatter(x=df_pandas['Spending_Score(1-100)'],y=df_pandas[\"Annual_Income(k$)\"])\n",
    "plt.xlabel(\"Spending Score\")\n",
    "plt.ylabel(\"Annual Income (k$)\")\n",
    "plt.title(\"Spending score vs Annual Income\")\n",
    "plt.show"
   ]
  },
  {
   "cell_type": "code",
   "execution_count": 110,
   "metadata": {},
   "outputs": [],
   "source": [
    "model_df = df.select('Annual_Income(k$)','Spending_Score(1-100)')"
   ]
  },
  {
   "cell_type": "code",
   "execution_count": 111,
   "metadata": {},
   "outputs": [
    {
     "name": "stdout",
     "output_type": "stream",
     "text": [
      "+-----------------+---------------------+\n",
      "|Annual_Income(k$)|Spending_Score(1-100)|\n",
      "+-----------------+---------------------+\n",
      "|               15|                   39|\n",
      "|               15|                   81|\n",
      "|               16|                    6|\n",
      "|               16|                   77|\n",
      "|               17|                   40|\n",
      "|               17|                   76|\n",
      "|               18|                    6|\n",
      "|               18|                   94|\n",
      "|               19|                    3|\n",
      "|               19|                   72|\n",
      "|               19|                   14|\n",
      "|               19|                   99|\n",
      "|               20|                   15|\n",
      "|               20|                   77|\n",
      "|               20|                   13|\n",
      "|               20|                   79|\n",
      "|               21|                   35|\n",
      "|               21|                   66|\n",
      "|               23|                   29|\n",
      "|               23|                   98|\n",
      "+-----------------+---------------------+\n",
      "only showing top 20 rows\n",
      "\n"
     ]
    }
   ],
   "source": [
    "model_df.show()"
   ]
  },
  {
   "cell_type": "markdown",
   "metadata": {},
   "source": [
    "Vectorization and Scaling"
   ]
  },
  {
   "cell_type": "code",
   "execution_count": 112,
   "metadata": {},
   "outputs": [],
   "source": [
    "from pyspark.ml.feature import StringIndexer, VectorAssembler\n",
    "from pyspark.ml import Pipeline\n",
    "from pyspark.ml.feature import StandardScaler ,MinMaxScaler"
   ]
  },
  {
   "cell_type": "code",
   "execution_count": 113,
   "metadata": {},
   "outputs": [
    {
     "name": "stdout",
     "output_type": "stream",
     "text": [
      "['Annual_Income(k$)', 'Spending_Score(1-100)']\n"
     ]
    }
   ],
   "source": [
    "# features = ['Annual_Income(k$)', 'Spending_Score(1-100)']\n",
    "features = model_df.columns\n",
    "print(features)"
   ]
  },
  {
   "cell_type": "code",
   "execution_count": 114,
   "metadata": {},
   "outputs": [],
   "source": [
    "assembler = VectorAssembler(inputCols=features, outputCol=\"features\")\n",
    "model_df = assembler.transform(model_df)\n"
   ]
  },
  {
   "cell_type": "code",
   "execution_count": 115,
   "metadata": {},
   "outputs": [],
   "source": [
    "# Standardize the features\n",
    "scaler = StandardScaler(inputCol=\"features\", outputCol=\"scaled_features\", withStd=True, withMean=False)\n",
    "model_df = scaler.fit(model_df).transform(model_df)"
   ]
  },
  {
   "cell_type": "code",
   "execution_count": 116,
   "metadata": {},
   "outputs": [
    {
     "name": "stdout",
     "output_type": "stream",
     "text": [
      "+-----------------+---------------------+-----------+--------------------+\n",
      "|Annual_Income(k$)|Spending_Score(1-100)|   features|     scaled_features|\n",
      "+-----------------+---------------------+-----------+--------------------+\n",
      "|               15|                   39|[15.0,39.0]|[0.57110829030364...|\n",
      "|               15|                   81|[15.0,81.0]|[0.57110829030364...|\n",
      "|               16|                    6| [16.0,6.0]|[0.60918217632388...|\n",
      "|               16|                   77|[16.0,77.0]|[0.60918217632388...|\n",
      "|               17|                   40|[17.0,40.0]|[0.64725606234413...|\n",
      "|               17|                   76|[17.0,76.0]|[0.64725606234413...|\n",
      "|               18|                    6| [18.0,6.0]|[0.68532994836437...|\n",
      "|               18|                   94|[18.0,94.0]|[0.68532994836437...|\n",
      "|               19|                    3| [19.0,3.0]|[0.72340383438461...|\n",
      "|               19|                   72|[19.0,72.0]|[0.72340383438461...|\n",
      "|               19|                   14|[19.0,14.0]|[0.72340383438461...|\n",
      "|               19|                   99|[19.0,99.0]|[0.72340383438461...|\n",
      "|               20|                   15|[20.0,15.0]|[0.76147772040485...|\n",
      "|               20|                   77|[20.0,77.0]|[0.76147772040485...|\n",
      "|               20|                   13|[20.0,13.0]|[0.76147772040485...|\n",
      "|               20|                   79|[20.0,79.0]|[0.76147772040485...|\n",
      "|               21|                   35|[21.0,35.0]|[0.79955160642510...|\n",
      "|               21|                   66|[21.0,66.0]|[0.79955160642510...|\n",
      "|               23|                   29|[23.0,29.0]|[0.87569937846558...|\n",
      "|               23|                   98|[23.0,98.0]|[0.87569937846558...|\n",
      "+-----------------+---------------------+-----------+--------------------+\n",
      "only showing top 20 rows\n",
      "\n"
     ]
    }
   ],
   "source": [
    "model_df.show()"
   ]
  },
  {
   "cell_type": "markdown",
   "metadata": {},
   "source": [
    "Replacing Scaled vectors with original features "
   ]
  },
  {
   "cell_type": "code",
   "execution_count": 117,
   "metadata": {},
   "outputs": [],
   "source": [
    "from pyspark.sql.functions import col"
   ]
  },
  {
   "cell_type": "markdown",
   "metadata": {},
   "source": [
    "converting scaled_feature column vectors to array"
   ]
  },
  {
   "cell_type": "code",
   "execution_count": 118,
   "metadata": {},
   "outputs": [
    {
     "name": "stdout",
     "output_type": "stream",
     "text": [
      "+-----------------+---------------------+-----------+--------------------+---------------------+\n",
      "|Annual_Income(k$)|Spending_Score(1-100)|   features|     scaled_features|scaled_array_features|\n",
      "+-----------------+---------------------+-----------+--------------------+---------------------+\n",
      "|               15|                   39|[15.0,39.0]|[0.57110829030364...| [0.57110829030364...|\n",
      "|               15|                   81|[15.0,81.0]|[0.57110829030364...| [0.57110829030364...|\n",
      "|               16|                    6| [16.0,6.0]|[0.60918217632388...| [0.60918217632388...|\n",
      "|               16|                   77|[16.0,77.0]|[0.60918217632388...| [0.60918217632388...|\n",
      "|               17|                   40|[17.0,40.0]|[0.64725606234413...| [0.64725606234413...|\n",
      "|               17|                   76|[17.0,76.0]|[0.64725606234413...| [0.64725606234413...|\n",
      "|               18|                    6| [18.0,6.0]|[0.68532994836437...| [0.68532994836437...|\n",
      "|               18|                   94|[18.0,94.0]|[0.68532994836437...| [0.68532994836437...|\n",
      "|               19|                    3| [19.0,3.0]|[0.72340383438461...| [0.72340383438461...|\n",
      "|               19|                   72|[19.0,72.0]|[0.72340383438461...| [0.72340383438461...|\n",
      "|               19|                   14|[19.0,14.0]|[0.72340383438461...| [0.72340383438461...|\n",
      "|               19|                   99|[19.0,99.0]|[0.72340383438461...| [0.72340383438461...|\n",
      "|               20|                   15|[20.0,15.0]|[0.76147772040485...| [0.76147772040485...|\n",
      "|               20|                   77|[20.0,77.0]|[0.76147772040485...| [0.76147772040485...|\n",
      "|               20|                   13|[20.0,13.0]|[0.76147772040485...| [0.76147772040485...|\n",
      "|               20|                   79|[20.0,79.0]|[0.76147772040485...| [0.76147772040485...|\n",
      "|               21|                   35|[21.0,35.0]|[0.79955160642510...| [0.79955160642510...|\n",
      "|               21|                   66|[21.0,66.0]|[0.79955160642510...| [0.79955160642510...|\n",
      "|               23|                   29|[23.0,29.0]|[0.87569937846558...| [0.87569937846558...|\n",
      "|               23|                   98|[23.0,98.0]|[0.87569937846558...| [0.87569937846558...|\n",
      "+-----------------+---------------------+-----------+--------------------+---------------------+\n",
      "only showing top 20 rows\n",
      "\n"
     ]
    }
   ],
   "source": [
    "from pyspark.ml.functions import vector_to_array\n",
    "model_df = model_df.select('*', vector_to_array('scaled_features').alias('scaled_array_features'))\n",
    "model_df.show()"
   ]
  },
  {
   "cell_type": "code",
   "execution_count": 119,
   "metadata": {},
   "outputs": [
    {
     "name": "stdout",
     "output_type": "stream",
     "text": [
      "+------------------+---------------------+-----------+--------------------+\n",
      "| Annual_Income(k$)|Spending_Score(1-100)|   features|     scaled_features|\n",
      "+------------------+---------------------+-----------+--------------------+\n",
      "|0.5711082903036444|    1.510251022337088|[15.0,39.0]|[0.57110829030364...|\n",
      "|0.5711082903036444|   3.1366752002385674|[15.0,81.0]|[0.57110829030364...|\n",
      "|0.6091821763238874|   0.2323463111287828| [16.0,6.0]|[0.60918217632388...|\n",
      "|0.6091821763238874|   2.9817776594860455|[16.0,77.0]|[0.60918217632388...|\n",
      "|0.6472560623441304|   1.5489754075252185|[17.0,40.0]|[0.64725606234413...|\n",
      "|0.6472560623441304|    2.943053274297915|[17.0,76.0]|[0.64725606234413...|\n",
      "|0.6853299483643733|   0.2323463111287828| [18.0,6.0]|[0.68532994836437...|\n",
      "|0.6853299483643733|   3.6400922076842637|[18.0,94.0]|[0.68532994836437...|\n",
      "|0.7234038343846163|   0.1161731555643914| [19.0,3.0]|[0.72340383438461...|\n",
      "|0.7234038343846163|   2.7881557335453935|[19.0,72.0]|[0.72340383438461...|\n",
      "|0.7234038343846163|   0.5421413926338264|[19.0,14.0]|[0.72340383438461...|\n",
      "|0.7234038343846163|   3.8337141336249156|[19.0,99.0]|[0.72340383438461...|\n",
      "|0.7614777204048593|   0.5808657778219569|[20.0,15.0]|[0.76147772040485...|\n",
      "|0.7614777204048593|   2.9817776594860455|[20.0,77.0]|[0.76147772040485...|\n",
      "|0.7614777204048593|   0.5034170074456961|[20.0,13.0]|[0.76147772040485...|\n",
      "|0.7614777204048593|   3.0592264298623064|[20.0,79.0]|[0.76147772040485...|\n",
      "|0.7995516064251021|   1.3553534815845663|[21.0,35.0]|[0.79955160642510...|\n",
      "|0.7995516064251021|   2.5558094224166106|[21.0,66.0]|[0.79955160642510...|\n",
      "|0.8756993784655881|   1.1230071704557834|[23.0,29.0]|[0.87569937846558...|\n",
      "|0.8756993784655881|    3.794989748436785|[23.0,98.0]|[0.87569937846558...|\n",
      "+------------------+---------------------+-----------+--------------------+\n",
      "only showing top 20 rows\n",
      "\n"
     ]
    }
   ],
   "source": [
    "# Extract values from 'scaled_features' column and create new columns\n",
    "model_df = model_df.withColumn(\"Annual_Income(k$)\", col(\"scaled_array_features\")[0])\n",
    "model_df = model_df.withColumn(\"Spending_Score(1-100)\", col(\"scaled_array_features\")[1])\n",
    "\n",
    "# Drop the 'scaled_features' column\n",
    "model_df = model_df.drop(\"scaled_array_features\")\n",
    "\n",
    "model_df.show()"
   ]
  },
  {
   "cell_type": "markdown",
   "metadata": {},
   "source": [
    "converting feature vector column to Array"
   ]
  },
  {
   "cell_type": "markdown",
   "metadata": {},
   "source": [
    "# Finding Best K using elbow point method"
   ]
  },
  {
   "cell_type": "markdown",
   "metadata": {},
   "source": [
    "creating a list of sum of Squared error"
   ]
  },
  {
   "cell_type": "code",
   "execution_count": 120,
   "metadata": {},
   "outputs": [
    {
     "name": "stdout",
     "output_type": "stream",
     "text": [
      "[269.3507453098518, 156.9154881096077, 122.27944728944352, 65.24056611493825, 55.10045942686508, 44.68662962224021, 41.4119899789239, 34.381097476329465, 36.098823013586056]\n"
     ]
    }
   ],
   "source": [
    "k_rng = range(2,11)\n",
    "sse=[] # sum of square error list\n",
    "for k in k_rng:\n",
    "    kmeans = KMeans(featuresCol=\"scaled_features\").setK(k).setSeed(42)\n",
    "    model = kmeans.fit(model_df)\n",
    "    cost = model.summary.trainingCost\n",
    "    sse.append(cost)\n",
    "    \n",
    "print(sse)"
   ]
  },
  {
   "cell_type": "markdown",
   "metadata": {},
   "source": [
    "Plot the K value range vs SSE"
   ]
  },
  {
   "cell_type": "code",
   "execution_count": 121,
   "metadata": {},
   "outputs": [
    {
     "data": {
      "image/png": "[encoded data removed]",
      "text/plain": [
       "<Figure size 800x600 with 1 Axes>"
      ]
     },
     "metadata": {},
     "output_type": "display_data"
    }
   ],
   "source": [
    "# Plot the cost vs. k to find the elbow point\n",
    "plt.figure(figsize=(8, 6))\n",
    "plt.plot(k_rng,sse, marker='o')\n",
    "plt.xlabel('Number of Clusters (k)')\n",
    "plt.ylabel('Cost (Inertia)')\n",
    "plt.title('Elbow Method for Optimal k')\n",
    "plt.xticks(k_rng)\n",
    "plt.grid(True)\n",
    "plt.show()"
   ]
  },
  {
   "cell_type": "markdown",
   "metadata": {},
   "source": [
    "# Kmeans Model Training"
   ]
  },
  {
   "cell_type": "code",
   "execution_count": 122,
   "metadata": {},
   "outputs": [],
   "source": [
    "kmeans = KMeans(featuresCol=\"scaled_features\",k=5,seed=1) \n",
    "model = kmeans.fit(model_df)\n"
   ]
  },
  {
   "cell_type": "code",
   "execution_count": 123,
   "metadata": {},
   "outputs": [
    {
     "name": "stdout",
     "output_type": "stream",
     "text": [
      "+------------------+---------------------+-----------+--------------------+----------+\n",
      "| Annual_Income(k$)|Spending_Score(1-100)|   features|     scaled_features|prediction|\n",
      "+------------------+---------------------+-----------+--------------------+----------+\n",
      "|0.5711082903036444|    1.510251022337088|[15.0,39.0]|[0.57110829030364...|         0|\n",
      "|0.5711082903036444|   3.1366752002385674|[15.0,81.0]|[0.57110829030364...|         2|\n",
      "|0.6091821763238874|   0.2323463111287828| [16.0,6.0]|[0.60918217632388...|         0|\n",
      "|0.6091821763238874|   2.9817776594860455|[16.0,77.0]|[0.60918217632388...|         2|\n",
      "|0.6472560623441304|   1.5489754075252185|[17.0,40.0]|[0.64725606234413...|         0|\n",
      "|0.6472560623441304|    2.943053274297915|[17.0,76.0]|[0.64725606234413...|         2|\n",
      "|0.6853299483643733|   0.2323463111287828| [18.0,6.0]|[0.68532994836437...|         0|\n",
      "|0.6853299483643733|   3.6400922076842637|[18.0,94.0]|[0.68532994836437...|         2|\n",
      "|0.7234038343846163|   0.1161731555643914| [19.0,3.0]|[0.72340383438461...|         0|\n",
      "|0.7234038343846163|   2.7881557335453935|[19.0,72.0]|[0.72340383438461...|         2|\n",
      "|0.7234038343846163|   0.5421413926338264|[19.0,14.0]|[0.72340383438461...|         0|\n",
      "|0.7234038343846163|   3.8337141336249156|[19.0,99.0]|[0.72340383438461...|         2|\n",
      "|0.7614777204048593|   0.5808657778219569|[20.0,15.0]|[0.76147772040485...|         0|\n",
      "|0.7614777204048593|   2.9817776594860455|[20.0,77.0]|[0.76147772040485...|         2|\n",
      "|0.7614777204048593|   0.5034170074456961|[20.0,13.0]|[0.76147772040485...|         0|\n",
      "|0.7614777204048593|   3.0592264298623064|[20.0,79.0]|[0.76147772040485...|         2|\n",
      "|0.7995516064251021|   1.3553534815845663|[21.0,35.0]|[0.79955160642510...|         0|\n",
      "|0.7995516064251021|   2.5558094224166106|[21.0,66.0]|[0.79955160642510...|         2|\n",
      "|0.8756993784655881|   1.1230071704557834|[23.0,29.0]|[0.87569937846558...|         0|\n",
      "|0.8756993784655881|    3.794989748436785|[23.0,98.0]|[0.87569937846558...|         2|\n",
      "+------------------+---------------------+-----------+--------------------+----------+\n",
      "only showing top 20 rows\n",
      "\n"
     ]
    }
   ],
   "source": [
    "# Make predictions\n",
    "y_prediction = model.transform(model_df)\n",
    "y_prediction.show()"
   ]
  },
  {
   "cell_type": "markdown",
   "metadata": {},
   "source": [
    "cluster count"
   ]
  },
  {
   "cell_type": "code",
   "execution_count": 124,
   "metadata": {},
   "outputs": [
    {
     "name": "stdout",
     "output_type": "stream",
     "text": [
      "+----------+-----+\n",
      "|prediction|count|\n",
      "+----------+-----+\n",
      "|         1|   39|\n",
      "|         3|   81|\n",
      "|         4|   35|\n",
      "|         2|   22|\n",
      "|         0|   23|\n",
      "+----------+-----+\n",
      "\n"
     ]
    }
   ],
   "source": [
    "y_prediction.groupBy(\"prediction\").count().show()"
   ]
  },
  {
   "cell_type": "markdown",
   "metadata": {},
   "source": [
    "finding Centers of custers "
   ]
  },
  {
   "cell_type": "code",
   "execution_count": 125,
   "metadata": {},
   "outputs": [
    {
     "name": "stdout",
     "output_type": "stream",
     "text": [
      "==Centers==\n",
      "[1.00150874 0.80984475]\n",
      "[3.29485552 3.18036425]\n",
      "[0.97953725 3.07330802]\n",
      "[2.10534488 1.91757419]\n",
      "[3.35811675 0.66274019]\n"
     ]
    }
   ],
   "source": [
    "cluster_centers = model.clusterCenters()\n",
    "print(\"==Centers==\")\n",
    "for center in cluster_centers:\n",
    "    print(center)"
   ]
  },
  {
   "cell_type": "markdown",
   "metadata": {},
   "source": [
    "Convert spark to pandas for plotting"
   ]
  },
  {
   "cell_type": "code",
   "execution_count": 126,
   "metadata": {},
   "outputs": [],
   "source": [
    "y_pandas = y_prediction.toPandas()\n"
   ]
  },
  {
   "cell_type": "code",
   "execution_count": 127,
   "metadata": {},
   "outputs": [
    {
     "data": {
      "text/html": [
       "<div>\n",
       "<style scoped>\n",
       "    .dataframe tbody tr th:only-of-type {\n",
       "        vertical-align: middle;\n",
       "    }\n",
       "\n",
       "    .dataframe tbody tr th {\n",
       "        vertical-align: top;\n",
       "    }\n",
       "\n",
       "    .dataframe thead th {\n",
       "        text-align: right;\n",
       "    }\n",
       "</style>\n",
       "<table border=\"1\" class=\"dataframe\">\n",
       "  <thead>\n",
       "    <tr style=\"text-align: right;\">\n",
       "      <th></th>\n",
       "      <th>Annual_Income(k$)</th>\n",
       "      <th>Spending_Score(1-100)</th>\n",
       "      <th>features</th>\n",
       "      <th>scaled_features</th>\n",
       "      <th>prediction</th>\n",
       "    </tr>\n",
       "  </thead>\n",
       "  <tbody>\n",
       "    <tr>\n",
       "      <th>0</th>\n",
       "      <td>0.571108</td>\n",
       "      <td>1.510251</td>\n",
       "      <td>[15.0, 39.0]</td>\n",
       "      <td>[0.5711082903036444, 1.510251022337088]</td>\n",
       "      <td>0</td>\n",
       "    </tr>\n",
       "    <tr>\n",
       "      <th>1</th>\n",
       "      <td>0.571108</td>\n",
       "      <td>3.136675</td>\n",
       "      <td>[15.0, 81.0]</td>\n",
       "      <td>[0.5711082903036444, 3.1366752002385674]</td>\n",
       "      <td>2</td>\n",
       "    </tr>\n",
       "    <tr>\n",
       "      <th>2</th>\n",
       "      <td>0.609182</td>\n",
       "      <td>0.232346</td>\n",
       "      <td>[16.0, 6.0]</td>\n",
       "      <td>[0.6091821763238874, 0.2323463111287828]</td>\n",
       "      <td>0</td>\n",
       "    </tr>\n",
       "    <tr>\n",
       "      <th>3</th>\n",
       "      <td>0.609182</td>\n",
       "      <td>2.981778</td>\n",
       "      <td>[16.0, 77.0]</td>\n",
       "      <td>[0.6091821763238874, 2.9817776594860455]</td>\n",
       "      <td>2</td>\n",
       "    </tr>\n",
       "    <tr>\n",
       "      <th>4</th>\n",
       "      <td>0.647256</td>\n",
       "      <td>1.548975</td>\n",
       "      <td>[17.0, 40.0]</td>\n",
       "      <td>[0.6472560623441304, 1.5489754075252185]</td>\n",
       "      <td>0</td>\n",
       "    </tr>\n",
       "    <tr>\n",
       "      <th>...</th>\n",
       "      <td>...</td>\n",
       "      <td>...</td>\n",
       "      <td>...</td>\n",
       "      <td>...</td>\n",
       "      <td>...</td>\n",
       "    </tr>\n",
       "    <tr>\n",
       "      <th>195</th>\n",
       "      <td>4.568866</td>\n",
       "      <td>3.059226</td>\n",
       "      <td>[120.0, 79.0]</td>\n",
       "      <td>[4.568866322429155, 3.0592264298623064]</td>\n",
       "      <td>1</td>\n",
       "    </tr>\n",
       "    <tr>\n",
       "      <th>196</th>\n",
       "      <td>4.797310</td>\n",
       "      <td>1.084283</td>\n",
       "      <td>[126.0, 28.0]</td>\n",
       "      <td>[4.7973096385506135, 1.0842827852676529]</td>\n",
       "      <td>4</td>\n",
       "    </tr>\n",
       "    <tr>\n",
       "      <th>197</th>\n",
       "      <td>4.797310</td>\n",
       "      <td>2.865605</td>\n",
       "      <td>[126.0, 74.0]</td>\n",
       "      <td>[4.7973096385506135, 2.8656045039216544]</td>\n",
       "      <td>1</td>\n",
       "    </tr>\n",
       "    <tr>\n",
       "      <th>198</th>\n",
       "      <td>5.216122</td>\n",
       "      <td>0.697039</td>\n",
       "      <td>[137.0, 18.0]</td>\n",
       "      <td>[5.216122384773286, 0.6970389333863484]</td>\n",
       "      <td>4</td>\n",
       "    </tr>\n",
       "    <tr>\n",
       "      <th>199</th>\n",
       "      <td>5.216122</td>\n",
       "      <td>3.214124</td>\n",
       "      <td>[137.0, 83.0]</td>\n",
       "      <td>[5.216122384773286, 3.2141239706148284]</td>\n",
       "      <td>1</td>\n",
       "    </tr>\n",
       "  </tbody>\n",
       "</table>\n",
       "<p>200 rows × 5 columns</p>\n",
       "</div>"
      ],
      "text/plain": [
       "     Annual_Income(k$)  Spending_Score(1-100)       features  \\\n",
       "0             0.571108               1.510251   [15.0, 39.0]   \n",
       "1             0.571108               3.136675   [15.0, 81.0]   \n",
       "2             0.609182               0.232346    [16.0, 6.0]   \n",
       "3             0.609182               2.981778   [16.0, 77.0]   \n",
       "4             0.647256               1.548975   [17.0, 40.0]   \n",
       "..                 ...                    ...            ...   \n",
       "195           4.568866               3.059226  [120.0, 79.0]   \n",
       "196           4.797310               1.084283  [126.0, 28.0]   \n",
       "197           4.797310               2.865605  [126.0, 74.0]   \n",
       "198           5.216122               0.697039  [137.0, 18.0]   \n",
       "199           5.216122               3.214124  [137.0, 83.0]   \n",
       "\n",
       "                              scaled_features  prediction  \n",
       "0     [0.5711082903036444, 1.510251022337088]           0  \n",
       "1    [0.5711082903036444, 3.1366752002385674]           2  \n",
       "2    [0.6091821763238874, 0.2323463111287828]           0  \n",
       "3    [0.6091821763238874, 2.9817776594860455]           2  \n",
       "4    [0.6472560623441304, 1.5489754075252185]           0  \n",
       "..                                        ...         ...  \n",
       "195   [4.568866322429155, 3.0592264298623064]           1  \n",
       "196  [4.7973096385506135, 1.0842827852676529]           4  \n",
       "197  [4.7973096385506135, 2.8656045039216544]           1  \n",
       "198   [5.216122384773286, 0.6970389333863484]           4  \n",
       "199   [5.216122384773286, 3.2141239706148284]           1  \n",
       "\n",
       "[200 rows x 5 columns]"
      ]
     },
     "execution_count": 127,
     "metadata": {},
     "output_type": "execute_result"
    }
   ],
   "source": [
    "y_pandas"
   ]
  },
  {
   "cell_type": "markdown",
   "metadata": {},
   "source": [
    "Plotting scatter plot Annual income vs spending score with clusters"
   ]
  },
  {
   "cell_type": "code",
   "execution_count": 128,
   "metadata": {},
   "outputs": [
    {
     "data": {
      "image/png": "[encoded data removed]",
      "text/plain": [
       "<Figure size 800x600 with 1 Axes>"
      ]
     },
     "metadata": {},
     "output_type": "display_data"
    }
   ],
   "source": [
    "plt.figure(figsize=(8, 6))\n",
    "plt.scatter(x=y_pandas['Annual_Income(k$)'], y=y_pandas['Spending_Score(1-100)'],c=y_pandas['prediction'],cmap='plasma')\n",
    "plt.xlabel(\"Spending Score\")\n",
    "plt.ylabel(\"Annual Income (k$)\")\n",
    "plt.title(\"Spending score vs Annual Income (Clustered)\")\n",
    "# Plot cluster center\n",
    "for i,center in enumerate(cluster_centers):\n",
    "    plt.scatter(x=center[0],y=center[1],marker='*',s=200,label=f\"centroid {i+1}\")\n",
    "plt.show()"
   ]
  },
  {
   "cell_type": "markdown",
   "metadata": {},
   "source": [
    "# Performance Metrices"
   ]
  },
  {
   "cell_type": "markdown",
   "metadata": {},
   "source": [
    "Silhoutte Score"
   ]
  },
  {
   "cell_type": "code",
   "execution_count": 129,
   "metadata": {},
   "outputs": [],
   "source": [
    "from pyspark.ml.evaluation import ClusteringEvaluator"
   ]
  },
  {
   "cell_type": "code",
   "execution_count": 130,
   "metadata": {},
   "outputs": [],
   "source": [
    "eval = ClusteringEvaluator()"
   ]
  },
  {
   "cell_type": "code",
   "execution_count": 131,
   "metadata": {},
   "outputs": [
    {
     "name": "stdout",
     "output_type": "stream",
     "text": [
      "Silhouetter Score:0.7397829244623759\n"
     ]
    }
   ],
   "source": [
    "silhouette = eval.evaluate(y_prediction)\n",
    "print(f\"Silhouetter Score:{silhouette}\")"
   ]
  },
  {
   "cell_type": "markdown",
   "metadata": {},
   "source": [
    "Stop Spark session"
   ]
  },
  {
   "cell_type": "code",
   "execution_count": 132,
   "metadata": {},
   "outputs": [],
   "source": [
    "spark.stop()"
   ]
  }
 ],
 "metadata": {
  "kernelspec": {
   "display_name": "Python 3",
   "language": "python",
   "name": "python3"
  },
  "language_info": {
   "codemirror_mode": {
    "name": "ipython",
    "version": 3
   },
   "file_extension": ".py",
   "mimetype": "text/x-python",
   "name": "python",
   "nbconvert_exporter": "python",
   "pygments_lexer": "ipython3",
   "version": "3.8.10"
  },
  "orig_nbformat": 4
 },
 "nbformat": 4,
 "nbformat_minor": 2
}
