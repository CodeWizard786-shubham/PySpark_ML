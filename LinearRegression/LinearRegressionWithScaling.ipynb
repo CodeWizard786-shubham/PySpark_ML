{
 "cells": [
  {
   "cell_type": "markdown",
   "metadata": {},
   "source": [
    "# Linear Regression Implementation \\\n",
    "Standard Scaler"
   ]
  },
  {
   "cell_type": "markdown",
   "metadata": {},
   "source": [
    "Predict Salary of Employee by Years of Experience"
   ]
  },
  {
   "cell_type": "markdown",
   "metadata": {},
   "source": [
    "Defining Libraries"
   ]
  },
  {
   "cell_type": "code",
   "execution_count": 3,
   "metadata": {},
   "outputs": [],
   "source": [
    "\n",
    "from pyspark.sql import SparkSession\n",
    "from pyspark.sql.functions import col, when,sum,mean,isnan,isnull,count"
   ]
  },
  {
   "cell_type": "markdown",
   "metadata": {},
   "source": [
    "Reading CSV input File"
   ]
  },
  {
   "cell_type": "code",
   "execution_count": 4,
   "metadata": {},
   "outputs": [
    {
     "name": "stdout",
     "output_type": "stream",
     "text": [
      "23/07/24 20:08:50 WARN Utils: Your hostname, UbuntuOS resolves to a loopback address: 127.0.1.1; using 10.0.2.15 instead (on interface enp0s3)\n",
      "23/07/24 20:08:50 WARN Utils: Set SPARK_LOCAL_IP if you need to bind to another address\n"
     ]
    },
    {
     "name": "stderr",
     "output_type": "stream",
     "text": [
      "Setting default log level to \"WARN\".\n",
      "To adjust logging level use sc.setLogLevel(newLevel). For SparkR, use setLogLevel(newLevel).\n"
     ]
    },
    {
     "name": "stdout",
     "output_type": "stream",
     "text": [
      "23/07/24 20:08:51 WARN NativeCodeLoader: Unable to load native-hadoop library for your platform... using builtin-java classes where applicable\n",
      "+---------------+-------+\n",
      "|YearsExperience| Salary|\n",
      "+---------------+-------+\n",
      "|            1.1|39343.0|\n",
      "|            1.3|46205.0|\n",
      "|            1.5|37731.0|\n",
      "|            2.0|43525.0|\n",
      "|            2.2|39891.0|\n",
      "|            2.9|56642.0|\n",
      "|            3.0|60150.0|\n",
      "|            3.2|54445.0|\n",
      "|            3.2|64445.0|\n",
      "|            3.7|57189.0|\n",
      "|            3.9|63218.0|\n",
      "|            4.0|55794.0|\n",
      "|            4.0|56957.0|\n",
      "|            4.1|57081.0|\n",
      "|            4.5|61111.0|\n",
      "|            4.9|67938.0|\n",
      "|            5.1|66029.0|\n",
      "|            5.3|83088.0|\n",
      "|            5.9|81363.0|\n",
      "|            6.0|93940.0|\n",
      "+---------------+-------+\n",
      "only showing top 20 rows\n",
      "\n"
     ]
    }
   ],
   "source": [
    "spark = SparkSession.builder.appName(\"LinearPreprocessing\").config(\"spark.driver.bindAddress\", \"10.0.2.15\").getOrCreate()\n",
    "\n",
    "spark_df = spark.read.csv(\"Salary_Data.csv\",header=True,inferSchema=True)\n",
    "\n",
    "spark_df.show()"
   ]
  },
  {
   "cell_type": "markdown",
   "metadata": {},
   "source": [
    "Describe Dataset"
   ]
  },
  {
   "cell_type": "code",
   "execution_count": 5,
   "metadata": {},
   "outputs": [
    {
     "name": "stdout",
     "output_type": "stream",
     "text": [
      "+-------+------------------+------------------+\n",
      "|summary|   YearsExperience|            Salary|\n",
      "+-------+------------------+------------------+\n",
      "|  count|                30|                30|\n",
      "|   mean|5.3133333333333335|           76003.0|\n",
      "| stddev| 2.837888157662718|27414.429784582302|\n",
      "|    min|               1.1|           37731.0|\n",
      "|    max|              10.5|          122391.0|\n",
      "+-------+------------------+------------------+\n",
      "\n"
     ]
    }
   ],
   "source": [
    "spark_df.describe().show()"
   ]
  },
  {
   "cell_type": "markdown",
   "metadata": {},
   "source": [
    "Dataset Summary"
   ]
  },
  {
   "cell_type": "code",
   "execution_count": 6,
   "metadata": {},
   "outputs": [
    {
     "name": "stdout",
     "output_type": "stream",
     "text": [
      "root\n",
      " |-- YearsExperience: double (nullable = true)\n",
      " |-- Salary: double (nullable = true)\n",
      "\n"
     ]
    }
   ],
   "source": [
    "\n",
    "spark_df.printSchema()"
   ]
  },
  {
   "cell_type": "markdown",
   "metadata": {},
   "source": [
    "Display top few rows"
   ]
  },
  {
   "cell_type": "code",
   "execution_count": 7,
   "metadata": {},
   "outputs": [
    {
     "data": {
      "text/plain": [
       "[Row(YearsExperience=1.1, Salary=39343.0),\n",
       " Row(YearsExperience=1.3, Salary=46205.0),\n",
       " Row(YearsExperience=1.5, Salary=37731.0),\n",
       " Row(YearsExperience=2.0, Salary=43525.0),\n",
       " Row(YearsExperience=2.2, Salary=39891.0),\n",
       " Row(YearsExperience=2.9, Salary=56642.0),\n",
       " Row(YearsExperience=3.0, Salary=60150.0),\n",
       " Row(YearsExperience=3.2, Salary=54445.0),\n",
       " Row(YearsExperience=3.2, Salary=64445.0),\n",
       " Row(YearsExperience=3.7, Salary=57189.0)]"
      ]
     },
     "execution_count": 7,
     "metadata": {},
     "output_type": "execute_result"
    }
   ],
   "source": [
    "spark_df.head(10)"
   ]
  },
  {
   "cell_type": "markdown",
   "metadata": {},
   "source": [
    "Display bottom few rows"
   ]
  },
  {
   "cell_type": "code",
   "execution_count": 8,
   "metadata": {},
   "outputs": [
    {
     "data": {
      "text/plain": [
       "[Row(YearsExperience=9.6, Salary=112635.0),\n",
       " Row(YearsExperience=10.3, Salary=122391.0),\n",
       " Row(YearsExperience=10.5, Salary=121872.0)]"
      ]
     },
     "execution_count": 8,
     "metadata": {},
     "output_type": "execute_result"
    }
   ],
   "source": [
    "spark_df.tail(3)"
   ]
  },
  {
   "cell_type": "markdown",
   "metadata": {},
   "source": [
    "Row and Column Count"
   ]
  },
  {
   "cell_type": "code",
   "execution_count": 9,
   "metadata": {},
   "outputs": [
    {
     "name": "stdout",
     "output_type": "stream",
     "text": [
      "(30,2)\n"
     ]
    }
   ],
   "source": [
    "row_count = spark_df.count()\n",
    "\n",
    "column_count = len(spark_df.columns)\n",
    "\n",
    "print(f\"({row_count},{column_count})\") \n"
   ]
  },
  {
   "cell_type": "markdown",
   "metadata": {},
   "source": [
    "Display dataset Columns"
   ]
  },
  {
   "cell_type": "code",
   "execution_count": 10,
   "metadata": {},
   "outputs": [
    {
     "data": {
      "text/plain": [
       "['YearsExperience', 'Salary']"
      ]
     },
     "execution_count": 10,
     "metadata": {},
     "output_type": "execute_result"
    }
   ],
   "source": [
    "\n",
    "spark_df.columns"
   ]
  },
  {
   "cell_type": "markdown",
   "metadata": {},
   "source": [
    "Checking null values"
   ]
  },
  {
   "cell_type": "code",
   "execution_count": 11,
   "metadata": {},
   "outputs": [
    {
     "name": "stdout",
     "output_type": "stream",
     "text": [
      "+---------------+------+\n",
      "|YearsExperience|Salary|\n",
      "+---------------+------+\n",
      "|              0|     0|\n",
      "+---------------+------+\n",
      "\n"
     ]
    }
   ],
   "source": [
    "spark_df.select([count(when(isnan(c) | col(c).isNull(), c)).alias(c) for c in spark_df.columns]).show()"
   ]
  },
  {
   "cell_type": "markdown",
   "metadata": {},
   "source": [
    "Plotting YearsExperience vs Salary plot"
   ]
  },
  {
   "cell_type": "code",
   "execution_count": 12,
   "metadata": {},
   "outputs": [],
   "source": [
    "import matplotlib.pyplot as plt\n",
    "import seaborn as sns"
   ]
  },
  {
   "cell_type": "code",
   "execution_count": 13,
   "metadata": {},
   "outputs": [
    {
     "data": {
      "image/png": "[encoded data removed]",
      "text/plain": [
       "<Figure size 500x500 with 1 Axes>"
      ]
     },
     "metadata": {},
     "output_type": "display_data"
    }
   ],
   "source": [
    "# Scatter Plot\n",
    "scatter_plot_df = spark_df.toPandas()\n",
    "\n",
    "plt.figure(figsize=(5,5))\n",
    "sns.scatterplot(x=\"YearsExperience\",y=\"Salary\",data=scatter_plot_df)\n",
    "plt.xlabel(\"Years of Experience\")\n",
    "plt.ylabel(\"Salary\")\n",
    "\n",
    "# Display plot\n",
    "plt.show()\n",
    "\n"
   ]
  },
  {
   "cell_type": "markdown",
   "metadata": {},
   "source": [
    "# Training Model"
   ]
  },
  {
   "cell_type": "markdown",
   "metadata": {},
   "source": [
    "Define necessary libraries"
   ]
  },
  {
   "cell_type": "code",
   "execution_count": 14,
   "metadata": {},
   "outputs": [],
   "source": [
    "from pyspark.ml.feature import StandardScaler , VectorAssembler\n",
    "from pyspark.ml import Pipeline"
   ]
  },
  {
   "cell_type": "markdown",
   "metadata": {},
   "source": [
    "Implementing Standard Scaler on dataset"
   ]
  },
  {
   "cell_type": "code",
   "execution_count": 15,
   "metadata": {},
   "outputs": [
    {
     "name": "stdout",
     "output_type": "stream",
     "text": [
      "+---------------+-------+-------+--------------------+\n",
      "|YearsExperience| Salary|feature|      Scaled_feature|\n",
      "+---------------+-------+-------+--------------------+\n",
      "|            1.1|39343.0|  [1.1]|[-1.484672086867381]|\n",
      "|            1.3|46205.0|  [1.3]|[-1.4141971460350...|\n",
      "|            1.5|37731.0|  [1.5]|[-1.3437222052027...|\n",
      "|            2.0|43525.0|  [2.0]|[-1.1675348531219...|\n",
      "|            2.2|39891.0|  [2.2]|[-1.097059912289663]|\n",
      "|            2.9|56642.0|  [2.9]|[-0.8503976193765...|\n",
      "|            3.0|60150.0|  [3.0]|[-0.8151601489604...|\n",
      "|            3.2|54445.0|  [3.2]|[-0.744685208128101]|\n",
      "|            3.2|64445.0|  [3.2]|[-0.744685208128101]|\n",
      "|            3.7|57189.0|  [3.7]|[-0.5684978560473...|\n",
      "|            3.9|63218.0|  [3.9]|[-0.4980229152150...|\n",
      "|            4.0|55794.0|  [4.0]|[-0.4627854447988...|\n",
      "|            4.0|56957.0|  [4.0]|[-0.4627854447988...|\n",
      "|            4.1|57081.0|  [4.1]|[-0.4275479743826...|\n",
      "|            4.5|61111.0|  [4.5]|[-0.2865980927180...|\n",
      "|            4.9|67938.0|  [4.9]|[-0.1456482110534...|\n",
      "|            5.1|66029.0|  [5.1]|[-0.0751732702211...|\n",
      "|            5.3|83088.0|  [5.3]|[-0.0046983293888...|\n",
      "|            5.9|81363.0|  [5.9]|[0.20672649310811...|\n",
      "|            6.0|93940.0|  [6.0]|[0.24196396352427...|\n",
      "+---------------+-------+-------+--------------------+\n",
      "only showing top 20 rows\n",
      "\n"
     ]
    }
   ],
   "source": [
    "assemblers = VectorAssembler(inputCols=['YearsExperience'],outputCol='feature')\n",
    "scaler = StandardScaler(inputCol='feature',outputCol=\"Scaled_feature\", withStd=True, withMean=True)\n",
    "pipeline = Pipeline(stages=(assemblers,scaler))\n",
    "scaled_df = pipeline.fit(spark_df).transform(spark_df)\n",
    "\n",
    "scaled_df.show()"
   ]
  },
  {
   "cell_type": "markdown",
   "metadata": {},
   "source": [
    "Print columns"
   ]
  },
  {
   "cell_type": "code",
   "execution_count": 16,
   "metadata": {},
   "outputs": [
    {
     "data": {
      "text/plain": [
       "['YearsExperience', 'Salary', 'feature', 'Scaled_feature']"
      ]
     },
     "execution_count": 16,
     "metadata": {},
     "output_type": "execute_result"
    }
   ],
   "source": [
    "scaled_df.columns"
   ]
  },
  {
   "cell_type": "code",
   "execution_count": 17,
   "metadata": {},
   "outputs": [],
   "source": [
    "import pyspark.sql.functions as F"
   ]
  },
  {
   "cell_type": "markdown",
   "metadata": {},
   "source": [
    "Replacing Scaled columns with independent variables"
   ]
  },
  {
   "cell_type": "code",
   "execution_count": 18,
   "metadata": {},
   "outputs": [
    {
     "name": "stdout",
     "output_type": "stream",
     "text": [
      "+--------------------+-------+-------+--------------------+\n",
      "|     YearsExperience| Salary|feature|      Scaled_feature|\n",
      "+--------------------+-------+-------+--------------------+\n",
      "|[-1.484672086867381]|39343.0|  [1.1]|[-1.484672086867381]|\n",
      "|[-1.4141971460350...|46205.0|  [1.3]|[-1.4141971460350...|\n",
      "|[-1.3437222052027...|37731.0|  [1.5]|[-1.3437222052027...|\n",
      "|[-1.1675348531219...|43525.0|  [2.0]|[-1.1675348531219...|\n",
      "|[-1.097059912289663]|39891.0|  [2.2]|[-1.097059912289663]|\n",
      "|[-0.8503976193765...|56642.0|  [2.9]|[-0.8503976193765...|\n",
      "|[-0.8151601489604...|60150.0|  [3.0]|[-0.8151601489604...|\n",
      "|[-0.744685208128101]|54445.0|  [3.2]|[-0.744685208128101]|\n",
      "|[-0.744685208128101]|64445.0|  [3.2]|[-0.744685208128101]|\n",
      "|[-0.5684978560473...|57189.0|  [3.7]|[-0.5684978560473...|\n",
      "|[-0.4980229152150...|63218.0|  [3.9]|[-0.4980229152150...|\n",
      "|[-0.4627854447988...|55794.0|  [4.0]|[-0.4627854447988...|\n",
      "|[-0.4627854447988...|56957.0|  [4.0]|[-0.4627854447988...|\n",
      "|[-0.4275479743826...|57081.0|  [4.1]|[-0.4275479743826...|\n",
      "|[-0.2865980927180...|61111.0|  [4.5]|[-0.2865980927180...|\n",
      "|[-0.1456482110534...|67938.0|  [4.9]|[-0.1456482110534...|\n",
      "|[-0.0751732702211...|66029.0|  [5.1]|[-0.0751732702211...|\n",
      "|[-0.0046983293888...|83088.0|  [5.3]|[-0.0046983293888...|\n",
      "|[0.20672649310811...|81363.0|  [5.9]|[0.20672649310811...|\n",
      "|[0.24196396352427...|93940.0|  [6.0]|[0.24196396352427...|\n",
      "+--------------------+-------+-------+--------------------+\n",
      "only showing top 20 rows\n",
      "\n"
     ]
    }
   ],
   "source": [
    "\n",
    "scaled_df = scaled_df.withColumn(\"YearsExperience\",F.col(\"Scaled_feature\"))\n",
    "\n",
    "scaled_df.show()"
   ]
  },
  {
   "cell_type": "markdown",
   "metadata": {},
   "source": [
    "Drop extra columns"
   ]
  },
  {
   "cell_type": "code",
   "execution_count": 19,
   "metadata": {},
   "outputs": [
    {
     "name": "stdout",
     "output_type": "stream",
     "text": [
      "+--------------------+-------+\n",
      "|     YearsExperience| Salary|\n",
      "+--------------------+-------+\n",
      "|[-1.484672086867381]|39343.0|\n",
      "|[-1.4141971460350...|46205.0|\n",
      "|[-1.3437222052027...|37731.0|\n",
      "|[-1.1675348531219...|43525.0|\n",
      "|[-1.097059912289663]|39891.0|\n",
      "|[-0.8503976193765...|56642.0|\n",
      "|[-0.8151601489604...|60150.0|\n",
      "|[-0.744685208128101]|54445.0|\n",
      "|[-0.744685208128101]|64445.0|\n",
      "|[-0.5684978560473...|57189.0|\n",
      "|[-0.4980229152150...|63218.0|\n",
      "|[-0.4627854447988...|55794.0|\n",
      "|[-0.4627854447988...|56957.0|\n",
      "|[-0.4275479743826...|57081.0|\n",
      "|[-0.2865980927180...|61111.0|\n",
      "|[-0.1456482110534...|67938.0|\n",
      "|[-0.0751732702211...|66029.0|\n",
      "|[-0.0046983293888...|83088.0|\n",
      "|[0.20672649310811...|81363.0|\n",
      "|[0.24196396352427...|93940.0|\n",
      "+--------------------+-------+\n",
      "only showing top 20 rows\n",
      "\n"
     ]
    }
   ],
   "source": [
    "scaled_df = scaled_df.drop(\"Scaled_feature\",\"feature\")\n",
    "\n",
    "scaled_df.show()"
   ]
  },
  {
   "cell_type": "markdown",
   "metadata": {},
   "source": [
    "Splitting data into train and test data"
   ]
  },
  {
   "cell_type": "code",
   "execution_count": 20,
   "metadata": {},
   "outputs": [],
   "source": [
    "split_dataset = scaled_df.randomSplit([0.8,0.2],seed=42)\n",
    "train_df = split_dataset[0]\n",
    "test_df = split_dataset[1]"
   ]
  },
  {
   "cell_type": "code",
   "execution_count": 21,
   "metadata": {},
   "outputs": [
    {
     "name": "stdout",
     "output_type": "stream",
     "text": [
      "+--------------------+--------+\n",
      "|     YearsExperience|  Salary|\n",
      "+--------------------+--------+\n",
      "|[-1.484672086867381]| 39343.0|\n",
      "|[-1.4141971460350...| 46205.0|\n",
      "|[-1.1675348531219...| 43525.0|\n",
      "|[-1.097059912289663]| 39891.0|\n",
      "|[-0.8503976193765...| 56642.0|\n",
      "|[-0.744685208128101]| 54445.0|\n",
      "|[-0.5684978560473...| 57189.0|\n",
      "|[-0.4980229152150...| 63218.0|\n",
      "|[-0.4627854447988...| 55794.0|\n",
      "|[-0.4627854447988...| 56957.0|\n",
      "|[-0.2865980927180...| 61111.0|\n",
      "|[-0.1456482110534...| 67938.0|\n",
      "|[-0.0751732702211...| 66029.0|\n",
      "|[-0.0046983293888...| 83088.0|\n",
      "|[0.20672649310811...| 81363.0|\n",
      "|[0.5238637268535216]| 91738.0|\n",
      "|[0.6295761381019901]| 98273.0|\n",
      "|[0.9114759014312398]|101302.0|\n",
      "| [1.193375664760489]|109431.0|\n",
      "|[1.2990880760089576]|105582.0|\n",
      "+--------------------+--------+\n",
      "only showing top 20 rows\n",
      "\n",
      "+--------------------+--------+\n",
      "|     YearsExperience|  Salary|\n",
      "+--------------------+--------+\n",
      "|[-1.3437222052027...| 37731.0|\n",
      "|[-0.8151601489604...| 60150.0|\n",
      "|[-0.744685208128101]| 64445.0|\n",
      "|[-0.4275479743826...| 57081.0|\n",
      "|[0.24196396352427...| 93940.0|\n",
      "|[1.0171883126797079]|113812.0|\n",
      "|[1.8276501322513006]|121872.0|\n",
      "+--------------------+--------+\n",
      "\n"
     ]
    }
   ],
   "source": [
    "train_df.show()\n",
    "test_df.show()"
   ]
  },
  {
   "cell_type": "markdown",
   "metadata": {},
   "source": [
    "Spliting data into different x and y coordinates"
   ]
  },
  {
   "cell_type": "code",
   "execution_count": 22,
   "metadata": {},
   "outputs": [],
   "source": [
    "X_train = train_df.select('YearsExperience')\n",
    "X_test = test_df.select('YearsExperience')\n",
    "\n",
    "y_train = train_df.select(\"Salary\")\n",
    "y_test = test_df.select('Salary')"
   ]
  },
  {
   "cell_type": "markdown",
   "metadata": {},
   "source": [
    "# Training Model"
   ]
  },
  {
   "cell_type": "markdown",
   "metadata": {},
   "source": [
    "Training the linear regression model"
   ]
  },
  {
   "cell_type": "code",
   "execution_count": 23,
   "metadata": {},
   "outputs": [],
   "source": [
    "from pyspark.ml.regression import LinearRegression"
   ]
  },
  {
   "cell_type": "code",
   "execution_count": 24,
   "metadata": {},
   "outputs": [
    {
     "name": "stdout",
     "output_type": "stream",
     "text": [
      "23/07/24 20:09:13 WARN Instrumentation: [57aa16f2] regParam is zero, which might cause numerical instability and overfitting.\n",
      "23/07/24 20:09:13 WARN InstanceBuilder$NativeBLAS: Failed to load implementation from:dev.ludovic.netlib.blas.JNIBLAS\n",
      "23/07/24 20:09:13 WARN InstanceBuilder$NativeBLAS: Failed to load implementation from:dev.ludovic.netlib.blas.ForeignLinkerBLAS\n",
      "23/07/24 20:09:13 WARN InstanceBuilder$NativeLAPACK: Failed to load implementation from:dev.ludovic.netlib.lapack.JNILAPACK\n"
     ]
    }
   ],
   "source": [
    "regr = LinearRegression(featuresCol='YearsExperience',labelCol='Salary',regParam=0.0, solver=\"normal\")\n",
    "regr_model = regr.fit(train_df)"
   ]
  },
  {
   "cell_type": "code",
   "execution_count": 25,
   "metadata": {},
   "outputs": [
    {
     "name": "stdout",
     "output_type": "stream",
     "text": [
      "+--------------------+--------+------------------+\n",
      "|     YearsExperience|  Salary|        prediction|\n",
      "+--------------------+--------+------------------+\n",
      "|[-1.3437222052027...| 37731.0| 39102.10106372216|\n",
      "|[-0.8151601489604...| 60150.0| 53214.83877075366|\n",
      "|[-0.744685208128101]| 64445.0|  55096.5371316912|\n",
      "|[-0.4275479743826...| 57081.0|63564.179755910096|\n",
      "|[0.24196396352427...| 93940.0| 81440.31418481667|\n",
      "|[1.0171883126797079]|113812.0|102138.99615512951|\n",
      "|[1.8276501322513006]|121872.0|123778.52730591116|\n",
      "+--------------------+--------+------------------+\n",
      "\n"
     ]
    }
   ],
   "source": [
    "y_pred = regr_model.evaluate(test_df)\n",
    "y_pred.predictions.show()"
   ]
  },
  {
   "cell_type": "code",
   "execution_count": 26,
   "metadata": {},
   "outputs": [],
   "source": [
    "predictions = regr_model.transform(test_df)\n"
   ]
  },
  {
   "cell_type": "markdown",
   "metadata": {},
   "source": [
    "# Evaluate Model Performance through performance Metrices "
   ]
  },
  {
   "cell_type": "markdown",
   "metadata": {},
   "source": [
    "import Regression evalaution library"
   ]
  },
  {
   "cell_type": "code",
   "execution_count": 27,
   "metadata": {},
   "outputs": [],
   "source": [
    "from pyspark.ml.evaluation import RegressionEvaluator"
   ]
  },
  {
   "cell_type": "markdown",
   "metadata": {},
   "source": [
    "Root mean square Error"
   ]
  },
  {
   "cell_type": "code",
   "execution_count": 28,
   "metadata": {},
   "outputs": [
    {
     "name": "stdout",
     "output_type": "stream",
     "text": [
      "Root Mean Squared Error (RMSE): 8242.206429271004\n"
     ]
    }
   ],
   "source": [
    "\n",
    "evaluator = RegressionEvaluator(labelCol=\"Salary\", predictionCol=\"prediction\", metricName=\"rmse\")\n",
    "rmse = evaluator.evaluate(predictions)\n",
    "print(\"Root Mean Squared Error (RMSE):\", rmse)\n"
   ]
  },
  {
   "cell_type": "markdown",
   "metadata": {},
   "source": [
    "R squared "
   ]
  },
  {
   "cell_type": "code",
   "execution_count": 29,
   "metadata": {},
   "outputs": [
    {
     "name": "stdout",
     "output_type": "stream",
     "text": [
      "R-squared value: 0.9210277468769359\n"
     ]
    }
   ],
   "source": [
    "evaluator_r2 = RegressionEvaluator(labelCol=\"Salary\", predictionCol=\"prediction\", metricName=\"r2\")\n",
    "r2 = evaluator_r2.evaluate(predictions)\n",
    "print(\"R-squared value:\", r2)\n"
   ]
  },
  {
   "cell_type": "markdown",
   "metadata": {},
   "source": [
    "Mean square Error"
   ]
  },
  {
   "cell_type": "code",
   "execution_count": 30,
   "metadata": {},
   "outputs": [
    {
     "name": "stdout",
     "output_type": "stream",
     "text": [
      "Mean Squared Error (MSE): 67933966.82271627\n"
     ]
    }
   ],
   "source": [
    "evaluator_mse = RegressionEvaluator(labelCol=\"Salary\", predictionCol=\"prediction\", metricName=\"mse\")\n",
    "mse = evaluator_mse.evaluate(predictions)\n",
    "print(\"Mean Squared Error (MSE):\", mse)"
   ]
  },
  {
   "cell_type": "markdown",
   "metadata": {},
   "source": [
    "Mean Absolute Error"
   ]
  },
  {
   "cell_type": "code",
   "execution_count": 31,
   "metadata": {},
   "outputs": [
    {
     "name": "stdout",
     "output_type": "stream",
     "text": [
      "Mean absolute Error (RMSE): 7173.874554736054\n"
     ]
    }
   ],
   "source": [
    "evaluator_mae = RegressionEvaluator(labelCol=\"Salary\", predictionCol=\"prediction\", metricName=\"mae\")\n",
    "mae = evaluator_mae.evaluate(predictions)\n",
    "print(\"Mean absolute Error (RMSE):\", mae)"
   ]
  },
  {
   "cell_type": "markdown",
   "metadata": {},
   "source": [
    "Find Slope and Intercept of best fit line"
   ]
  },
  {
   "cell_type": "code",
   "execution_count": 32,
   "metadata": {},
   "outputs": [
    {
     "name": "stdout",
     "output_type": "stream",
     "text": [
      "[26700.24747398986]\n",
      "74979.81647893114\n"
     ]
    }
   ],
   "source": [
    "slope_value = regr_model.coefficients\n",
    "intercept_value = regr_model.intercept\n",
    "print(slope_value)\n",
    "print(intercept_value)"
   ]
  },
  {
   "cell_type": "markdown",
   "metadata": {},
   "source": [
    "Stop spark Session"
   ]
  },
  {
   "cell_type": "code",
   "execution_count": null,
   "metadata": {},
   "outputs": [],
   "source": [
    "spark.stop()"
   ]
  }
 ],
 "metadata": {
  "kernelspec": {
   "display_name": "Python 3",
   "language": "python",
   "name": "python3"
  },
  "language_info": {
   "codemirror_mode": {
    "name": "ipython",
    "version": 3
   },
   "file_extension": ".py",
   "mimetype": "text/x-python",
   "name": "python",
   "nbconvert_exporter": "python",
   "pygments_lexer": "ipython3",
   "version": "3.8.10"
  },
  "orig_nbformat": 4
 },
 "nbformat": 4,
 "nbformat_minor": 2
}
