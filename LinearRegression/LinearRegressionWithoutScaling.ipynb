{
 "cells": [
  {
   "cell_type": "markdown",
   "metadata": {},
   "source": [
    "# Linear Regression without Standard Scaler"
   ]
  },
  {
   "cell_type": "markdown",
   "metadata": {},
   "source": [
    "Aim : Predict Salary of Employee by Years of Expereience"
   ]
  },
  {
   "cell_type": "markdown",
   "metadata": {},
   "source": [
    "Defining Libraries"
   ]
  },
  {
   "cell_type": "code",
   "execution_count": 2,
   "metadata": {},
   "outputs": [],
   "source": [
    "\n",
    "from pyspark.sql import SparkSession\n",
    "from pyspark.sql.functions import col, when,sum,mean,isnan,isnull,count"
   ]
  },
  {
   "cell_type": "markdown",
   "metadata": {},
   "source": [
    "Reading CSV input File"
   ]
  },
  {
   "cell_type": "code",
   "execution_count": 3,
   "metadata": {},
   "outputs": [
    {
     "name": "stdout",
     "output_type": "stream",
     "text": [
      "23/07/24 20:16:08 WARN Utils: Your hostname, UbuntuOS resolves to a loopback address: 127.0.1.1; using 10.0.2.15 instead (on interface enp0s3)\n",
      "23/07/24 20:16:08 WARN Utils: Set SPARK_LOCAL_IP if you need to bind to another address\n"
     ]
    },
    {
     "name": "stderr",
     "output_type": "stream",
     "text": [
      "Setting default log level to \"WARN\".\n",
      "To adjust logging level use sc.setLogLevel(newLevel). For SparkR, use setLogLevel(newLevel).\n"
     ]
    },
    {
     "name": "stdout",
     "output_type": "stream",
     "text": [
      "23/07/24 20:16:09 WARN NativeCodeLoader: Unable to load native-hadoop library for your platform... using builtin-java classes where applicable\n",
      "23/07/24 20:16:11 WARN Utils: Service 'SparkUI' could not bind on port 4040. Attempting port 4041.\n",
      "+---------------+-------+\n",
      "|YearsExperience| Salary|\n",
      "+---------------+-------+\n",
      "|            1.1|39343.0|\n",
      "|            1.3|46205.0|\n",
      "|            1.5|37731.0|\n",
      "|            2.0|43525.0|\n",
      "|            2.2|39891.0|\n",
      "|            2.9|56642.0|\n",
      "|            3.0|60150.0|\n",
      "|            3.2|54445.0|\n",
      "|            3.2|64445.0|\n",
      "|            3.7|57189.0|\n",
      "|            3.9|63218.0|\n",
      "|            4.0|55794.0|\n",
      "|            4.0|56957.0|\n",
      "|            4.1|57081.0|\n",
      "|            4.5|61111.0|\n",
      "|            4.9|67938.0|\n",
      "|            5.1|66029.0|\n",
      "|            5.3|83088.0|\n",
      "|            5.9|81363.0|\n",
      "|            6.0|93940.0|\n",
      "+---------------+-------+\n",
      "only showing top 20 rows\n",
      "\n"
     ]
    }
   ],
   "source": [
    "spark = SparkSession.builder.appName(\"LinearPreprocessing\").config(\"spark.driver.bindAddress\", \"10.0.2.15\").getOrCreate()\n",
    "\n",
    "spark_df = spark.read.csv(\"Salary_Data.csv\",header=True,inferSchema=True)\n",
    "\n",
    "spark_df.show()"
   ]
  },
  {
   "cell_type": "markdown",
   "metadata": {},
   "source": [
    "Describe Dataset"
   ]
  },
  {
   "cell_type": "code",
   "execution_count": 4,
   "metadata": {},
   "outputs": [
    {
     "name": "stdout",
     "output_type": "stream",
     "text": [
      "+-------+------------------+------------------+\n",
      "|summary|   YearsExperience|            Salary|\n",
      "+-------+------------------+------------------+\n",
      "|  count|                30|                30|\n",
      "|   mean|5.3133333333333335|           76003.0|\n",
      "| stddev| 2.837888157662718|27414.429784582302|\n",
      "|    min|               1.1|           37731.0|\n",
      "|    max|              10.5|          122391.0|\n",
      "+-------+------------------+------------------+\n",
      "\n"
     ]
    }
   ],
   "source": [
    "spark_df.describe().show()"
   ]
  },
  {
   "cell_type": "markdown",
   "metadata": {},
   "source": [
    "Dataset Summary"
   ]
  },
  {
   "cell_type": "code",
   "execution_count": 5,
   "metadata": {},
   "outputs": [
    {
     "name": "stdout",
     "output_type": "stream",
     "text": [
      "root\n",
      " |-- YearsExperience: double (nullable = true)\n",
      " |-- Salary: double (nullable = true)\n",
      "\n"
     ]
    }
   ],
   "source": [
    "\n",
    "spark_df.printSchema()"
   ]
  },
  {
   "cell_type": "code",
   "execution_count": 6,
   "metadata": {},
   "outputs": [
    {
     "data": {
      "text/plain": [
       "[Row(YearsExperience=1.1, Salary=39343.0),\n",
       " Row(YearsExperience=1.3, Salary=46205.0),\n",
       " Row(YearsExperience=1.5, Salary=37731.0),\n",
       " Row(YearsExperience=2.0, Salary=43525.0),\n",
       " Row(YearsExperience=2.2, Salary=39891.0),\n",
       " Row(YearsExperience=2.9, Salary=56642.0),\n",
       " Row(YearsExperience=3.0, Salary=60150.0),\n",
       " Row(YearsExperience=3.2, Salary=54445.0),\n",
       " Row(YearsExperience=3.2, Salary=64445.0),\n",
       " Row(YearsExperience=3.7, Salary=57189.0)]"
      ]
     },
     "execution_count": 6,
     "metadata": {},
     "output_type": "execute_result"
    }
   ],
   "source": [
    "spark_df.head(10)"
   ]
  },
  {
   "cell_type": "code",
   "execution_count": 7,
   "metadata": {},
   "outputs": [
    {
     "data": {
      "text/plain": [
       "[Row(YearsExperience=9.6, Salary=112635.0),\n",
       " Row(YearsExperience=10.3, Salary=122391.0),\n",
       " Row(YearsExperience=10.5, Salary=121872.0)]"
      ]
     },
     "execution_count": 7,
     "metadata": {},
     "output_type": "execute_result"
    }
   ],
   "source": [
    "spark_df.tail(3)"
   ]
  },
  {
   "cell_type": "markdown",
   "metadata": {},
   "source": [
    "Row and Column Count"
   ]
  },
  {
   "cell_type": "code",
   "execution_count": 8,
   "metadata": {},
   "outputs": [
    {
     "name": "stdout",
     "output_type": "stream",
     "text": [
      "(30,2)\n"
     ]
    }
   ],
   "source": [
    "row_count = spark_df.count()\n",
    "\n",
    "column_count = len(spark_df.columns)\n",
    "\n",
    "print(f\"({row_count},{column_count})\") \n"
   ]
  },
  {
   "cell_type": "markdown",
   "metadata": {},
   "source": [
    "Display dataset Columns"
   ]
  },
  {
   "cell_type": "code",
   "execution_count": 9,
   "metadata": {},
   "outputs": [
    {
     "data": {
      "text/plain": [
       "['YearsExperience', 'Salary']"
      ]
     },
     "execution_count": 9,
     "metadata": {},
     "output_type": "execute_result"
    }
   ],
   "source": [
    "\n",
    "spark_df.columns"
   ]
  },
  {
   "cell_type": "markdown",
   "metadata": {},
   "source": [
    "Checking null values"
   ]
  },
  {
   "cell_type": "code",
   "execution_count": 10,
   "metadata": {},
   "outputs": [
    {
     "name": "stdout",
     "output_type": "stream",
     "text": [
      "+---------------+------+\n",
      "|YearsExperience|Salary|\n",
      "+---------------+------+\n",
      "|              0|     0|\n",
      "+---------------+------+\n",
      "\n"
     ]
    }
   ],
   "source": [
    "spark_df.select([count(when(isnan(c) | col(c).isNull(), c)).alias(c) for c in spark_df.columns]).show()"
   ]
  },
  {
   "cell_type": "markdown",
   "metadata": {},
   "source": [
    "Plotting YearsExperience vs Salary plot"
   ]
  },
  {
   "cell_type": "code",
   "execution_count": 11,
   "metadata": {},
   "outputs": [],
   "source": [
    "import matplotlib.pyplot as plt\n",
    "import seaborn as sns"
   ]
  },
  {
   "cell_type": "code",
   "execution_count": 12,
   "metadata": {},
   "outputs": [
    {
     "data": {
      "image/png": "[encoded data removed]",
      "text/plain": [
       "<Figure size 500x500 with 1 Axes>"
      ]
     },
     "metadata": {},
     "output_type": "display_data"
    }
   ],
   "source": [
    "# Scatter Plot\n",
    "scatter_plot_df = spark_df.toPandas()\n",
    "\n",
    "plt.figure(figsize=(5,5))\n",
    "sns.scatterplot(x=\"YearsExperience\",y=\"Salary\",data=scatter_plot_df)\n",
    "plt.xlabel(\"Years of Experience\")\n",
    "plt.ylabel(\"Salary\")\n",
    "\n",
    "# Display plot\n",
    "plt.show()\n",
    "\n"
   ]
  },
  {
   "cell_type": "code",
   "execution_count": 13,
   "metadata": {},
   "outputs": [
    {
     "data": {
      "image/png": "[encoded data removed]",
      "text/plain": [
       "<Figure size 500x500 with 1 Axes>"
      ]
     },
     "metadata": {},
     "output_type": "display_data"
    }
   ],
   "source": [
    "# Scatter Plot\n",
    "plt.figure(figsize=(5,5))\n",
    "sns.boxplot(data=scatter_plot_df)\n",
    "plt.xlabel(\"Years of Experience\")\n",
    "plt.ylabel(\"Salary\")\n",
    "\n",
    "# Display plot\n",
    "plt.show()"
   ]
  },
  {
   "cell_type": "markdown",
   "metadata": {},
   "source": [
    "# Training Model"
   ]
  },
  {
   "cell_type": "markdown",
   "metadata": {},
   "source": [
    "Define necessary libraries"
   ]
  },
  {
   "cell_type": "code",
   "execution_count": 14,
   "metadata": {},
   "outputs": [],
   "source": [
    "from pyspark.ml.feature import StandardScaler , VectorAssembler\n",
    "from pyspark.ml import Pipeline"
   ]
  },
  {
   "cell_type": "markdown",
   "metadata": {},
   "source": [
    "Transfrom feature dat into vectors"
   ]
  },
  {
   "cell_type": "code",
   "execution_count": 15,
   "metadata": {},
   "outputs": [],
   "source": [
    "assemblers = VectorAssembler(inputCols=['YearsExperience'],outputCol='feature')\n"
   ]
  },
  {
   "cell_type": "code",
   "execution_count": 16,
   "metadata": {},
   "outputs": [
    {
     "name": "stdout",
     "output_type": "stream",
     "text": [
      "+---------------+-------+-------+\n",
      "|YearsExperience| Salary|feature|\n",
      "+---------------+-------+-------+\n",
      "|            1.1|39343.0|  [1.1]|\n",
      "|            1.3|46205.0|  [1.3]|\n",
      "|            1.5|37731.0|  [1.5]|\n",
      "|            2.0|43525.0|  [2.0]|\n",
      "|            2.2|39891.0|  [2.2]|\n",
      "|            2.9|56642.0|  [2.9]|\n",
      "|            3.0|60150.0|  [3.0]|\n",
      "|            3.2|54445.0|  [3.2]|\n",
      "|            3.2|64445.0|  [3.2]|\n",
      "|            3.7|57189.0|  [3.7]|\n",
      "|            3.9|63218.0|  [3.9]|\n",
      "|            4.0|55794.0|  [4.0]|\n",
      "|            4.0|56957.0|  [4.0]|\n",
      "|            4.1|57081.0|  [4.1]|\n",
      "|            4.5|61111.0|  [4.5]|\n",
      "|            4.9|67938.0|  [4.9]|\n",
      "|            5.1|66029.0|  [5.1]|\n",
      "|            5.3|83088.0|  [5.3]|\n",
      "|            5.9|81363.0|  [5.9]|\n",
      "|            6.0|93940.0|  [6.0]|\n",
      "+---------------+-------+-------+\n",
      "only showing top 20 rows\n",
      "\n"
     ]
    }
   ],
   "source": [
    "output = assemblers.transform(spark_df)\n",
    "output.show()"
   ]
  },
  {
   "cell_type": "code",
   "execution_count": 17,
   "metadata": {},
   "outputs": [],
   "source": [
    "import pyspark.sql.functions as F"
   ]
  },
  {
   "cell_type": "markdown",
   "metadata": {},
   "source": [
    "Replacing Scaled columns with independent variables"
   ]
  },
  {
   "cell_type": "code",
   "execution_count": 18,
   "metadata": {},
   "outputs": [
    {
     "name": "stdout",
     "output_type": "stream",
     "text": [
      "+---------------+-------+-------+\n",
      "|YearsExperience| Salary|feature|\n",
      "+---------------+-------+-------+\n",
      "|          [1.1]|39343.0|  [1.1]|\n",
      "|          [1.3]|46205.0|  [1.3]|\n",
      "|          [1.5]|37731.0|  [1.5]|\n",
      "|          [2.0]|43525.0|  [2.0]|\n",
      "|          [2.2]|39891.0|  [2.2]|\n",
      "|          [2.9]|56642.0|  [2.9]|\n",
      "|          [3.0]|60150.0|  [3.0]|\n",
      "|          [3.2]|54445.0|  [3.2]|\n",
      "|          [3.2]|64445.0|  [3.2]|\n",
      "|          [3.7]|57189.0|  [3.7]|\n",
      "|          [3.9]|63218.0|  [3.9]|\n",
      "|          [4.0]|55794.0|  [4.0]|\n",
      "|          [4.0]|56957.0|  [4.0]|\n",
      "|          [4.1]|57081.0|  [4.1]|\n",
      "|          [4.5]|61111.0|  [4.5]|\n",
      "|          [4.9]|67938.0|  [4.9]|\n",
      "|          [5.1]|66029.0|  [5.1]|\n",
      "|          [5.3]|83088.0|  [5.3]|\n",
      "|          [5.9]|81363.0|  [5.9]|\n",
      "|          [6.0]|93940.0|  [6.0]|\n",
      "+---------------+-------+-------+\n",
      "only showing top 20 rows\n",
      "\n"
     ]
    }
   ],
   "source": [
    "\n",
    "spark_df = output.withColumn(\"YearsExperience\",F.col(\"feature\"))\n",
    "\n",
    "spark_df.show()"
   ]
  },
  {
   "cell_type": "markdown",
   "metadata": {},
   "source": [
    "Drop extra columns"
   ]
  },
  {
   "cell_type": "code",
   "execution_count": 19,
   "metadata": {},
   "outputs": [
    {
     "name": "stdout",
     "output_type": "stream",
     "text": [
      "+---------------+-------+\n",
      "|YearsExperience| Salary|\n",
      "+---------------+-------+\n",
      "|          [1.1]|39343.0|\n",
      "|          [1.3]|46205.0|\n",
      "|          [1.5]|37731.0|\n",
      "|          [2.0]|43525.0|\n",
      "|          [2.2]|39891.0|\n",
      "|          [2.9]|56642.0|\n",
      "|          [3.0]|60150.0|\n",
      "|          [3.2]|54445.0|\n",
      "|          [3.2]|64445.0|\n",
      "|          [3.7]|57189.0|\n",
      "|          [3.9]|63218.0|\n",
      "|          [4.0]|55794.0|\n",
      "|          [4.0]|56957.0|\n",
      "|          [4.1]|57081.0|\n",
      "|          [4.5]|61111.0|\n",
      "|          [4.9]|67938.0|\n",
      "|          [5.1]|66029.0|\n",
      "|          [5.3]|83088.0|\n",
      "|          [5.9]|81363.0|\n",
      "|          [6.0]|93940.0|\n",
      "+---------------+-------+\n",
      "only showing top 20 rows\n",
      "\n"
     ]
    }
   ],
   "source": [
    "spark_df = spark_df.drop(\"feature\")\n",
    "\n",
    "spark_df.show()"
   ]
  },
  {
   "cell_type": "markdown",
   "metadata": {},
   "source": [
    "Splitting data into train and test data"
   ]
  },
  {
   "cell_type": "code",
   "execution_count": 20,
   "metadata": {},
   "outputs": [],
   "source": [
    "split_dataset = spark_df.randomSplit([0.7,0.3],seed=42)\n",
    "train_data = split_dataset[0]\n",
    "test_data = split_dataset[1]"
   ]
  },
  {
   "cell_type": "code",
   "execution_count": 21,
   "metadata": {},
   "outputs": [
    {
     "name": "stdout",
     "output_type": "stream",
     "text": [
      "+---------------+--------+\n",
      "|YearsExperience|  Salary|\n",
      "+---------------+--------+\n",
      "|          [1.1]| 39343.0|\n",
      "|          [1.3]| 46205.0|\n",
      "|          [2.0]| 43525.0|\n",
      "|          [2.2]| 39891.0|\n",
      "|          [2.9]| 56642.0|\n",
      "|          [3.2]| 54445.0|\n",
      "|          [3.9]| 63218.0|\n",
      "|          [4.0]| 55794.0|\n",
      "|          [4.0]| 56957.0|\n",
      "|          [5.1]| 66029.0|\n",
      "|          [5.3]| 83088.0|\n",
      "|          [5.9]| 81363.0|\n",
      "|          [6.8]| 91738.0|\n",
      "|          [7.9]|101302.0|\n",
      "|          [9.0]|105582.0|\n",
      "|          [9.5]|116969.0|\n",
      "|          [9.6]|112635.0|\n",
      "+---------------+--------+\n",
      "\n",
      "+---------------+--------+\n",
      "|YearsExperience|  Salary|\n",
      "+---------------+--------+\n",
      "|          [1.5]| 37731.0|\n",
      "|          [3.0]| 60150.0|\n",
      "|          [3.2]| 64445.0|\n",
      "|          [3.7]| 57189.0|\n",
      "|          [4.1]| 57081.0|\n",
      "|          [4.5]| 61111.0|\n",
      "|          [4.9]| 67938.0|\n",
      "|          [6.0]| 93940.0|\n",
      "|          [7.1]| 98273.0|\n",
      "|          [8.2]|113812.0|\n",
      "|          [8.7]|109431.0|\n",
      "|         [10.3]|122391.0|\n",
      "|         [10.5]|121872.0|\n",
      "+---------------+--------+\n",
      "\n"
     ]
    }
   ],
   "source": [
    "train_data.show()\n",
    "test_data.show()"
   ]
  },
  {
   "cell_type": "markdown",
   "metadata": {},
   "source": [
    "Spliting data into different axis"
   ]
  },
  {
   "cell_type": "code",
   "execution_count": 22,
   "metadata": {},
   "outputs": [],
   "source": [
    "X_train = train_data.select('YearsExperience')\n",
    "X_test = test_data.select('YearsExperience')\n",
    "\n",
    "y_train = train_data.select(\"Salary\")\n",
    "y_test = test_data.select('Salary')"
   ]
  },
  {
   "cell_type": "markdown",
   "metadata": {},
   "source": [
    "Training the linear regression model"
   ]
  },
  {
   "cell_type": "code",
   "execution_count": 23,
   "metadata": {},
   "outputs": [],
   "source": [
    "from pyspark.ml.regression import LinearRegression"
   ]
  },
  {
   "cell_type": "code",
   "execution_count": 24,
   "metadata": {},
   "outputs": [
    {
     "name": "stdout",
     "output_type": "stream",
     "text": [
      "23/07/24 20:16:26 WARN Instrumentation: [b4fc4f28] regParam is zero, which might cause numerical instability and overfitting.\n",
      "23/07/24 20:16:26 WARN InstanceBuilder$NativeBLAS: Failed to load implementation from:dev.ludovic.netlib.blas.JNIBLAS\n",
      "23/07/24 20:16:26 WARN InstanceBuilder$NativeBLAS: Failed to load implementation from:dev.ludovic.netlib.blas.ForeignLinkerBLAS\n",
      "23/07/24 20:16:26 WARN InstanceBuilder$NativeLAPACK: Failed to load implementation from:dev.ludovic.netlib.lapack.JNILAPACK\n"
     ]
    }
   ],
   "source": [
    "regr = LinearRegression(featuresCol='YearsExperience',labelCol='Salary',regParam=0.0, solver=\"normal\")\n",
    "regr_model = regr.fit(train_data)"
   ]
  },
  {
   "cell_type": "markdown",
   "metadata": {},
   "source": [
    "Determine coefficient of model"
   ]
  },
  {
   "cell_type": "code",
   "execution_count": 25,
   "metadata": {},
   "outputs": [
    {
     "data": {
      "text/plain": [
       "DenseVector([9151.9659])"
      ]
     },
     "execution_count": 25,
     "metadata": {},
     "output_type": "execute_result"
    }
   ],
   "source": [
    "regr_model.coefficients"
   ]
  },
  {
   "cell_type": "markdown",
   "metadata": {},
   "source": [
    "Determine Intercept of model"
   ]
  },
  {
   "cell_type": "code",
   "execution_count": 26,
   "metadata": {},
   "outputs": [
    {
     "data": {
      "text/plain": [
       "26394.497269767566"
      ]
     },
     "execution_count": 26,
     "metadata": {},
     "output_type": "execute_result"
    }
   ],
   "source": [
    "regr_model.intercept"
   ]
  },
  {
   "cell_type": "markdown",
   "metadata": {},
   "source": [
    "# Evaluate Model"
   ]
  },
  {
   "cell_type": "markdown",
   "metadata": {},
   "source": [
    "Evaluate Model for predictions"
   ]
  },
  {
   "cell_type": "code",
   "execution_count": 27,
   "metadata": {},
   "outputs": [
    {
     "name": "stdout",
     "output_type": "stream",
     "text": [
      "+---------------+--------+------------------+\n",
      "|YearsExperience|  Salary|        prediction|\n",
      "+---------------+--------+------------------+\n",
      "|          [1.1]| 39343.0| 36461.65976744196|\n",
      "|          [1.3]| 46205.0|  38292.0529488373|\n",
      "|          [2.0]| 43525.0| 44698.42908372101|\n",
      "|          [2.2]| 39891.0| 46528.82226511635|\n",
      "|          [2.9]| 56642.0| 52935.19840000005|\n",
      "|          [3.2]| 54445.0|55680.788172093075|\n",
      "|          [3.9]| 63218.0|62087.164306976774|\n",
      "|          [4.0]| 55794.0| 63002.36089767444|\n",
      "|          [4.0]| 56957.0| 63002.36089767444|\n",
      "|          [5.1]| 66029.0| 73069.52339534884|\n",
      "|          [5.3]| 83088.0| 74899.91657674419|\n",
      "|          [5.9]| 81363.0| 80391.09612093022|\n",
      "|          [6.8]| 91738.0| 88627.86543720926|\n",
      "|          [7.9]|101302.0| 98695.02793488366|\n",
      "|          [9.0]|105582.0|108762.19043255805|\n",
      "|          [9.5]|116969.0|113338.17338604642|\n",
      "|          [9.6]|112635.0|114253.36997674408|\n",
      "+---------------+--------+------------------+\n",
      "\n"
     ]
    }
   ],
   "source": [
    "x_pred = regr_model.evaluate(train_data)\n",
    "x_pred.predictions.show()"
   ]
  },
  {
   "cell_type": "markdown",
   "metadata": {},
   "source": [
    "Model Evaluation on Test Data"
   ]
  },
  {
   "cell_type": "code",
   "execution_count": 28,
   "metadata": {},
   "outputs": [
    {
     "name": "stdout",
     "output_type": "stream",
     "text": [
      "+---------------+--------+------------------+\n",
      "|YearsExperience|  Salary|        prediction|\n",
      "+---------------+--------+------------------+\n",
      "|          [1.5]| 37731.0|40122.446130232645|\n",
      "|          [3.0]| 60150.0| 53850.39499069772|\n",
      "|          [3.2]| 64445.0|55680.788172093075|\n",
      "|          [3.7]| 57189.0|60256.771125581436|\n",
      "|          [4.1]| 57081.0| 63917.55748837211|\n",
      "|          [4.5]| 61111.0|  67578.3438511628|\n",
      "|          [4.9]| 67938.0|  71239.1302139535|\n",
      "|          [6.0]| 93940.0| 81306.29271162789|\n",
      "|          [7.1]| 98273.0| 91373.45520930228|\n",
      "|          [8.2]|113812.0|101440.61770697667|\n",
      "|          [8.7]|109431.0|106016.60066046503|\n",
      "|         [10.3]|122391.0| 120659.7461116278|\n",
      "|         [10.5]|121872.0|122490.13929302314|\n",
      "+---------------+--------+------------------+\n",
      "\n"
     ]
    }
   ],
   "source": [
    "y_pred = regr_model.evaluate(test_data)\n",
    "y_pred.predictions.show()\n"
   ]
  },
  {
   "cell_type": "markdown",
   "metadata": {},
   "source": [
    "# Performance metrices"
   ]
  },
  {
   "cell_type": "markdown",
   "metadata": {},
   "source": [
    "Determine Performance metrices of Linear regression Model"
   ]
  },
  {
   "cell_type": "code",
   "execution_count": 29,
   "metadata": {},
   "outputs": [],
   "source": [
    "from pyspark.ml.evaluation import RegressionEvaluator"
   ]
  },
  {
   "cell_type": "code",
   "execution_count": 30,
   "metadata": {},
   "outputs": [],
   "source": [
    "predictions = regr_model.transform(test_data)"
   ]
  },
  {
   "cell_type": "markdown",
   "metadata": {},
   "source": [
    "Root mean square Error"
   ]
  },
  {
   "cell_type": "markdown",
   "metadata": {},
   "source": [
    "R squared "
   ]
  },
  {
   "cell_type": "code",
   "execution_count": 31,
   "metadata": {},
   "outputs": [
    {
     "name": "stdout",
     "output_type": "stream",
     "text": [
      "R-squared value: 0.9394152802185344\n"
     ]
    }
   ],
   "source": [
    "evaluator_r2 = RegressionEvaluator(labelCol=\"Salary\", predictionCol=\"prediction\", metricName=\"r2\")\n",
    "r2 = evaluator_r2.evaluate(predictions)\n",
    "print(\"R-squared value:\", r2)\n"
   ]
  },
  {
   "cell_type": "markdown",
   "metadata": {},
   "source": [
    "R2 score"
   ]
  },
  {
   "cell_type": "code",
   "execution_count": 32,
   "metadata": {},
   "outputs": [
    {
     "name": "stdout",
     "output_type": "stream",
     "text": [
      "R2 score: 0.9394152802185344\n"
     ]
    }
   ],
   "source": [
    "r2_score = regr_model.summary.r2\n",
    "print(\"R2 score:\",r2)"
   ]
  },
  {
   "cell_type": "markdown",
   "metadata": {},
   "source": [
    "Stopping Spark session"
   ]
  },
  {
   "cell_type": "code",
   "execution_count": null,
   "metadata": {},
   "outputs": [],
   "source": [
    "spark.stop()"
   ]
  }
 ],
 "metadata": {
  "kernelspec": {
   "display_name": "Python 3",
   "language": "python",
   "name": "python3"
  },
  "language_info": {
   "codemirror_mode": {
    "name": "ipython",
    "version": 3
   },
   "file_extension": ".py",
   "mimetype": "text/x-python",
   "name": "python",
   "nbconvert_exporter": "python",
   "pygments_lexer": "ipython3",
   "version": "3.8.10"
  },
  "orig_nbformat": 4
 },
 "nbformat": 4,
 "nbformat_minor": 2
}
