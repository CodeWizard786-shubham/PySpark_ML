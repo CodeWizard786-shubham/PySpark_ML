{
 "cells": [
  {
   "cell_type": "markdown",
   "metadata": {},
   "source": [
    "# Logistic Regression Implementation"
   ]
  },
  {
   "cell_type": "markdown",
   "metadata": {},
   "source": [
    "Aim : Predict if the person makes over 50k or not."
   ]
  },
  {
   "cell_type": "markdown",
   "metadata": {},
   "source": [
    "Defining Libraries"
   ]
  },
  {
   "cell_type": "code",
   "execution_count": 2,
   "metadata": {},
   "outputs": [],
   "source": [
    "from pyspark.sql import SparkSession\n",
    "from pyspark.sql.functions import isnan,col,count,when,trim"
   ]
  },
  {
   "cell_type": "markdown",
   "metadata": {},
   "source": [
    "creating spark session"
   ]
  },
  {
   "cell_type": "code",
   "execution_count": 3,
   "metadata": {},
   "outputs": [
    {
     "name": "stdout",
     "output_type": "stream",
     "text": [
      "23/07/25 14:42:13 WARN Utils: Your hostname, UbuntuOS resolves to a loopback address: 127.0.1.1; using 10.0.2.15 instead (on interface enp0s3)\n",
      "23/07/25 14:42:13 WARN Utils: Set SPARK_LOCAL_IP if you need to bind to another address\n"
     ]
    },
    {
     "name": "stderr",
     "output_type": "stream",
     "text": [
      "Setting default log level to \"WARN\".\n",
      "To adjust logging level use sc.setLogLevel(newLevel). For SparkR, use setLogLevel(newLevel).\n"
     ]
    },
    {
     "name": "stdout",
     "output_type": "stream",
     "text": [
      "23/07/25 14:42:20 WARN NativeCodeLoader: Unable to load native-hadoop library for your platform... using builtin-java classes where applicable\n",
      "23/07/25 14:42:27 WARN Utils: Service 'SparkUI' could not bind on port 4040. Attempting port 4041.\n"
     ]
    }
   ],
   "source": [
    "spark = SparkSession.builder.appName(\"LogisticRegression\").config(\"spark.driver.bindAddress\", \"10.0.2.15\").getOrCreate()"
   ]
  },
  {
   "cell_type": "markdown",
   "metadata": {},
   "source": [
    "Read Input Data CSV File"
   ]
  },
  {
   "cell_type": "code",
   "execution_count": 4,
   "metadata": {},
   "outputs": [
    {
     "name": "stderr",
     "output_type": "stream",
     "text": [
      "                                                                                \r"
     ]
    },
    {
     "name": "stdout",
     "output_type": "stream",
     "text": [
      "+---+-----------------+------+-------------+-------------+--------------------+------------------+--------------+-------------------+-------+------------+------------+--------------+--------------+------+\n",
      "|age|        workclass|fnlwgt|    education|education-num|      marital-status|        occupation|  relationship|               race|    sex|capital-gain|capital-loss|Hours-per-week|        native|salary|\n",
      "+---+-----------------+------+-------------+-------------+--------------------+------------------+--------------+-------------------+-------+------------+------------+--------------+--------------+------+\n",
      "| 39|        State-gov| 77516|    Bachelors|           13|       Never-married|      Adm-clerical| Not-in-family|              White|   Male|        2174|           0|            40| United-States| <=50K|\n",
      "| 50| Self-emp-not-inc| 83311|    Bachelors|           13|  Married-civ-spouse|   Exec-managerial|       Husband|              White|   Male|           0|           0|            13| United-States| <=50K|\n",
      "| 38|          Private|215646|      HS-grad|            9|            Divorced| Handlers-cleaners| Not-in-family|              White|   Male|           0|           0|            40| United-States| <=50K|\n",
      "| 53|          Private|234721|         11th|            7|  Married-civ-spouse| Handlers-cleaners|       Husband|              Black|   Male|           0|           0|            40| United-States| <=50K|\n",
      "| 28|          Private|338409|    Bachelors|           13|  Married-civ-spouse|    Prof-specialty|          Wife|              Black| Female|           0|           0|            40|          Cuba| <=50K|\n",
      "| 37|          Private|284582|      Masters|           14|  Married-civ-spouse|   Exec-managerial|          Wife|              White| Female|           0|           0|            40| United-States| <=50K|\n",
      "| 49|          Private|160187|          9th|            5| Married-spouse-a...|     Other-service| Not-in-family|              Black| Female|           0|           0|            16|       Jamaica| <=50K|\n",
      "| 52| Self-emp-not-inc|209642|      HS-grad|            9|  Married-civ-spouse|   Exec-managerial|       Husband|              White|   Male|           0|           0|            45| United-States|  >50K|\n",
      "| 31|          Private| 45781|      Masters|           14|       Never-married|    Prof-specialty| Not-in-family|              White| Female|       14084|           0|            50| United-States|  >50K|\n",
      "| 42|          Private|159449|    Bachelors|           13|  Married-civ-spouse|   Exec-managerial|       Husband|              White|   Male|        5178|           0|            40| United-States|  >50K|\n",
      "| 37|          Private|280464| Some-college|           10|  Married-civ-spouse|   Exec-managerial|       Husband|              Black|   Male|           0|           0|            80| United-States|  >50K|\n",
      "| 30|        State-gov|141297|    Bachelors|           13|  Married-civ-spouse|    Prof-specialty|       Husband| Asian-Pac-Islander|   Male|           0|           0|            40|         India|  >50K|\n",
      "| 23|          Private|122272|    Bachelors|           13|       Never-married|      Adm-clerical|     Own-child|              White| Female|           0|           0|            30| United-States| <=50K|\n",
      "| 32|          Private|205019|   Assoc-acdm|           12|       Never-married|             Sales| Not-in-family|              Black|   Male|           0|           0|            50| United-States| <=50K|\n",
      "| 40|          Private|121772|    Assoc-voc|           11|  Married-civ-spouse|      Craft-repair|       Husband| Asian-Pac-Islander|   Male|           0|           0|            40|             ?|  >50K|\n",
      "| 34|          Private|245487|      7th-8th|            4|  Married-civ-spouse|  Transport-moving|       Husband| Amer-Indian-Eskimo|   Male|           0|           0|            45|        Mexico| <=50K|\n",
      "| 25| Self-emp-not-inc|176756|      HS-grad|            9|       Never-married|   Farming-fishing|     Own-child|              White|   Male|           0|           0|            35| United-States| <=50K|\n",
      "| 32|          Private|186824|      HS-grad|            9|       Never-married| Machine-op-inspct|     Unmarried|              White|   Male|           0|           0|            40| United-States| <=50K|\n",
      "| 38|          Private| 28887|         11th|            7|  Married-civ-spouse|             Sales|       Husband|              White|   Male|           0|           0|            50| United-States| <=50K|\n",
      "| 43| Self-emp-not-inc|292175|      Masters|           14|            Divorced|   Exec-managerial|     Unmarried|              White| Female|           0|           0|            45| United-States|  >50K|\n",
      "+---+-----------------+------+-------------+-------------+--------------------+------------------+--------------+-------------------+-------+------------+------------+--------------+--------------+------+\n",
      "only showing top 20 rows\n",
      "\n"
     ]
    }
   ],
   "source": [
    "person_df = spark.read.csv(\"classification_2.csv\",header=True,inferSchema=True)\n",
    "person_df.show() "
   ]
  },
  {
   "cell_type": "markdown",
   "metadata": {},
   "source": [
    "Describing dataset to get better insights"
   ]
  },
  {
   "cell_type": "code",
   "execution_count": 5,
   "metadata": {},
   "outputs": [
    {
     "name": "stderr",
     "output_type": "stream",
     "text": [
      "                                                                                \r"
     ]
    },
    {
     "name": "stdout",
     "output_type": "stream",
     "text": [
      "+-------+-----------------+------------+------------------+-------------+------------------+--------------+-----------------+------------+-------------------+-------+------------------+------------------+------------------+-----------+------+\n",
      "|summary|              age|   workclass|            fnlwgt|    education|     education-num|marital-status|       occupation|relationship|               race|    sex|      capital-gain|      capital-loss|    Hours-per-week|     native|salary|\n",
      "+-------+-----------------+------------+------------------+-------------+------------------+--------------+-----------------+------------+-------------------+-------+------------------+------------------+------------------+-----------+------+\n",
      "|  count|            32561|       32561|             32561|        32561|             32561|         32561|            32561|       32561|              32561|  32561|             32561|             32561|             32561|      32561| 32561|\n",
      "|   mean|38.58164675532078|        null|189778.36651208502|         null|  10.0806793403151|          null|             null|        null|               null|   null|1077.6488437087312|   87.303829734959|40.437455852092995|       null|  null|\n",
      "| stddev|13.64043255358136|        null|105549.97769702224|         null|2.5727203320673935|          null|             null|        null|               null|   null|7385.2920848403455|402.96021864900126| 12.34742868173183|       null|  null|\n",
      "|    min|               17|           ?|             12285|         10th|                 1|      Divorced|                ?|     Husband| Amer-Indian-Eskimo| Female|                 0|                 0|                 1|          ?| <=50K|\n",
      "|    max|               90| Without-pay|           1484705| Some-college|                16|       Widowed| Transport-moving|        Wife|              White|   Male|             99999|              4356|                99| Yugoslavia|  >50K|\n",
      "+-------+-----------------+------------+------------------+-------------+------------------+--------------+-----------------+------------+-------------------+-------+------------------+------------------+------------------+-----------+------+\n",
      "\n"
     ]
    }
   ],
   "source": [
    "person_df.describe().show()"
   ]
  },
  {
   "cell_type": "markdown",
   "metadata": {},
   "source": [
    "Replace column names"
   ]
  },
  {
   "cell_type": "code",
   "execution_count": 6,
   "metadata": {},
   "outputs": [],
   "source": [
    "# Rename specific columns using withColumnRenamed\n",
    "person_df = person_df.withColumnRenamed(\"education-num\", \"education_num\")\n",
    "person_df = person_df.withColumnRenamed(\"marital-status\", \"marital_status\")\n",
    "person_df = person_df.withColumnRenamed(\"capital-gain\", \"capital_gain\")\n",
    "person_df = person_df.withColumnRenamed(\"capital-loss\", \"capital_loss\")\n",
    "person_df = person_df.withColumnRenamed(\"hours-per-week\", \"hours_per_week\")"
   ]
  },
  {
   "cell_type": "markdown",
   "metadata": {},
   "source": [
    "Display Structure of Dataset"
   ]
  },
  {
   "cell_type": "code",
   "execution_count": 7,
   "metadata": {},
   "outputs": [
    {
     "name": "stdout",
     "output_type": "stream",
     "text": [
      "root\n",
      " |-- age: integer (nullable = true)\n",
      " |-- workclass: string (nullable = true)\n",
      " |-- fnlwgt: integer (nullable = true)\n",
      " |-- education: string (nullable = true)\n",
      " |-- education_num: integer (nullable = true)\n",
      " |-- marital_status: string (nullable = true)\n",
      " |-- occupation: string (nullable = true)\n",
      " |-- relationship: string (nullable = true)\n",
      " |-- race: string (nullable = true)\n",
      " |-- sex: string (nullable = true)\n",
      " |-- capital_gain: integer (nullable = true)\n",
      " |-- capital_loss: integer (nullable = true)\n",
      " |-- hours_per_week: integer (nullable = true)\n",
      " |-- native: string (nullable = true)\n",
      " |-- salary: string (nullable = true)\n",
      "\n"
     ]
    }
   ],
   "source": [
    "person_df.printSchema()"
   ]
  },
  {
   "cell_type": "markdown",
   "metadata": {},
   "source": [
    "Rows and columns count of Original Dataset"
   ]
  },
  {
   "cell_type": "code",
   "execution_count": 8,
   "metadata": {},
   "outputs": [
    {
     "name": "stdout",
     "output_type": "stream",
     "text": [
      "Rows:32561,Columns:15\n"
     ]
    }
   ],
   "source": [
    "print(f\"Rows:{person_df.count()},Columns:{len(person_df.columns)}\")"
   ]
  },
  {
   "cell_type": "markdown",
   "metadata": {},
   "source": [
    "Trim the dataset to reduce dimentionality and work with important data "
   ]
  },
  {
   "cell_type": "code",
   "execution_count": 9,
   "metadata": {},
   "outputs": [
    {
     "data": {
      "text/plain": [
       "[Row(age=39, education=' Bachelors', occupation=' Adm-clerical', sex=' Male', capital_gain=2174, capital_loss=0, hours_per_week=40, salary=' <=50K'),\n",
       " Row(age=50, education=' Bachelors', occupation=' Exec-managerial', sex=' Male', capital_gain=0, capital_loss=0, hours_per_week=13, salary=' <=50K'),\n",
       " Row(age=38, education=' HS-grad', occupation=' Handlers-cleaners', sex=' Male', capital_gain=0, capital_loss=0, hours_per_week=40, salary=' <=50K'),\n",
       " Row(age=53, education=' 11th', occupation=' Handlers-cleaners', sex=' Male', capital_gain=0, capital_loss=0, hours_per_week=40, salary=' <=50K'),\n",
       " Row(age=28, education=' Bachelors', occupation=' Prof-specialty', sex=' Female', capital_gain=0, capital_loss=0, hours_per_week=40, salary=' <=50K'),\n",
       " Row(age=37, education=' Masters', occupation=' Exec-managerial', sex=' Female', capital_gain=0, capital_loss=0, hours_per_week=40, salary=' <=50K'),\n",
       " Row(age=49, education=' 9th', occupation=' Other-service', sex=' Female', capital_gain=0, capital_loss=0, hours_per_week=16, salary=' <=50K'),\n",
       " Row(age=52, education=' HS-grad', occupation=' Exec-managerial', sex=' Male', capital_gain=0, capital_loss=0, hours_per_week=45, salary=' >50K'),\n",
       " Row(age=31, education=' Masters', occupation=' Prof-specialty', sex=' Female', capital_gain=14084, capital_loss=0, hours_per_week=50, salary=' >50K'),\n",
       " Row(age=42, education=' Bachelors', occupation=' Exec-managerial', sex=' Male', capital_gain=5178, capital_loss=0, hours_per_week=40, salary=' >50K')]"
      ]
     },
     "execution_count": 9,
     "metadata": {},
     "output_type": "execute_result"
    }
   ],
   "source": [
    "person_df = person_df.select(\"age\",\"education\",\"occupation\",\"sex\",\"capital_gain\",\"capital_loss\",\"hours_per_week\",\"salary\")\n",
    "person_df.head(10)"
   ]
  },
  {
   "cell_type": "markdown",
   "metadata": {},
   "source": [
    "Rows and column count of Trimed Dataset"
   ]
  },
  {
   "cell_type": "code",
   "execution_count": 10,
   "metadata": {},
   "outputs": [
    {
     "name": "stdout",
     "output_type": "stream",
     "text": [
      "Rows:32561,Columns:8\n"
     ]
    }
   ],
   "source": [
    "print(f\"Rows:{person_df.count()},Columns:{len(person_df.columns)}\")"
   ]
  },
  {
   "cell_type": "markdown",
   "metadata": {},
   "source": [
    "Display Column list"
   ]
  },
  {
   "cell_type": "code",
   "execution_count": 11,
   "metadata": {},
   "outputs": [
    {
     "data": {
      "text/plain": [
       "['age',\n",
       " 'education',\n",
       " 'occupation',\n",
       " 'sex',\n",
       " 'capital_gain',\n",
       " 'capital_loss',\n",
       " 'hours_per_week',\n",
       " 'salary']"
      ]
     },
     "execution_count": 11,
     "metadata": {},
     "output_type": "execute_result"
    }
   ],
   "source": [
    "person_df.columns"
   ]
  },
  {
   "cell_type": "markdown",
   "metadata": {},
   "source": [
    "# # Data PreProcessing"
   ]
  },
  {
   "cell_type": "markdown",
   "metadata": {},
   "source": [
    "# Handle Missing Data"
   ]
  },
  {
   "cell_type": "markdown",
   "metadata": {},
   "source": [
    "Remove rows with \"?\" values "
   ]
  },
  {
   "cell_type": "code",
   "execution_count": 12,
   "metadata": {},
   "outputs": [],
   "source": [
    "\n",
    "for column_name in person_df.columns:\n",
    "        person_df = person_df.filter(~col(column_name).contains(\"?\"))"
   ]
  },
  {
   "cell_type": "code",
   "execution_count": 13,
   "metadata": {},
   "outputs": [
    {
     "name": "stdout",
     "output_type": "stream",
     "text": [
      "+---+-------------+------------------+-------+------------+------------+--------------+------+\n",
      "|age|    education|        occupation|    sex|capital_gain|capital_loss|hours_per_week|salary|\n",
      "+---+-------------+------------------+-------+------------+------------+--------------+------+\n",
      "| 39|    Bachelors|      Adm-clerical|   Male|        2174|           0|            40| <=50K|\n",
      "| 50|    Bachelors|   Exec-managerial|   Male|           0|           0|            13| <=50K|\n",
      "| 38|      HS-grad| Handlers-cleaners|   Male|           0|           0|            40| <=50K|\n",
      "| 53|         11th| Handlers-cleaners|   Male|           0|           0|            40| <=50K|\n",
      "| 28|    Bachelors|    Prof-specialty| Female|           0|           0|            40| <=50K|\n",
      "| 37|      Masters|   Exec-managerial| Female|           0|           0|            40| <=50K|\n",
      "| 49|          9th|     Other-service| Female|           0|           0|            16| <=50K|\n",
      "| 52|      HS-grad|   Exec-managerial|   Male|           0|           0|            45|  >50K|\n",
      "| 31|      Masters|    Prof-specialty| Female|       14084|           0|            50|  >50K|\n",
      "| 42|    Bachelors|   Exec-managerial|   Male|        5178|           0|            40|  >50K|\n",
      "| 37| Some-college|   Exec-managerial|   Male|           0|           0|            80|  >50K|\n",
      "| 30|    Bachelors|    Prof-specialty|   Male|           0|           0|            40|  >50K|\n",
      "| 23|    Bachelors|      Adm-clerical| Female|           0|           0|            30| <=50K|\n",
      "| 32|   Assoc-acdm|             Sales|   Male|           0|           0|            50| <=50K|\n",
      "| 40|    Assoc-voc|      Craft-repair|   Male|           0|           0|            40|  >50K|\n",
      "| 34|      7th-8th|  Transport-moving|   Male|           0|           0|            45| <=50K|\n",
      "| 25|      HS-grad|   Farming-fishing|   Male|           0|           0|            35| <=50K|\n",
      "| 32|      HS-grad| Machine-op-inspct|   Male|           0|           0|            40| <=50K|\n",
      "| 38|         11th|             Sales|   Male|           0|           0|            50| <=50K|\n",
      "| 43|      Masters|   Exec-managerial| Female|           0|           0|            45|  >50K|\n",
      "| 40|    Doctorate|    Prof-specialty|   Male|           0|           0|            60|  >50K|\n",
      "| 54|      HS-grad|     Other-service| Female|           0|           0|            20| <=50K|\n",
      "| 35|          9th|   Farming-fishing|   Male|           0|           0|            40| <=50K|\n",
      "| 43|         11th|  Transport-moving|   Male|           0|        2042|            40| <=50K|\n",
      "| 59|      HS-grad|      Tech-support| Female|           0|           0|            40| <=50K|\n",
      "| 56|    Bachelors|      Tech-support|   Male|           0|           0|            40|  >50K|\n",
      "| 19|      HS-grad|      Craft-repair|   Male|           0|           0|            40| <=50K|\n",
      "| 39|      HS-grad|   Exec-managerial|   Male|           0|           0|            80| <=50K|\n",
      "| 49|      HS-grad|      Craft-repair|   Male|           0|           0|            40| <=50K|\n",
      "| 23|   Assoc-acdm|   Protective-serv|   Male|           0|           0|            52| <=50K|\n",
      "| 20| Some-college|             Sales|   Male|           0|           0|            44| <=50K|\n",
      "| 45|    Bachelors|   Exec-managerial|   Male|           0|        1408|            40| <=50K|\n",
      "| 30| Some-college|      Adm-clerical|   Male|           0|           0|            40| <=50K|\n",
      "| 22| Some-college|     Other-service|   Male|           0|           0|            15| <=50K|\n",
      "| 48|         11th| Machine-op-inspct|   Male|           0|           0|            40| <=50K|\n",
      "| 21| Some-college| Machine-op-inspct|   Male|           0|           0|            40| <=50K|\n",
      "| 19|      HS-grad|      Adm-clerical| Female|           0|           0|            25| <=50K|\n",
      "| 31| Some-college|             Sales|   Male|           0|           0|            38|  >50K|\n",
      "| 48|   Assoc-acdm|    Prof-specialty|   Male|           0|           0|            40| <=50K|\n",
      "| 31|          9th| Machine-op-inspct|   Male|           0|           0|            43| <=50K|\n",
      "| 53|    Bachelors|    Prof-specialty|   Male|           0|           0|            40| <=50K|\n",
      "| 24|    Bachelors|      Tech-support|   Male|           0|           0|            50| <=50K|\n",
      "| 49|      HS-grad|      Adm-clerical| Female|           0|           0|            40| <=50K|\n",
      "| 25|      HS-grad| Handlers-cleaners|   Male|           0|           0|            35| <=50K|\n",
      "| 57|    Bachelors|    Prof-specialty|   Male|           0|           0|            40|  >50K|\n",
      "| 53|      HS-grad| Machine-op-inspct|   Male|           0|           0|            38| <=50K|\n",
      "| 44|      Masters|   Exec-managerial| Female|           0|           0|            40| <=50K|\n",
      "| 41|    Assoc-voc|      Craft-repair|   Male|           0|           0|            40| <=50K|\n",
      "| 29|    Assoc-voc|    Prof-specialty|   Male|           0|           0|            43| <=50K|\n",
      "| 25| Some-college|   Exec-managerial| Female|           0|           0|            40| <=50K|\n",
      "| 18|      HS-grad|     Other-service| Female|           0|           0|            30| <=50K|\n",
      "| 47|  Prof-school|    Prof-specialty| Female|           0|        1902|            60|  >50K|\n",
      "| 50|    Bachelors|   Exec-managerial|   Male|           0|           0|            55|  >50K|\n",
      "| 47|      HS-grad|   Exec-managerial|   Male|           0|           0|            60| <=50K|\n",
      "| 43| Some-college|      Tech-support|   Male|           0|           0|            40|  >50K|\n",
      "| 46|      5th-6th| Machine-op-inspct|   Male|           0|           0|            40| <=50K|\n",
      "| 35|    Assoc-voc|     Other-service|   Male|           0|           0|            40| <=50K|\n",
      "| 41|      HS-grad|      Adm-clerical|   Male|           0|           0|            48| <=50K|\n",
      "| 30|      HS-grad| Machine-op-inspct|   Male|        5013|           0|            40| <=50K|\n",
      "| 30|    Bachelors|             Sales|   Male|        2407|           0|            40| <=50K|\n",
      "| 48|      HS-grad|  Transport-moving|   Male|           0|           0|            40| <=50K|\n",
      "| 42|    Doctorate|    Prof-specialty|   Male|           0|           0|            45|  >50K|\n",
      "| 29| Some-college|      Tech-support|   Male|           0|           0|            58| <=50K|\n",
      "| 36|      HS-grad|      Craft-repair|   Male|           0|           0|            40| <=50K|\n",
      "| 28| Some-college|      Adm-clerical| Female|           0|           0|            40| <=50K|\n",
      "| 53|      HS-grad|      Adm-clerical| Female|           0|           0|            40|  >50K|\n",
      "| 49| Some-college|   Exec-managerial|   Male|           0|           0|            50|  >50K|\n",
      "| 19| Some-college|    Prof-specialty|   Male|           0|           0|            32| <=50K|\n",
      "| 31|    Bachelors|             Sales| Female|           0|           0|            40| <=50K|\n",
      "| 29|    Bachelors|             Sales|   Male|           0|           0|            70|  >50K|\n",
      "| 23| Some-college| Machine-op-inspct|   Male|           0|           0|            40| <=50K|\n",
      "| 79| Some-college|    Prof-specialty|   Male|           0|           0|            20| <=50K|\n",
      "| 27|      HS-grad|     Other-service|   Male|           0|           0|            40| <=50K|\n",
      "| 40|   Assoc-acdm|      Adm-clerical|   Male|           0|           0|            40| <=50K|\n",
      "| 18|         11th|     Other-service| Female|           0|           0|            22| <=50K|\n",
      "| 31|      7th-8th|   Farming-fishing|   Male|           0|           0|            40| <=50K|\n",
      "| 18|      HS-grad|             Sales|   Male|           0|           0|            30| <=50K|\n",
      "| 52|    Bachelors|     Other-service|   Male|           0|           0|            40| <=50K|\n",
      "| 46|      HS-grad|     Other-service| Female|           0|           0|            40| <=50K|\n",
      "| 59|      HS-grad|             Sales|   Male|           0|           0|            48| <=50K|\n",
      "| 44|      HS-grad|      Craft-repair| Female|       14344|           0|            40|  >50K|\n",
      "| 53|      HS-grad|             Sales| Female|           0|           0|            35| <=50K|\n",
      "| 49|      HS-grad|   Protective-serv|   Male|           0|           0|            40|  >50K|\n",
      "| 33|      Masters|    Prof-specialty|   Male|           0|           0|            50| <=50K|\n",
      "| 30|          9th|             Sales|   Male|           0|           0|            40| <=50K|\n",
      "| 43|    Doctorate|    Prof-specialty| Female|           0|           0|            50|  >50K|\n",
      "| 57|    Assoc-voc|    Prof-specialty|   Male|           0|           0|            40| <=50K|\n",
      "| 37| Some-college|      Craft-repair| Female|           0|           0|            40| <=50K|\n",
      "| 28| Some-college| Machine-op-inspct| Female|           0|           0|            25| <=50K|\n",
      "| 30|      HS-grad|             Sales| Female|           0|        1573|            35| <=50K|\n",
      "| 34|    Bachelors|   Protective-serv|   Male|           0|           0|            40|  >50K|\n",
      "| 29| Some-college| Handlers-cleaners|   Male|           0|           0|            50| <=50K|\n",
      "| 48|    Doctorate|    Prof-specialty|   Male|           0|        1902|            60|  >50K|\n",
      "| 37| Some-college|             Sales|   Male|           0|           0|            48|  >50K|\n",
      "| 48|   Assoc-acdm|   Exec-managerial| Female|           0|           0|            40| <=50K|\n",
      "| 32|      HS-grad|     Other-service|   Male|           0|           0|            40| <=50K|\n",
      "| 76|      Masters|   Exec-managerial|   Male|           0|           0|            40|  >50K|\n",
      "| 44|    Bachelors|   Exec-managerial|   Male|       15024|           0|            60|  >50K|\n",
      "| 47|      Masters|    Prof-specialty| Female|           0|           0|            50| <=50K|\n",
      "| 20| Some-college|      Tech-support| Female|           0|           0|            40| <=50K|\n",
      "+---+-------------+------------------+-------+------------+------------+--------------+------+\n",
      "only showing top 100 rows\n",
      "\n"
     ]
    }
   ],
   "source": [
    "person_df.show(100)"
   ]
  },
  {
   "cell_type": "markdown",
   "metadata": {},
   "source": [
    "To validate if any column has value \"?\" after handling missing value"
   ]
  },
  {
   "cell_type": "code",
   "execution_count": 14,
   "metadata": {},
   "outputs": [
    {
     "name": "stdout",
     "output_type": "stream",
     "text": [
      "+---+---------+----------+---+------------+------------+--------------+------+\n",
      "|age|education|occupation|sex|capital_gain|capital_loss|hours_per_week|salary|\n",
      "+---+---------+----------+---+------------+------------+--------------+------+\n",
      "|  0|        0|         0|  0|           0|           0|             0|     0|\n",
      "+---+---------+----------+---+------------+------------+--------------+------+\n",
      "\n"
     ]
    }
   ],
   "source": [
    "person_df.select([count(when(col(c) == '?', c)).alias(c) for c in person_df.columns]).show()"
   ]
  },
  {
   "cell_type": "code",
   "execution_count": 15,
   "metadata": {},
   "outputs": [
    {
     "data": {
      "text/plain": [
       "30718"
      ]
     },
     "execution_count": 15,
     "metadata": {},
     "output_type": "execute_result"
    }
   ],
   "source": [
    "person_df.count()"
   ]
  },
  {
   "cell_type": "code",
   "execution_count": 16,
   "metadata": {},
   "outputs": [
    {
     "name": "stdout",
     "output_type": "stream",
     "text": [
      "+---+-------------+------------------+-------+------------+------------+--------------+------+\n",
      "|age|    education|        occupation|    sex|capital_gain|capital_loss|hours_per_week|salary|\n",
      "+---+-------------+------------------+-------+------------+------------+--------------+------+\n",
      "| 39|    Bachelors|      Adm-clerical|   Male|        2174|           0|            40| <=50K|\n",
      "| 50|    Bachelors|   Exec-managerial|   Male|           0|           0|            13| <=50K|\n",
      "| 38|      HS-grad| Handlers-cleaners|   Male|           0|           0|            40| <=50K|\n",
      "| 53|         11th| Handlers-cleaners|   Male|           0|           0|            40| <=50K|\n",
      "| 28|    Bachelors|    Prof-specialty| Female|           0|           0|            40| <=50K|\n",
      "| 37|      Masters|   Exec-managerial| Female|           0|           0|            40| <=50K|\n",
      "| 49|          9th|     Other-service| Female|           0|           0|            16| <=50K|\n",
      "| 52|      HS-grad|   Exec-managerial|   Male|           0|           0|            45|  >50K|\n",
      "| 31|      Masters|    Prof-specialty| Female|       14084|           0|            50|  >50K|\n",
      "| 42|    Bachelors|   Exec-managerial|   Male|        5178|           0|            40|  >50K|\n",
      "| 37| Some-college|   Exec-managerial|   Male|           0|           0|            80|  >50K|\n",
      "| 30|    Bachelors|    Prof-specialty|   Male|           0|           0|            40|  >50K|\n",
      "| 23|    Bachelors|      Adm-clerical| Female|           0|           0|            30| <=50K|\n",
      "| 32|   Assoc-acdm|             Sales|   Male|           0|           0|            50| <=50K|\n",
      "| 40|    Assoc-voc|      Craft-repair|   Male|           0|           0|            40|  >50K|\n",
      "| 34|      7th-8th|  Transport-moving|   Male|           0|           0|            45| <=50K|\n",
      "| 25|      HS-grad|   Farming-fishing|   Male|           0|           0|            35| <=50K|\n",
      "| 32|      HS-grad| Machine-op-inspct|   Male|           0|           0|            40| <=50K|\n",
      "| 38|         11th|             Sales|   Male|           0|           0|            50| <=50K|\n",
      "| 43|      Masters|   Exec-managerial| Female|           0|           0|            45|  >50K|\n",
      "+---+-------------+------------------+-------+------------+------------+--------------+------+\n",
      "only showing top 20 rows\n",
      "\n"
     ]
    }
   ],
   "source": [
    "person_df.show()"
   ]
  },
  {
   "cell_type": "markdown",
   "metadata": {},
   "source": [
    "Binary Conversion of target label \"salary\""
   ]
  },
  {
   "cell_type": "code",
   "execution_count": 17,
   "metadata": {},
   "outputs": [
    {
     "name": "stdout",
     "output_type": "stream",
     "text": [
      "+------+\n",
      "|salary|\n",
      "+------+\n",
      "|  >50K|\n",
      "| <=50K|\n",
      "+------+\n",
      "\n"
     ]
    }
   ],
   "source": [
    "unique_salaries_before = person_df.select(\"salary\").distinct()\n",
    "unique_salaries_before.show()"
   ]
  },
  {
   "cell_type": "markdown",
   "metadata": {},
   "source": [
    "Triming the spaces in the salary column"
   ]
  },
  {
   "cell_type": "code",
   "execution_count": 18,
   "metadata": {},
   "outputs": [],
   "source": [
    "person_df = person_df.withColumn(\"salary\", trim(col(\"salary\")))\n"
   ]
  },
  {
   "cell_type": "code",
   "execution_count": 19,
   "metadata": {},
   "outputs": [
    {
     "name": "stdout",
     "output_type": "stream",
     "text": [
      "+---+-------------+------------------+-------+------------+------------+--------------+------+\n",
      "|age|    education|        occupation|    sex|capital_gain|capital_loss|hours_per_week|salary|\n",
      "+---+-------------+------------------+-------+------------+------------+--------------+------+\n",
      "| 39|    Bachelors|      Adm-clerical|   Male|        2174|           0|            40| <=50K|\n",
      "| 50|    Bachelors|   Exec-managerial|   Male|           0|           0|            13| <=50K|\n",
      "| 38|      HS-grad| Handlers-cleaners|   Male|           0|           0|            40| <=50K|\n",
      "| 53|         11th| Handlers-cleaners|   Male|           0|           0|            40| <=50K|\n",
      "| 28|    Bachelors|    Prof-specialty| Female|           0|           0|            40| <=50K|\n",
      "| 37|      Masters|   Exec-managerial| Female|           0|           0|            40| <=50K|\n",
      "| 49|          9th|     Other-service| Female|           0|           0|            16| <=50K|\n",
      "| 52|      HS-grad|   Exec-managerial|   Male|           0|           0|            45|  >50K|\n",
      "| 31|      Masters|    Prof-specialty| Female|       14084|           0|            50|  >50K|\n",
      "| 42|    Bachelors|   Exec-managerial|   Male|        5178|           0|            40|  >50K|\n",
      "| 37| Some-college|   Exec-managerial|   Male|           0|           0|            80|  >50K|\n",
      "| 30|    Bachelors|    Prof-specialty|   Male|           0|           0|            40|  >50K|\n",
      "| 23|    Bachelors|      Adm-clerical| Female|           0|           0|            30| <=50K|\n",
      "| 32|   Assoc-acdm|             Sales|   Male|           0|           0|            50| <=50K|\n",
      "| 40|    Assoc-voc|      Craft-repair|   Male|           0|           0|            40|  >50K|\n",
      "| 34|      7th-8th|  Transport-moving|   Male|           0|           0|            45| <=50K|\n",
      "| 25|      HS-grad|   Farming-fishing|   Male|           0|           0|            35| <=50K|\n",
      "| 32|      HS-grad| Machine-op-inspct|   Male|           0|           0|            40| <=50K|\n",
      "| 38|         11th|             Sales|   Male|           0|           0|            50| <=50K|\n",
      "| 43|      Masters|   Exec-managerial| Female|           0|           0|            45|  >50K|\n",
      "+---+-------------+------------------+-------+------------+------------+--------------+------+\n",
      "only showing top 20 rows\n",
      "\n"
     ]
    }
   ],
   "source": [
    "person_df.show()"
   ]
  },
  {
   "cell_type": "markdown",
   "metadata": {},
   "source": [
    "# Conversion of Target label"
   ]
  },
  {
   "cell_type": "markdown",
   "metadata": {},
   "source": [
    "Converting salary column values to binary"
   ]
  },
  {
   "cell_type": "code",
   "execution_count": 20,
   "metadata": {},
   "outputs": [
    {
     "name": "stdout",
     "output_type": "stream",
     "text": [
      "+---+-------------+------------------+-------+------------+------------+--------------+------+\n",
      "|age|    education|        occupation|    sex|capital_gain|capital_loss|hours_per_week|salary|\n",
      "+---+-------------+------------------+-------+------------+------------+--------------+------+\n",
      "| 39|    Bachelors|      Adm-clerical|   Male|        2174|           0|            40|     0|\n",
      "| 50|    Bachelors|   Exec-managerial|   Male|           0|           0|            13|     0|\n",
      "| 38|      HS-grad| Handlers-cleaners|   Male|           0|           0|            40|     0|\n",
      "| 53|         11th| Handlers-cleaners|   Male|           0|           0|            40|     0|\n",
      "| 28|    Bachelors|    Prof-specialty| Female|           0|           0|            40|     0|\n",
      "| 37|      Masters|   Exec-managerial| Female|           0|           0|            40|     0|\n",
      "| 49|          9th|     Other-service| Female|           0|           0|            16|     0|\n",
      "| 52|      HS-grad|   Exec-managerial|   Male|           0|           0|            45|     1|\n",
      "| 31|      Masters|    Prof-specialty| Female|       14084|           0|            50|     1|\n",
      "| 42|    Bachelors|   Exec-managerial|   Male|        5178|           0|            40|     1|\n",
      "| 37| Some-college|   Exec-managerial|   Male|           0|           0|            80|     1|\n",
      "| 30|    Bachelors|    Prof-specialty|   Male|           0|           0|            40|     1|\n",
      "| 23|    Bachelors|      Adm-clerical| Female|           0|           0|            30|     0|\n",
      "| 32|   Assoc-acdm|             Sales|   Male|           0|           0|            50|     0|\n",
      "| 40|    Assoc-voc|      Craft-repair|   Male|           0|           0|            40|     1|\n",
      "| 34|      7th-8th|  Transport-moving|   Male|           0|           0|            45|     0|\n",
      "| 25|      HS-grad|   Farming-fishing|   Male|           0|           0|            35|     0|\n",
      "| 32|      HS-grad| Machine-op-inspct|   Male|           0|           0|            40|     0|\n",
      "| 38|         11th|             Sales|   Male|           0|           0|            50|     0|\n",
      "| 43|      Masters|   Exec-managerial| Female|           0|           0|            45|     1|\n",
      "+---+-------------+------------------+-------+------------+------------+--------------+------+\n",
      "only showing top 20 rows\n",
      "\n"
     ]
    }
   ],
   "source": [
    "person_df = person_df.withColumn(\"salary\", when(col(\"salary\") == \">50K\", 1).otherwise(0))\n",
    "\n",
    "person_df.show()"
   ]
  },
  {
   "cell_type": "markdown",
   "metadata": {},
   "source": [
    "# Encoding & Scaling"
   ]
  },
  {
   "cell_type": "markdown",
   "metadata": {},
   "source": [
    "Type - Label Encoding \\\n",
    "Scaling - Standard Scaler"
   ]
  },
  {
   "cell_type": "code",
   "execution_count": 21,
   "metadata": {},
   "outputs": [],
   "source": [
    "# Importing necessary encoding and scaling libraries\n",
    "from pyspark.ml.feature import StringIndexer, VectorAssembler\n",
    "from pyspark.ml import Pipeline\n",
    "from pyspark.ml.feature import StandardScaler"
   ]
  },
  {
   "cell_type": "markdown",
   "metadata": {},
   "source": [
    "Performing label encoding on categorial columns"
   ]
  },
  {
   "cell_type": "code",
   "execution_count": 22,
   "metadata": {},
   "outputs": [],
   "source": [
    "# categorial columns to be converted\n",
    "categorical_columns = [\"education\", \"occupation\", \"sex\"]\n",
    "\n",
    "# Creating StringIndexer for each categorical column\n",
    "indexers = [StringIndexer(inputCol=column, outputCol=column + \"_index\", handleInvalid=\"keep\") for column in categorical_columns]\n"
   ]
  },
  {
   "cell_type": "markdown",
   "metadata": {},
   "source": [
    "using pipeline to fit and transform on dataset"
   ]
  },
  {
   "cell_type": "code",
   "execution_count": 23,
   "metadata": {},
   "outputs": [
    {
     "name": "stderr",
     "output_type": "stream",
     "text": [
      "                                                                                \r"
     ]
    },
    {
     "name": "stdout",
     "output_type": "stream",
     "text": [
      "+---+-------------+------------------+-------+------------+------------+--------------+------+---------------+----------------+---------+\n",
      "|age|    education|        occupation|    sex|capital_gain|capital_loss|hours_per_week|salary|education_index|occupation_index|sex_index|\n",
      "+---+-------------+------------------+-------+------------+------------+--------------+------+---------------+----------------+---------+\n",
      "| 39|    Bachelors|      Adm-clerical|   Male|        2174|           0|            40|     0|            2.0|             3.0|      0.0|\n",
      "| 50|    Bachelors|   Exec-managerial|   Male|           0|           0|            13|     0|            2.0|             2.0|      0.0|\n",
      "| 38|      HS-grad| Handlers-cleaners|   Male|           0|           0|            40|     0|            0.0|             8.0|      0.0|\n",
      "| 53|         11th| Handlers-cleaners|   Male|           0|           0|            40|     0|            5.0|             8.0|      0.0|\n",
      "| 28|    Bachelors|    Prof-specialty| Female|           0|           0|            40|     0|            2.0|             0.0|      1.0|\n",
      "| 37|      Masters|   Exec-managerial| Female|           0|           0|            40|     0|            3.0|             2.0|      1.0|\n",
      "| 49|          9th|     Other-service| Female|           0|           0|            16|     0|           10.0|             5.0|      1.0|\n",
      "| 52|      HS-grad|   Exec-managerial|   Male|           0|           0|            45|     1|            0.0|             2.0|      0.0|\n",
      "| 31|      Masters|    Prof-specialty| Female|       14084|           0|            50|     1|            3.0|             0.0|      1.0|\n",
      "| 42|    Bachelors|   Exec-managerial|   Male|        5178|           0|            40|     1|            2.0|             2.0|      0.0|\n",
      "| 37| Some-college|   Exec-managerial|   Male|           0|           0|            80|     1|            1.0|             2.0|      0.0|\n",
      "| 30|    Bachelors|    Prof-specialty|   Male|           0|           0|            40|     1|            2.0|             0.0|      0.0|\n",
      "| 23|    Bachelors|      Adm-clerical| Female|           0|           0|            30|     0|            2.0|             3.0|      1.0|\n",
      "| 32|   Assoc-acdm|             Sales|   Male|           0|           0|            50|     0|            6.0|             4.0|      0.0|\n",
      "| 40|    Assoc-voc|      Craft-repair|   Male|           0|           0|            40|     1|            4.0|             1.0|      0.0|\n",
      "| 34|      7th-8th|  Transport-moving|   Male|           0|           0|            45|     0|            8.0|             7.0|      0.0|\n",
      "| 25|      HS-grad|   Farming-fishing|   Male|           0|           0|            35|     0|            0.0|             9.0|      0.0|\n",
      "| 32|      HS-grad| Machine-op-inspct|   Male|           0|           0|            40|     0|            0.0|             6.0|      0.0|\n",
      "| 38|         11th|             Sales|   Male|           0|           0|            50|     0|            5.0|             4.0|      0.0|\n",
      "| 43|      Masters|   Exec-managerial| Female|           0|           0|            45|     1|            3.0|             2.0|      1.0|\n",
      "+---+-------------+------------------+-------+------------+------------+--------------+------+---------------+----------------+---------+\n",
      "only showing top 20 rows\n",
      "\n"
     ]
    }
   ],
   "source": [
    "pipeline = Pipeline(stages=indexers)\n",
    "preprocessed_data = pipeline.fit(person_df).transform(person_df)\n",
    "\n",
    "preprocessed_data.show()"
   ]
  },
  {
   "cell_type": "markdown",
   "metadata": {},
   "source": [
    "Vectoring the Numerical Columns"
   ]
  },
  {
   "cell_type": "code",
   "execution_count": 28,
   "metadata": {},
   "outputs": [],
   "source": [
    "numerical_columns = [\"age\",\"capital_gain\", \"capital_loss\", \"hours_per_week\"]"
   ]
  },
  {
   "cell_type": "code",
   "execution_count": 29,
   "metadata": {},
   "outputs": [],
   "source": [
    "assemblers = [VectorAssembler(inputCols=[col], outputCol=col + \"_vec\") for col in numerical_columns]"
   ]
  },
  {
   "cell_type": "markdown",
   "metadata": {},
   "source": [
    "Standard Scaler Implementation"
   ]
  },
  {
   "cell_type": "code",
   "execution_count": 30,
   "metadata": {},
   "outputs": [],
   "source": [
    "scaler = [StandardScaler(inputCol=col + \"_vec\", outputCol=col + \"_scaled\") for col in numerical_columns]"
   ]
  },
  {
   "cell_type": "markdown",
   "metadata": {},
   "source": [
    "Build a pipeling for indexing and scaling to perform on Numberical Columns"
   ]
  },
  {
   "cell_type": "code",
   "execution_count": 31,
   "metadata": {},
   "outputs": [
    {
     "name": "stderr",
     "output_type": "stream",
     "text": [
      "                                                                                \r"
     ]
    },
    {
     "name": "stdout",
     "output_type": "stream",
     "text": [
      "+---+-------------+------------------+-------+------------+------------+--------------+------+---------------+----------------+---------+-------+----------------+----------------+------------------+--------------------+--------------------+-------------------+---------------------+\n",
      "|age|    education|        occupation|    sex|capital_gain|capital_loss|hours_per_week|salary|education_index|occupation_index|sex_index|age_vec|capital_gain_vec|capital_loss_vec|hours_per_week_vec|          age_scaled| capital_gain_scaled|capital_loss_scaled|hours_per_week_scaled|\n",
      "+---+-------------+------------------+-------+------------+------------+--------------+------+---------------+----------------+---------+-------+----------------+----------------+------------------+--------------------+--------------------+-------------------+---------------------+\n",
      "| 39|    Bachelors|      Adm-clerical|   Male|        2174|           0|            40|     0|            2.0|             3.0|      0.0| [39.0]|        [2174.0]|           [0.0]|            [40.0]|[2.9729626401141958]|[0.28994926881088...|              [0.0]| [3.3373988325588257]|\n",
      "| 50|    Bachelors|   Exec-managerial|   Male|           0|           0|            13|     0|            2.0|             2.0|      0.0| [50.0]|           [0.0]|           [0.0]|            [13.0]| [3.811490564248969]|               [0.0]|              [0.0]| [1.0846546205816183]|\n",
      "| 38|      HS-grad| Handlers-cleaners|   Male|           0|           0|            40|     0|            0.0|             8.0|      0.0| [38.0]|           [0.0]|           [0.0]|            [40.0]|[2.8967328288292165]|               [0.0]|              [0.0]| [3.3373988325588257]|\n",
      "| 53|         11th| Handlers-cleaners|   Male|           0|           0|            40|     0|            5.0|             8.0|      0.0| [53.0]|           [0.0]|           [0.0]|            [40.0]| [4.040179998103907]|               [0.0]|              [0.0]| [3.3373988325588257]|\n",
      "| 28|    Bachelors|    Prof-specialty| Female|           0|           0|            40|     0|            2.0|             0.0|      1.0| [28.0]|           [0.0]|           [0.0]|            [40.0]|[2.1344347159794226]|               [0.0]|              [0.0]| [3.3373988325588257]|\n",
      "| 37|      Masters|   Exec-managerial| Female|           0|           0|            40|     0|            3.0|             2.0|      1.0| [37.0]|           [0.0]|           [0.0]|            [40.0]| [2.820503017544237]|               [0.0]|              [0.0]| [3.3373988325588257]|\n",
      "| 49|          9th|     Other-service| Female|           0|           0|            16|     0|           10.0|             5.0|      1.0| [49.0]|           [0.0]|           [0.0]|            [16.0]|[3.7352607529639896]|               [0.0]|              [0.0]| [1.3349595330235302]|\n",
      "| 52|      HS-grad|   Exec-managerial|   Male|           0|           0|            45|     1|            0.0|             2.0|      0.0| [52.0]|           [0.0]|           [0.0]|            [45.0]| [3.963950186818928]|               [0.0]|              [0.0]| [3.7545736866286785]|\n",
      "| 31|      Masters|    Prof-specialty| Female|       14084|           0|            50|     1|            3.0|             0.0|      1.0| [31.0]|       [14084.0]|           [0.0]|            [50.0]| [2.363124149834361]|[1.8784017948171405]|              [0.0]|  [4.171748540698532]|\n",
      "| 42|    Bachelors|   Exec-managerial|   Male|        5178|           0|            40|     1|            2.0|             2.0|      0.0| [42.0]|        [5178.0]|           [0.0]|            [40.0]| [3.201652073969134]|[0.6905967405256428]|              [0.0]| [3.3373988325588257]|\n",
      "| 37| Some-college|   Exec-managerial|   Male|           0|           0|            80|     1|            1.0|             2.0|      0.0| [37.0]|           [0.0]|           [0.0]|            [80.0]| [2.820503017544237]|               [0.0]|              [0.0]| [6.6747976651176515]|\n",
      "| 30|    Bachelors|    Prof-specialty|   Male|           0|           0|            40|     1|            2.0|             0.0|      0.0| [30.0]|           [0.0]|           [0.0]|            [40.0]|[2.2868943385493816]|               [0.0]|              [0.0]| [3.3373988325588257]|\n",
      "| 23|    Bachelors|      Adm-clerical| Female|           0|           0|            30|     0|            2.0|             3.0|      1.0| [23.0]|           [0.0]|           [0.0]|            [30.0]|[1.7532856595545259]|               [0.0]|              [0.0]| [2.5030491244191193]|\n",
      "| 32|   Assoc-acdm|             Sales|   Male|           0|           0|            50|     0|            6.0|             4.0|      0.0| [32.0]|           [0.0]|           [0.0]|            [50.0]|  [2.43935396111934]|               [0.0]|              [0.0]|  [4.171748540698532]|\n",
      "| 40|    Assoc-voc|      Craft-repair|   Male|           0|           0|            40|     1|            4.0|             1.0|      0.0| [40.0]|           [0.0]|           [0.0]|            [40.0]|[3.0491924513991755]|               [0.0]|              [0.0]| [3.3373988325588257]|\n",
      "| 34|      7th-8th|  Transport-moving|   Male|           0|           0|            45|     0|            8.0|             7.0|      0.0| [34.0]|           [0.0]|           [0.0]|            [45.0]| [2.591813583689299]|               [0.0]|              [0.0]| [3.7545736866286785]|\n",
      "| 25|      HS-grad|   Farming-fishing|   Male|           0|           0|            35|     0|            0.0|             9.0|      0.0| [25.0]|           [0.0]|           [0.0]|            [35.0]|[1.9057452821244845]|               [0.0]|              [0.0]| [2.9202239784889725]|\n",
      "| 32|      HS-grad| Machine-op-inspct|   Male|           0|           0|            40|     0|            0.0|             6.0|      0.0| [32.0]|           [0.0]|           [0.0]|            [40.0]|  [2.43935396111934]|               [0.0]|              [0.0]| [3.3373988325588257]|\n",
      "| 38|         11th|             Sales|   Male|           0|           0|            50|     0|            5.0|             4.0|      0.0| [38.0]|           [0.0]|           [0.0]|            [50.0]|[2.8967328288292165]|               [0.0]|              [0.0]|  [4.171748540698532]|\n",
      "| 43|      Masters|   Exec-managerial| Female|           0|           0|            45|     1|            3.0|             2.0|      1.0| [43.0]|           [0.0]|           [0.0]|            [45.0]|[3.2778818852541134]|               [0.0]|              [0.0]| [3.7545736866286785]|\n",
      "+---+-------------+------------------+-------+------------+------------+--------------+------+---------------+----------------+---------+-------+----------------+----------------+------------------+--------------------+--------------------+-------------------+---------------------+\n",
      "only showing top 20 rows\n",
      "\n"
     ]
    }
   ],
   "source": [
    "pipeline = Pipeline(stages=(assemblers+scaler))\n",
    "preprocessed_data = pipeline.fit(preprocessed_data).transform(preprocessed_data)\n",
    "\n",
    "preprocessed_data.show()"
   ]
  },
  {
   "cell_type": "code",
   "execution_count": 32,
   "metadata": {},
   "outputs": [],
   "source": [
    "import pyspark.sql.functions as F"
   ]
  },
  {
   "cell_type": "markdown",
   "metadata": {},
   "source": [
    "Replacing original columns with vector and scaled values"
   ]
  },
  {
   "cell_type": "code",
   "execution_count": 34,
   "metadata": {},
   "outputs": [
    {
     "name": "stdout",
     "output_type": "stream",
     "text": [
      "+--------------------+---------+----------+---+--------------------+------------+--------------+------+---------------+----------------+---------+-------+----------------+----------------+------------------+--------------------+--------------------+-------------------+---------------------+--------------------+\n",
      "|                 age|education|occupation|sex|        capital_gain|capital_loss|hours_per_week|salary|education_index|occupation_index|sex_index|age_vec|capital_gain_vec|capital_loss_vec|hours_per_week_vec|          age_scaled| capital_gain_scaled|capital_loss_scaled|hours_per_week_scaled|      hours-per_week|\n",
      "+--------------------+---------+----------+---+--------------------+------------+--------------+------+---------------+----------------+---------+-------+----------------+----------------+------------------+--------------------+--------------------+-------------------+---------------------+--------------------+\n",
      "|[2.9729626401141958]|      2.0|       3.0|0.0|[0.28994926881088...|       [0.0]|            40|     0|            2.0|             3.0|      0.0| [39.0]|        [2174.0]|           [0.0]|            [40.0]|[2.9729626401141958]|[0.28994926881088...|              [0.0]| [3.3373988325588257]|[3.3373988325588257]|\n",
      "| [3.811490564248969]|      2.0|       2.0|0.0|               [0.0]|       [0.0]|            13|     0|            2.0|             2.0|      0.0| [50.0]|           [0.0]|           [0.0]|            [13.0]| [3.811490564248969]|               [0.0]|              [0.0]| [1.0846546205816183]|[1.0846546205816183]|\n",
      "|[2.8967328288292165]|      0.0|       8.0|0.0|               [0.0]|       [0.0]|            40|     0|            0.0|             8.0|      0.0| [38.0]|           [0.0]|           [0.0]|            [40.0]|[2.8967328288292165]|               [0.0]|              [0.0]| [3.3373988325588257]|[3.3373988325588257]|\n",
      "| [4.040179998103907]|      5.0|       8.0|0.0|               [0.0]|       [0.0]|            40|     0|            5.0|             8.0|      0.0| [53.0]|           [0.0]|           [0.0]|            [40.0]| [4.040179998103907]|               [0.0]|              [0.0]| [3.3373988325588257]|[3.3373988325588257]|\n",
      "|[2.1344347159794226]|      2.0|       0.0|1.0|               [0.0]|       [0.0]|            40|     0|            2.0|             0.0|      1.0| [28.0]|           [0.0]|           [0.0]|            [40.0]|[2.1344347159794226]|               [0.0]|              [0.0]| [3.3373988325588257]|[3.3373988325588257]|\n",
      "| [2.820503017544237]|      3.0|       2.0|1.0|               [0.0]|       [0.0]|            40|     0|            3.0|             2.0|      1.0| [37.0]|           [0.0]|           [0.0]|            [40.0]| [2.820503017544237]|               [0.0]|              [0.0]| [3.3373988325588257]|[3.3373988325588257]|\n",
      "|[3.7352607529639896]|     10.0|       5.0|1.0|               [0.0]|       [0.0]|            16|     0|           10.0|             5.0|      1.0| [49.0]|           [0.0]|           [0.0]|            [16.0]|[3.7352607529639896]|               [0.0]|              [0.0]| [1.3349595330235302]|[1.3349595330235302]|\n",
      "| [3.963950186818928]|      0.0|       2.0|0.0|               [0.0]|       [0.0]|            45|     1|            0.0|             2.0|      0.0| [52.0]|           [0.0]|           [0.0]|            [45.0]| [3.963950186818928]|               [0.0]|              [0.0]| [3.7545736866286785]|[3.7545736866286785]|\n",
      "| [2.363124149834361]|      3.0|       0.0|1.0|[1.8784017948171405]|       [0.0]|            50|     1|            3.0|             0.0|      1.0| [31.0]|       [14084.0]|           [0.0]|            [50.0]| [2.363124149834361]|[1.8784017948171405]|              [0.0]|  [4.171748540698532]| [4.171748540698532]|\n",
      "| [3.201652073969134]|      2.0|       2.0|0.0|[0.6905967405256428]|       [0.0]|            40|     1|            2.0|             2.0|      0.0| [42.0]|        [5178.0]|           [0.0]|            [40.0]| [3.201652073969134]|[0.6905967405256428]|              [0.0]| [3.3373988325588257]|[3.3373988325588257]|\n",
      "| [2.820503017544237]|      1.0|       2.0|0.0|               [0.0]|       [0.0]|            80|     1|            1.0|             2.0|      0.0| [37.0]|           [0.0]|           [0.0]|            [80.0]| [2.820503017544237]|               [0.0]|              [0.0]| [6.6747976651176515]|[6.6747976651176515]|\n",
      "|[2.2868943385493816]|      2.0|       0.0|0.0|               [0.0]|       [0.0]|            40|     1|            2.0|             0.0|      0.0| [30.0]|           [0.0]|           [0.0]|            [40.0]|[2.2868943385493816]|               [0.0]|              [0.0]| [3.3373988325588257]|[3.3373988325588257]|\n",
      "|[1.7532856595545259]|      2.0|       3.0|1.0|               [0.0]|       [0.0]|            30|     0|            2.0|             3.0|      1.0| [23.0]|           [0.0]|           [0.0]|            [30.0]|[1.7532856595545259]|               [0.0]|              [0.0]| [2.5030491244191193]|[2.5030491244191193]|\n",
      "|  [2.43935396111934]|      6.0|       4.0|0.0|               [0.0]|       [0.0]|            50|     0|            6.0|             4.0|      0.0| [32.0]|           [0.0]|           [0.0]|            [50.0]|  [2.43935396111934]|               [0.0]|              [0.0]|  [4.171748540698532]| [4.171748540698532]|\n",
      "|[3.0491924513991755]|      4.0|       1.0|0.0|               [0.0]|       [0.0]|            40|     1|            4.0|             1.0|      0.0| [40.0]|           [0.0]|           [0.0]|            [40.0]|[3.0491924513991755]|               [0.0]|              [0.0]| [3.3373988325588257]|[3.3373988325588257]|\n",
      "| [2.591813583689299]|      8.0|       7.0|0.0|               [0.0]|       [0.0]|            45|     0|            8.0|             7.0|      0.0| [34.0]|           [0.0]|           [0.0]|            [45.0]| [2.591813583689299]|               [0.0]|              [0.0]| [3.7545736866286785]|[3.7545736866286785]|\n",
      "|[1.9057452821244845]|      0.0|       9.0|0.0|               [0.0]|       [0.0]|            35|     0|            0.0|             9.0|      0.0| [25.0]|           [0.0]|           [0.0]|            [35.0]|[1.9057452821244845]|               [0.0]|              [0.0]| [2.9202239784889725]|[2.9202239784889725]|\n",
      "|  [2.43935396111934]|      0.0|       6.0|0.0|               [0.0]|       [0.0]|            40|     0|            0.0|             6.0|      0.0| [32.0]|           [0.0]|           [0.0]|            [40.0]|  [2.43935396111934]|               [0.0]|              [0.0]| [3.3373988325588257]|[3.3373988325588257]|\n",
      "|[2.8967328288292165]|      5.0|       4.0|0.0|               [0.0]|       [0.0]|            50|     0|            5.0|             4.0|      0.0| [38.0]|           [0.0]|           [0.0]|            [50.0]|[2.8967328288292165]|               [0.0]|              [0.0]|  [4.171748540698532]| [4.171748540698532]|\n",
      "|[3.2778818852541134]|      3.0|       2.0|1.0|               [0.0]|       [0.0]|            45|     1|            3.0|             2.0|      1.0| [43.0]|           [0.0]|           [0.0]|            [45.0]|[3.2778818852541134]|               [0.0]|              [0.0]| [3.7545736866286785]|[3.7545736866286785]|\n",
      "+--------------------+---------+----------+---+--------------------+------------+--------------+------+---------------+----------------+---------+-------+----------------+----------------+------------------+--------------------+--------------------+-------------------+---------------------+--------------------+\n",
      "only showing top 20 rows\n",
      "\n"
     ]
    }
   ],
   "source": [
    "preprocessed_data = preprocessed_data.withColumn(\"education\",F.col(\"education_index\"))\n",
    "preprocessed_data = preprocessed_data.withColumn(\"age\",F.col(\"age_scaled\"))\n",
    "preprocessed_data = preprocessed_data.withColumn(\"occupation\",F.col(\"occupation_index\"))\n",
    "preprocessed_data = preprocessed_data.withColumn(\"sex\",F.col(\"sex_index\"))\n",
    "preprocessed_data = preprocessed_data.withColumn(\"capital_gain\",F.col(\"capital_gain_scaled\"))\n",
    "preprocessed_data = preprocessed_data.withColumn(\"capital_loss\",F.col(\"capital_loss_scaled\"))\n",
    "preprocessed_data = preprocessed_data.withColumn(\"hours-per_week\",F.col(\"hours_per_week_scaled\"))\n",
    "\n",
    "preprocessed_data.show()"
   ]
  },
  {
   "cell_type": "markdown",
   "metadata": {},
   "source": [
    "selecting specific columns for model building"
   ]
  },
  {
   "cell_type": "code",
   "execution_count": 36,
   "metadata": {},
   "outputs": [
    {
     "name": "stdout",
     "output_type": "stream",
     "text": [
      "+--------------------+---------+----------+---+--------------------+------------+--------------+------+\n",
      "|                 age|education|occupation|sex|        capital_gain|capital_loss|hours_per_week|salary|\n",
      "+--------------------+---------+----------+---+--------------------+------------+--------------+------+\n",
      "|[2.9729626401141958]|      2.0|       3.0|0.0|[0.28994926881088...|       [0.0]|            40|     0|\n",
      "| [3.811490564248969]|      2.0|       2.0|0.0|               [0.0]|       [0.0]|            13|     0|\n",
      "|[2.8967328288292165]|      0.0|       8.0|0.0|               [0.0]|       [0.0]|            40|     0|\n",
      "| [4.040179998103907]|      5.0|       8.0|0.0|               [0.0]|       [0.0]|            40|     0|\n",
      "|[2.1344347159794226]|      2.0|       0.0|1.0|               [0.0]|       [0.0]|            40|     0|\n",
      "| [2.820503017544237]|      3.0|       2.0|1.0|               [0.0]|       [0.0]|            40|     0|\n",
      "|[3.7352607529639896]|     10.0|       5.0|1.0|               [0.0]|       [0.0]|            16|     0|\n",
      "| [3.963950186818928]|      0.0|       2.0|0.0|               [0.0]|       [0.0]|            45|     1|\n",
      "| [2.363124149834361]|      3.0|       0.0|1.0|[1.8784017948171405]|       [0.0]|            50|     1|\n",
      "| [3.201652073969134]|      2.0|       2.0|0.0|[0.6905967405256428]|       [0.0]|            40|     1|\n",
      "| [2.820503017544237]|      1.0|       2.0|0.0|               [0.0]|       [0.0]|            80|     1|\n",
      "|[2.2868943385493816]|      2.0|       0.0|0.0|               [0.0]|       [0.0]|            40|     1|\n",
      "|[1.7532856595545259]|      2.0|       3.0|1.0|               [0.0]|       [0.0]|            30|     0|\n",
      "|  [2.43935396111934]|      6.0|       4.0|0.0|               [0.0]|       [0.0]|            50|     0|\n",
      "|[3.0491924513991755]|      4.0|       1.0|0.0|               [0.0]|       [0.0]|            40|     1|\n",
      "| [2.591813583689299]|      8.0|       7.0|0.0|               [0.0]|       [0.0]|            45|     0|\n",
      "|[1.9057452821244845]|      0.0|       9.0|0.0|               [0.0]|       [0.0]|            35|     0|\n",
      "|  [2.43935396111934]|      0.0|       6.0|0.0|               [0.0]|       [0.0]|            40|     0|\n",
      "|[2.8967328288292165]|      5.0|       4.0|0.0|               [0.0]|       [0.0]|            50|     0|\n",
      "|[3.2778818852541134]|      3.0|       2.0|1.0|               [0.0]|       [0.0]|            45|     1|\n",
      "+--------------------+---------+----------+---+--------------------+------------+--------------+------+\n",
      "only showing top 20 rows\n",
      "\n"
     ]
    }
   ],
   "source": [
    "columns = [\"age\",\"education\",\"occupation\",\"sex\",\"capital_gain\",\"capital_loss\",\"hours_per_week\",\"salary\"]\n",
    "person_df_one = preprocessed_data.select(*[col(c) for c in columns])\n",
    "person_df_one.show()"
   ]
  },
  {
   "cell_type": "code",
   "execution_count": 37,
   "metadata": {},
   "outputs": [
    {
     "name": "stdout",
     "output_type": "stream",
     "text": [
      "+--------------------+---------+----------+---+--------------+------+\n",
      "|                 age|education|occupation|sex|hours_per_week|salary|\n",
      "+--------------------+---------+----------+---+--------------+------+\n",
      "|[2.9729626401141958]|      2.0|       3.0|0.0|            40|     0|\n",
      "| [3.811490564248969]|      2.0|       2.0|0.0|            13|     0|\n",
      "|[2.8967328288292165]|      0.0|       8.0|0.0|            40|     0|\n",
      "| [4.040179998103907]|      5.0|       8.0|0.0|            40|     0|\n",
      "|[2.1344347159794226]|      2.0|       0.0|1.0|            40|     0|\n",
      "| [2.820503017544237]|      3.0|       2.0|1.0|            40|     0|\n",
      "|[3.7352607529639896]|     10.0|       5.0|1.0|            16|     0|\n",
      "| [3.963950186818928]|      0.0|       2.0|0.0|            45|     1|\n",
      "| [2.363124149834361]|      3.0|       0.0|1.0|            50|     1|\n",
      "| [3.201652073969134]|      2.0|       2.0|0.0|            40|     1|\n",
      "| [2.820503017544237]|      1.0|       2.0|0.0|            80|     1|\n",
      "|[2.2868943385493816]|      2.0|       0.0|0.0|            40|     1|\n",
      "|[1.7532856595545259]|      2.0|       3.0|1.0|            30|     0|\n",
      "|  [2.43935396111934]|      6.0|       4.0|0.0|            50|     0|\n",
      "|[3.0491924513991755]|      4.0|       1.0|0.0|            40|     1|\n",
      "| [2.591813583689299]|      8.0|       7.0|0.0|            45|     0|\n",
      "|[1.9057452821244845]|      0.0|       9.0|0.0|            35|     0|\n",
      "|  [2.43935396111934]|      0.0|       6.0|0.0|            40|     0|\n",
      "|[2.8967328288292165]|      5.0|       4.0|0.0|            50|     0|\n",
      "|[3.2778818852541134]|      3.0|       2.0|1.0|            45|     1|\n",
      "+--------------------+---------+----------+---+--------------+------+\n",
      "only showing top 20 rows\n",
      "\n"
     ]
    }
   ],
   "source": [
    "columns = [\"age\",\"education\",\"occupation\",\"sex\",\"hours_per_week\",\"salary\"]\n",
    "person_df_two = preprocessed_data.select(*[col(c) for c in columns])\n",
    "person_df_two.show()"
   ]
  },
  {
   "cell_type": "markdown",
   "metadata": {},
   "source": [
    "# Model Building"
   ]
  },
  {
   "cell_type": "markdown",
   "metadata": {},
   "source": [
    "Spliting dataset into train and test data"
   ]
  },
  {
   "cell_type": "code",
   "execution_count": 38,
   "metadata": {},
   "outputs": [],
   "source": [
    "# Importing Pipeline and Model\n",
    "from pyspark.ml import Pipeline\n",
    "from pyspark.ml.classification import LogisticRegression\n",
    "assembler = VectorAssembler(inputCols=['age', 'education', 'occupation', 'sex', 'capital_gain', 'capital_loss', 'hours_per_week'],\n",
    "                                    outputCol='features')\n",
    "assembler_data = assembler.transform(person_df_one)\n"
   ]
  },
  {
   "cell_type": "code",
   "execution_count": 39,
   "metadata": {},
   "outputs": [
    {
     "name": "stdout",
     "output_type": "stream",
     "text": [
      "+--------------------+---------+----------+---+--------------------+------------+--------------+------+--------------------+\n",
      "|                 age|education|occupation|sex|        capital_gain|capital_loss|hours_per_week|salary|            features|\n",
      "+--------------------+---------+----------+---+--------------------+------------+--------------+------+--------------------+\n",
      "|[2.9729626401141958]|      2.0|       3.0|0.0|[0.28994926881088...|       [0.0]|            40|     0|[2.97296264011419...|\n",
      "| [3.811490564248969]|      2.0|       2.0|0.0|               [0.0]|       [0.0]|            13|     0|[3.81149056424896...|\n",
      "|[2.8967328288292165]|      0.0|       8.0|0.0|               [0.0]|       [0.0]|            40|     0|(7,[0,2,6],[2.896...|\n",
      "| [4.040179998103907]|      5.0|       8.0|0.0|               [0.0]|       [0.0]|            40|     0|[4.04017999810390...|\n",
      "|[2.1344347159794226]|      2.0|       0.0|1.0|               [0.0]|       [0.0]|            40|     0|[2.13443471597942...|\n",
      "| [2.820503017544237]|      3.0|       2.0|1.0|               [0.0]|       [0.0]|            40|     0|[2.82050301754423...|\n",
      "|[3.7352607529639896]|     10.0|       5.0|1.0|               [0.0]|       [0.0]|            16|     0|[3.73526075296398...|\n",
      "| [3.963950186818928]|      0.0|       2.0|0.0|               [0.0]|       [0.0]|            45|     1|(7,[0,2,6],[3.963...|\n",
      "| [2.363124149834361]|      3.0|       0.0|1.0|[1.8784017948171405]|       [0.0]|            50|     1|[2.36312414983436...|\n",
      "| [3.201652073969134]|      2.0|       2.0|0.0|[0.6905967405256428]|       [0.0]|            40|     1|[3.20165207396913...|\n",
      "| [2.820503017544237]|      1.0|       2.0|0.0|               [0.0]|       [0.0]|            80|     1|[2.82050301754423...|\n",
      "|[2.2868943385493816]|      2.0|       0.0|0.0|               [0.0]|       [0.0]|            40|     1|(7,[0,1,6],[2.286...|\n",
      "|[1.7532856595545259]|      2.0|       3.0|1.0|               [0.0]|       [0.0]|            30|     0|[1.75328565955452...|\n",
      "|  [2.43935396111934]|      6.0|       4.0|0.0|               [0.0]|       [0.0]|            50|     0|[2.43935396111934...|\n",
      "|[3.0491924513991755]|      4.0|       1.0|0.0|               [0.0]|       [0.0]|            40|     1|[3.04919245139917...|\n",
      "| [2.591813583689299]|      8.0|       7.0|0.0|               [0.0]|       [0.0]|            45|     0|[2.59181358368929...|\n",
      "|[1.9057452821244845]|      0.0|       9.0|0.0|               [0.0]|       [0.0]|            35|     0|(7,[0,2,6],[1.905...|\n",
      "|  [2.43935396111934]|      0.0|       6.0|0.0|               [0.0]|       [0.0]|            40|     0|(7,[0,2,6],[2.439...|\n",
      "|[2.8967328288292165]|      5.0|       4.0|0.0|               [0.0]|       [0.0]|            50|     0|[2.89673282882921...|\n",
      "|[3.2778818852541134]|      3.0|       2.0|1.0|               [0.0]|       [0.0]|            45|     1|[3.27788188525411...|\n",
      "+--------------------+---------+----------+---+--------------------+------------+--------------+------+--------------------+\n",
      "only showing top 20 rows\n",
      "\n"
     ]
    }
   ],
   "source": [
    "assembler_data.show()"
   ]
  },
  {
   "cell_type": "code",
   "execution_count": 40,
   "metadata": {},
   "outputs": [],
   "source": [
    "train_data,test_data = assembler_data.randomSplit([0.8,0.2],seed=42)"
   ]
  },
  {
   "cell_type": "code",
   "execution_count": 41,
   "metadata": {},
   "outputs": [
    {
     "name": "stderr",
     "output_type": "stream",
     "text": [
      "[Stage 53:>                                                         (0 + 1) / 1]\r"
     ]
    },
    {
     "name": "stdout",
     "output_type": "stream",
     "text": [
      "+--------------------+---------+----------+---+--------------------+------------+--------------+------+--------------------+\n",
      "|                 age|education|occupation|sex|        capital_gain|capital_loss|hours_per_week|salary|            features|\n",
      "+--------------------+---------+----------+---+--------------------+------------+--------------+------+--------------------+\n",
      "|[1.2959067918446494]|      0.0|       3.0|0.0|               [0.0]|       [0.0]|            20|     0|(7,[0,2,6],[1.295...|\n",
      "|[1.2959067918446494]|      0.0|       4.0|1.0|               [0.0]|       [0.0]|            20|     0|[1.29590679184464...|\n",
      "|[1.2959067918446494]|      0.0|       5.0|0.0|               [0.0]|       [0.0]|            35|     0|(7,[0,2,6],[1.295...|\n",
      "|[1.2959067918446494]|      0.0|       5.0|0.0|               [0.0]|       [0.0]|            40|     0|(7,[0,2,6],[1.295...|\n",
      "|[1.2959067918446494]|      0.0|       9.0|0.0|               [0.0]|       [0.0]|            40|     0|(7,[0,2,6],[1.295...|\n",
      "|[1.2959067918446494]|      1.0|       3.0|0.0|               [0.0]|       [0.0]|            20|     0|[1.29590679184464...|\n",
      "|[1.2959067918446494]|      5.0|       0.0|0.0|               [0.0]|       [0.0]|            20|     0|(7,[0,1,6],[1.295...|\n",
      "|[1.2959067918446494]|      5.0|       0.0|0.0|               [0.0]|       [0.0]|            40|     0|(7,[0,1,6],[1.295...|\n",
      "|[1.2959067918446494]|      5.0|       0.0|1.0|               [0.0]|       [0.0]|            20|     0|[1.29590679184464...|\n",
      "|[1.2959067918446494]|      5.0|       0.0|1.0|               [0.0]|       [0.0]|            20|     0|[1.29590679184464...|\n",
      "|[1.2959067918446494]|      5.0|       1.0|0.0|               [0.0]|       [0.0]|            10|     0|[1.29590679184464...|\n",
      "|[1.2959067918446494]|      5.0|       1.0|0.0|               [0.0]|       [0.0]|            16|     0|[1.29590679184464...|\n",
      "|[1.2959067918446494]|      5.0|       1.0|0.0|               [0.0]|       [0.0]|            17|     0|[1.29590679184464...|\n",
      "|[1.2959067918446494]|      5.0|       1.0|0.0|               [0.0]|       [0.0]|            20|     0|[1.29590679184464...|\n",
      "|[1.2959067918446494]|      5.0|       1.0|0.0|               [0.0]|       [0.0]|            30|     0|[1.29590679184464...|\n",
      "|[1.2959067918446494]|      5.0|       1.0|0.0|[0.07922256930711...|       [0.0]|            40|     0|[1.29590679184464...|\n",
      "|[1.2959067918446494]|      5.0|       1.0|1.0|               [0.0]|       [0.0]|            15|     0|[1.29590679184464...|\n",
      "|[1.2959067918446494]|      5.0|       3.0|0.0|               [0.0]|       [0.0]|            15|     0|[1.29590679184464...|\n",
      "|[1.2959067918446494]|      5.0|       3.0|0.0|               [0.0]|       [0.0]|            40|     0|[1.29590679184464...|\n",
      "|[1.2959067918446494]|      5.0|       3.0|1.0|               [0.0]|       [0.0]|             8|     0|[1.29590679184464...|\n",
      "+--------------------+---------+----------+---+--------------------+------------+--------------+------+--------------------+\n",
      "only showing top 20 rows\n",
      "\n"
     ]
    },
    {
     "name": "stderr",
     "output_type": "stream",
     "text": [
      "                                                                                \r"
     ]
    }
   ],
   "source": [
    "train_data.show()"
   ]
  },
  {
   "cell_type": "markdown",
   "metadata": {},
   "source": [
    "# Training the model"
   ]
  },
  {
   "cell_type": "markdown",
   "metadata": {},
   "source": [
    "Using Logistic Regression"
   ]
  },
  {
   "cell_type": "code",
   "execution_count": 42,
   "metadata": {},
   "outputs": [],
   "source": [
    "from pyspark.ml.classification import LogisticRegression"
   ]
  },
  {
   "cell_type": "markdown",
   "metadata": {},
   "source": [
    "Implementing Logistic regression by passing features and label"
   ]
  },
  {
   "cell_type": "code",
   "execution_count": 43,
   "metadata": {},
   "outputs": [
    {
     "name": "stderr",
     "output_type": "stream",
     "text": [
      "                                                                                \r"
     ]
    },
    {
     "name": "stdout",
     "output_type": "stream",
     "text": [
      "+--------------------+---------+----------+---+--------------------+------------+--------------+------+--------------------+--------------------+--------------------+----------+\n",
      "|                 age|education|occupation|sex|        capital_gain|capital_loss|hours_per_week|salary|            features|       rawPrediction|         probability|prediction|\n",
      "+--------------------+---------+----------+---+--------------------+------------+--------------+------+--------------------+--------------------+--------------------+----------+\n",
      "|[1.2959067918446494]|      0.0|       4.0|1.0|               [0.0]|       [0.0]|            20|     0|[1.29590679184464...|[4.11600031867852...|[0.98395211739413...|       0.0|\n",
      "|[1.2959067918446494]|      1.0|       1.0|0.0|               [0.0]|       [0.0]|            16|     0|[1.29590679184464...|[2.72600616617521...|[0.93854387884635...|       0.0|\n",
      "|[1.2959067918446494]|      5.0|       0.0|0.0|               [0.0]|       [0.0]|            15|     0|(7,[0,1,6],[1.295...|[2.60751899347829...|[0.93134392439007...|       0.0|\n",
      "|[1.2959067918446494]|      5.0|       0.0|1.0|               [0.0]|       [0.0]|            40|     0|[1.29590679184464...|[2.77561314781683...|[0.94134368958603...|       0.0|\n",
      "|[1.2959067918446494]|      5.0|       1.0|0.0|               [0.0]|       [0.0]|            35|     0|[1.29590679184464...|[1.99733666863469...|[0.88051716154607...|       0.0|\n",
      "|[1.2959067918446494]|      5.0|       3.0|0.0|               [0.0]|       [0.0]|            16|     0|[1.29590679184464...|[2.99790967534507...|[0.95247960354963...|       0.0|\n",
      "|[1.2959067918446494]|      5.0|       3.0|1.0|               [0.0]|       [0.0]|            15|     0|[1.29590679184464...|[4.14472211894356...|[0.98439939669803...|       0.0|\n",
      "|[1.2959067918446494]|      5.0|       3.0|1.0|               [0.0]|       [0.0]|            32|     0|[1.29590679184464...|[3.50479092981206...|[0.97082377872311...|       0.0|\n",
      "|[1.2959067918446494]|      5.0|       4.0|0.0|               [0.0]|       [0.0]|            20|     0|[1.29590679184464...|[2.99001552850759...|[0.95212101804668...|       0.0|\n",
      "|[1.2959067918446494]|      5.0|       4.0|0.0|               [0.0]|       [0.0]|            20|     0|[1.29590679184464...|[2.99001552850759...|[0.95212101804668...|       0.0|\n",
      "|[1.2959067918446494]|      5.0|       4.0|0.0|               [0.0]|       [0.0]|            20|     0|[1.29590679184464...|[2.99001552850759...|[0.95212101804668...|       0.0|\n",
      "|[1.2959067918446494]|      5.0|       4.0|0.0|               [0.0]|       [0.0]|            30|     0|[1.29590679184464...|[2.61358541725377...|[0.93173081263750...|       0.0|\n",
      "|[1.2959067918446494]|      5.0|       4.0|1.0|               [0.0]|       [0.0]|             8|     0|[1.29590679184464...|[4.55090109448530...|[0.98955261360845...|       0.0|\n",
      "|[1.2959067918446494]|      5.0|       4.0|1.0|               [0.0]|       [0.0]|            12|     0|[1.29590679184464...|[4.40032904998377...|[0.98787550684132...|       0.0|\n",
      "|[1.2959067918446494]|      5.0|       4.0|1.0|               [0.0]|       [0.0]|            15|     0|[1.29590679184464...|[4.28740001660762...|[0.98644564084705...|       0.0|\n",
      "|[1.2959067918446494]|      5.0|       4.0|1.0|               [0.0]|       [0.0]|            20|     0|[1.29590679184464...|[4.09918496098071...|[0.98368442491544...|       0.0|\n",
      "|[1.2959067918446494]|      5.0|       4.0|1.0|               [0.0]|       [0.0]|            35|     0|[1.29590679184464...|[3.53453979409997...|[0.97165471463203...|       0.0|\n",
      "|[1.2959067918446494]|      5.0|       5.0|0.0|[0.07922256930711...|       [0.0]|            10|     0|[1.29590679184464...|[3.31656660880728...|[0.96499279065107...|       0.0|\n",
      "|[1.2959067918446494]|      5.0|       5.0|1.0|               [0.0]|       [0.0]|            20|     0|[1.29590679184464...|[4.24186285864476...|[0.98582309736323...|       0.0|\n",
      "|[1.2959067918446494]|      5.0|       5.0|1.0|               [0.0]|       [0.0]|            20|     0|[1.29590679184464...|[4.24186285864476...|[0.98582309736323...|       0.0|\n",
      "+--------------------+---------+----------+---+--------------------+------------+--------------+------+--------------------+--------------------+--------------------+----------+\n",
      "only showing top 20 rows\n",
      "\n"
     ]
    },
    {
     "name": "stderr",
     "output_type": "stream",
     "text": [
      "                                                                                \r"
     ]
    }
   ],
   "source": [
    "classification = LogisticRegression(featuresCol=\"features\",labelCol=\"salary\")\n",
    "\n",
    "classification_model = classification.fit(train_data)\n",
    "\n",
    "result_data = classification_model.transform(test_data)\n",
    "\n",
    "result_data.show()\n",
    " "
   ]
  },
  {
   "cell_type": "markdown",
   "metadata": {},
   "source": [
    "# Performance Matrices"
   ]
  },
  {
   "cell_type": "markdown",
   "metadata": {},
   "source": [
    "ROC_AUC"
   ]
  },
  {
   "cell_type": "code",
   "execution_count": 44,
   "metadata": {},
   "outputs": [
    {
     "name": "stderr",
     "output_type": "stream",
     "text": [
      "                                                                                \r"
     ]
    },
    {
     "name": "stdout",
     "output_type": "stream",
     "text": [
      "0.6457431051426803\n"
     ]
    }
   ],
   "source": [
    "# Importing the evaluator\n",
    "from pyspark.ml.evaluation import BinaryClassificationEvaluator\n",
    "  \n",
    "# Calling the evaluator\n",
    "res = BinaryClassificationEvaluator(rawPredictionCol='prediction',labelCol='salary')\n",
    "  \n",
    "# Evaluating the AUC on results\n",
    "ROC_AUC = res.evaluate(result_data)\n",
    "\n",
    "print(ROC_AUC)"
   ]
  },
  {
   "cell_type": "markdown",
   "metadata": {},
   "source": [
    "F1 Score"
   ]
  },
  {
   "cell_type": "code",
   "execution_count": 45,
   "metadata": {},
   "outputs": [
    {
     "name": "stderr",
     "output_type": "stream",
     "text": [
      "[Stage 84:=============================>                            (1 + 1) / 2]\r"
     ]
    },
    {
     "name": "stdout",
     "output_type": "stream",
     "text": [
      "F1 Score: 0.7734794174649425\n"
     ]
    },
    {
     "name": "stderr",
     "output_type": "stream",
     "text": [
      "                                                                                \r"
     ]
    }
   ],
   "source": [
    "from pyspark.ml.evaluation import MulticlassClassificationEvaluator\n",
    "# Convert predicted labels and actual labels to the required format (Double type)\n",
    "predictions = result_data.withColumn(\"prediction\", result_data[\"prediction\"].cast(\"double\"))\n",
    "predictions = result_data.withColumn(\"label\", result_data[\"salary\"].cast(\"double\"))\n",
    "\n",
    "# Evaluate the F1 score\n",
    "\n",
    "evaluator = MulticlassClassificationEvaluator(metricName=\"f1\")\n",
    "f1_score = evaluator.evaluate(predictions)\n",
    "\n",
    "print(\"F1 Score:\", f1_score)"
   ]
  },
  {
   "cell_type": "markdown",
   "metadata": {},
   "source": [
    "Accuracy"
   ]
  },
  {
   "cell_type": "code",
   "execution_count": 46,
   "metadata": {},
   "outputs": [
    {
     "name": "stderr",
     "output_type": "stream",
     "text": [
      "[Stage 86:=============================>                            (1 + 1) / 2]\r"
     ]
    },
    {
     "name": "stdout",
     "output_type": "stream",
     "text": [
      "Accuracy: 0.8011466011466012\n"
     ]
    },
    {
     "name": "stderr",
     "output_type": "stream",
     "text": [
      "                                                                                \r"
     ]
    }
   ],
   "source": [
    "evaluator = MulticlassClassificationEvaluator(metricName=\"accuracy\")\n",
    "accuracy = evaluator.evaluate(predictions)\n",
    "\n",
    "print(\"Accuracy:\", accuracy)"
   ]
  },
  {
   "cell_type": "code",
   "execution_count": null,
   "metadata": {},
   "outputs": [],
   "source": [
    "spark.stop()"
   ]
  }
 ],
 "metadata": {
  "kernelspec": {
   "display_name": "Python 3",
   "language": "python",
   "name": "python3"
  },
  "language_info": {
   "codemirror_mode": {
    "name": "ipython",
    "version": 3
   },
   "file_extension": ".py",
   "mimetype": "text/x-python",
   "name": "python",
   "nbconvert_exporter": "python",
   "pygments_lexer": "ipython3",
   "version": "3.8.10"
  },
  "orig_nbformat": 4
 },
 "nbformat": 4,
 "nbformat_minor": 2
}
